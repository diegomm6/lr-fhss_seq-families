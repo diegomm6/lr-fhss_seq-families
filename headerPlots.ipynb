{
 "cells": [
  {
   "cell_type": "code",
   "execution_count": null,
   "metadata": {},
   "outputs": [],
   "source": [
    "import numpy as np\n",
    "import matplotlib.pyplot as plt\n",
    "import pandas as pd"
   ]
  },
  {
   "cell_type": "markdown",
   "metadata": {},
   "source": [
    "---\n",
    "# packet level collisions CR2 duty cycle 25%"
   ]
  },
  {
   "cell_type": "code",
   "execution_count": null,
   "metadata": {},
   "outputs": [],
   "source": [
    "data25DC = pd.read_csv('NEWresults/data-25DC-CR2.csv', index_col=0, header=None).T\n",
    "nodes = data25DC['nodes'].to_numpy()\n",
    "\n",
    "lifan_CR2_infp_dec_pckts = np.subtract(nodes, data25DC['lifan-CR2-infp-col_pckts'].to_numpy())\n",
    "driver_CR2_infp_dec_pckts = np.subtract(nodes, data25DC['driver-CR2-infp-col_pckts'].to_numpy())\n",
    "lemgreen_CR2_infp_dec_pckts = np.subtract(nodes, np.multiply(nodes, data25DC['lemgreen-CR2-infp-col_pckts'].to_numpy()))\n",
    "\n",
    "plt.figure(figsize=(8,8))\n",
    "\n",
    "#plt.plot(nodes, lifan_CR2_infp_dec_pckts, label=f'li-fan CR2 infp', color='#d62728')\n",
    "plt.plot(nodes, lemgreen_CR2_infp_dec_pckts, label=f'lem-green CR2 infp', color='#d62728')\n",
    "plt.plot(nodes, driver_CR2_infp_dec_pckts, label=f'driver CR2 infp', color='#d62728', linestyle='dashed')\n",
    "\n",
    "#plt.plot(nodes, data25DC['lifan-CR2-100p-dec_pckts'], label=f'li-fan CR2 100p early d/d', color='#1f77b4', marker='$I$')\n",
    "plt.plot(nodes, data25DC['lemgreen-CR2-100p-dec_pckts'], label=f'lem-green CR2 100p early d/d', color='#1f77b4', marker='$I$')\n",
    "plt.plot(nodes, data25DC['driver-CR2-100p-dec_pckts'], label=f'driver CR2 100p early d/d', color='#1f77b4', marker='$I$', linestyle='dotted')\n",
    "\n",
    "#plt.plot(nodes, data25DC['lifan-CR2-100p-dec_pckts-base'], label=f'li-fan CR2 100p base', color='#ff7f0e')\n",
    "plt.plot(nodes, data25DC['lemgreen-CR2-100p-dec_pckts-base'], label=f'lem-green CR2 100p base', color='#ff7f0e')\n",
    "plt.plot(nodes, data25DC['driver-CR2-100p-dec_pckts-base'], label=f'driver CR2 100p base', color='#ff7f0e', linestyle='dashed')\n",
    "\n",
    "#plt.plot(nodes, data25DC['lifan-CR2-1000p-dec_pckts'], label=f'li-fan CR2 1000p early d/d', color='#9467bd', marker='$I$')\n",
    "plt.plot(nodes, data25DC['lemgreen-CR2-1000p-dec_pckts'], label=f'lem-green CR2 1000p early d/d', color='#9467bd', marker='$I$')\n",
    "plt.plot(nodes, data25DC['driver-CR2-1000p-dec_pckts'], label=f'driver CR2 1000p early d/d', color='#9467bd', marker='$I$', linestyle='dotted')\n",
    "\n",
    "#plt.plot(nodes, data25DC['lifan-CR2-1000p-dec_pckts-base'], label=f'li-fan CR2 1000p base', color='#2ca02c')\n",
    "plt.plot(nodes, data25DC['lemgreen-CR2-1000p-dec_pckts-base'], label=f'lem-green CR2 1000p base', color='#2ca02c')\n",
    "plt.plot(nodes, data25DC['driver-CR2-1000p-dec_pckts-base'], label=f'driver CR2 1000p base', color='#2ca02c', linestyle='dashed')\n",
    "\n",
    "\n",
    "plt.title('total decoded packets')\n",
    "plt.xlabel('sent packets')\n",
    "plt.xscale('log')\n",
    "plt.ylabel('decoded packets')\n",
    "plt.xlim(1e2,1e4)\n",
    "plt.grid()\n",
    "plt.legend()\n",
    "plt.show()"
   ]
  }
 ],
 "metadata": {
  "language_info": {
   "name": "python"
  },
  "orig_nbformat": 4
 },
 "nbformat": 4,
 "nbformat_minor": 2
}
