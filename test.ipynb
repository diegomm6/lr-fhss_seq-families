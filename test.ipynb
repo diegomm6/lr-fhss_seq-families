{
 "cells": [
  {
   "cell_type": "code",
   "execution_count": 19,
   "metadata": {},
   "outputs": [],
   "source": [
    "import numpy as np\n",
    "import galois\n",
    "import hashlib\n",
    "import matplotlib.pyplot as plt\n",
    "\n",
    "from itertools import permutations"
   ]
  },
  {
   "attachments": {},
   "cell_type": "markdown",
   "metadata": {},
   "source": [
    "---\n",
    "# base functions"
   ]
  },
  {
   "cell_type": "code",
   "execution_count": 20,
   "metadata": {},
   "outputs": [],
   "source": [
    "# Obtain minimal gap between adyacent values for sequence X\n",
    "def get_min_gap(X):\n",
    "    gap = np.inf\n",
    "    q = len(X)\n",
    "\n",
    "    for i in range(q):\n",
    "\n",
    "        d = abs(X[(i+1) % q] - X[i])\n",
    "\n",
    "        if d < gap:\n",
    "            gap = d\n",
    "\n",
    "    return gap\n",
    "\n",
    "\n",
    "# Transform number n to base b\n",
    "def numberToBase(n, b):\n",
    "    if n == 0:\n",
    "        return [0]\n",
    "    digits = []\n",
    "    while n:\n",
    "        digits.append(int(n % b))\n",
    "        n //= b\n",
    "    return digits[::-1]\n",
    "\n",
    "\n",
    "# hamming correlation with shift 0 for sequences\n",
    "# u and v with the same length (assumed)\n",
    "def hamming_correlation(u,v):\n",
    "    u_eq_v = u == v\n",
    "    return u_eq_v.sum()\n",
    "\n",
    "# maximal hamming correlation for sequences\n",
    "# u and v with the same length (assumed)\n",
    "def maxHC(u,v):\n",
    "\n",
    "    start = 0\n",
    "    if np.array_equal(u,v): start = 1\n",
    "\n",
    "    current_maxHC = 0\n",
    "    for shift in range(start, len(u)):\n",
    "\n",
    "        hc = hamming_correlation(u, np.roll(v, shift))\n",
    "        \n",
    "        if hc > current_maxHC:\n",
    "            current_maxHC = hc\n",
    "    \n",
    "    return current_maxHC\n",
    "\n",
    "\n",
    "# average hamming auto correlation for a family of\n",
    "# sequences with the same length (assumed)\n",
    "def avg_autoHC(fam):\n",
    "    _avgHC = 0\n",
    "    M, L = fam.shape\n",
    "    for i in range(M):\n",
    "        for shift in range(1, L):\n",
    "            _avgHC += hamming_correlation(fam[i], np.roll(fam[i], shift))\n",
    "\n",
    "    return _avgHC / (M * (L-1))\n",
    "\n",
    "\n",
    "# average hamming cross correlation for a family of\n",
    "# sequences with the same length (assumed)\n",
    "def avg_crossHC(fam):\n",
    "    _avgHC = 0\n",
    "    M, L = fam.shape\n",
    "    for i in range(M):\n",
    "        for j in range(i):\n",
    "            for shift in range(L):\n",
    "                _avgHC += hamming_correlation(fam[i], np.roll(fam[j], shift))\n",
    "\n",
    "    n = M * (M-1) / 2\n",
    "    return _avgHC / (L*n)\n",
    "\n",
    "\n",
    "# average maximal hamming correlation for all paris of\n",
    "# sequences from a single family\n",
    "def avg_maxHC(fam):\n",
    "    mean = 0\n",
    "    s = len(fam)\n",
    "    for i in range(s):\n",
    "        for j in range(i+1):\n",
    "            mean += maxHC(fam[i], fam[j])\n",
    "\n",
    "    n = s * (s+1) / 2\n",
    "    return mean / n\n",
    "\n",
    "\n",
    "# average maximal hamming correlation for all paris of\n",
    "# sequences from two families\n",
    "def avg_maxHC_2fam(fam1, fam2):\n",
    "    mean = 0\n",
    "    s = len(fam1)\n",
    "    for i in range(s):\n",
    "        for j in range(s):\n",
    "            mean += maxHC(fam1[i], fam2[j])\n",
    "        \n",
    "    n = s**2\n",
    "    return mean / n"
   ]
  },
  {
   "attachments": {},
   "cell_type": "markdown",
   "metadata": {},
   "source": [
    "---\n",
    "# 1st method (family)\n",
    "\n",
    "Generates a family of sequences with optimal maximal hammig correlation from a single m-sequence\n",
    "\n",
    ".\n",
    "\n",
    "Generated sequences have length q = p^n - 1\n",
    "\n",
    "over an alphabet A of size |A| = p^k\n",
    "\n",
    "for any given prime number p\n",
    "\n",
    "and integers k,n s.t. 1 <= k <= n\n",
    "\n",
    ".\n",
    "\n",
    "\n",
    "[1] Lempel, A., & Greenberger, H. (1974). Families of sequences with optimal Hamming-correlation properties. IEEE Transactions on Information Theory, 20(1), 90-94.\n"
   ]
  },
  {
   "cell_type": "code",
   "execution_count": 3,
   "metadata": {},
   "outputs": [],
   "source": [
    "\"\"\"\n",
    "maps a sequence X in P^k to a value in P_k\n",
    "where P^k is the set of all words of length k over P\n",
    "P is the finite field (GF) of order p, i.e. P = {0, 1, ..., p-1}\n",
    "P_k is the finite field (GF) of order p^k, i.e. P_k = {0, 1, ..., p^k-1}\n",
    "\"\"\"\n",
    "def sigma_transform(X, p, k):\n",
    "\n",
    "    Y = []\n",
    "    q = len(X)\n",
    "    for j in range(q):\n",
    "\n",
    "        y_j = 0\n",
    "        for i in range(k):\n",
    "            y_j += X[(j+i) % q] * p**i\n",
    "\n",
    "        Y.append(y_j)\n",
    "\n",
    "    return Y\n",
    "\n",
    "\n",
    "\"\"\"\n",
    "Following the construction presented in [1]\n",
    "given an m-sequence X of length q = p^n - 1 over GF(p)\n",
    "where p is a prime number\n",
    "then for each k s.t. 1 <= k <= n, the set F of p^k\n",
    "sequences is an optimal family\n",
    "\n",
    "a variation of the sigma transform is used\n",
    "\"\"\"\n",
    "def optimal_family(X, p, k):\n",
    "\n",
    "    family = []\n",
    "    q = len(X)\n",
    "    for v in range(p**k):\n",
    "\n",
    "        z = numberToBase(v, p)\n",
    "        while len(z) < k:\n",
    "            z.insert(0,0)\n",
    "        z.reverse()\n",
    "\n",
    "        Y = []\n",
    "        for j in range(q):\n",
    "\n",
    "            y_j = 0\n",
    "            for i in range(k):\n",
    "                y_j += ( ( X[ (j+i) % q] + z[i]) % p ) * p**i\n",
    "\n",
    "            Y.append(y_j)\n",
    "\n",
    "        family.append(Y)\n",
    "        #print(f\"Y{v} = \", Y)\n",
    "\n",
    "    return np.array(family)"
   ]
  },
  {
   "cell_type": "code",
   "execution_count": 4,
   "metadata": {},
   "outputs": [],
   "source": [
    "# test from [1]\n",
    "# n = 3, then q = len(X) = p^n - 1 = 3^3 - 1 = 26\n",
    "X = [0,0,1,1,1,0,2,1,1,2,1,0,1,0,0,2,2,2,0,1,2,2,1,2,0,2]\n",
    "testfam = optimal_family(X, 3, 2)"
   ]
  },
  {
   "attachments": {},
   "cell_type": "markdown",
   "metadata": {},
   "source": [
    "### test for lora m = 2**5 = 32 frequencies"
   ]
  },
  {
   "cell_type": "code",
   "execution_count": 225,
   "metadata": {},
   "outputs": [],
   "source": [
    "polys = galois.primitive_polys(2, 5)\n",
    "poly1 = next(polys)\n",
    "poly2 = next(polys)\n",
    "\n",
    "lfsr1 = galois.GLFSR(poly1.reverse())\n",
    "lfsr2 = galois.GLFSR(poly2.reverse())"
   ]
  },
  {
   "cell_type": "code",
   "execution_count": 226,
   "metadata": {},
   "outputs": [
    {
     "name": "stdout",
     "output_type": "stream",
     "text": [
      "(32, 31)\n",
      "family avg cross HC = 0.96774\n",
      "family avg auto HC = 0.0\n",
      "family max HC = 0.93939\n"
     ]
    }
   ],
   "source": [
    "p = 2\n",
    "k = 5\n",
    "n = 5\n",
    "q = p**n - 1\n",
    "\n",
    "x1 = lfsr1.step(q)\n",
    "\n",
    "method1_fam = optimal_family(np.array(x1), p, k)\n",
    "method1_fam = method1_fam *8\n",
    "\n",
    "print(method1_fam.shape)\n",
    "print(f\"family avg cross HC = {round(avg_crossHC(method1_fam),5)}\")\n",
    "print(f\"family avg auto HC = {round(avg_autoHC(method1_fam),5)}\")\n",
    "print(f\"family max HC = {round(avg_maxHC(method1_fam),5)}\")"
   ]
  },
  {
   "cell_type": "code",
   "execution_count": 227,
   "metadata": {},
   "outputs": [
    {
     "name": "stdout",
     "output_type": "stream",
     "text": [
      "(32, 31)\n",
      "family avg cross HC = 0.96774\n",
      "family avg auto HC = 0.0\n",
      "family max HC = 0.93939\n"
     ]
    }
   ],
   "source": [
    "x2 = lfsr2.step(q)\n",
    "\n",
    "method1_fam2 = optimal_family(np.array(x2), p, k)\n",
    "method1_fam2 = method1_fam2 *8\n",
    "\n",
    "print(method1_fam2.shape)\n",
    "print(f\"family avg cross HC = {round(avg_crossHC(method1_fam2),5)}\")\n",
    "print(f\"family avg auto HC = {round(avg_autoHC(method1_fam2),5)}\")\n",
    "print(f\"family max HC = {round(avg_maxHC(method1_fam2),5)}\")"
   ]
  },
  {
   "cell_type": "code",
   "execution_count": 228,
   "metadata": {},
   "outputs": [
    {
     "name": "stdout",
     "output_type": "stream",
     "text": [
      "(64, 31)\n",
      "family avg cross HC = 0.96825\n",
      "family avg auto HC = 0.0\n",
      "family max HC = 2.10769\n"
     ]
    }
   ],
   "source": [
    "method1_fam3 = np.concatenate((method1_fam, method1_fam2))\n",
    "\n",
    "print(method1_fam3.shape)\n",
    "print(f\"family avg cross HC = {round(avg_crossHC(method1_fam3),5)}\")\n",
    "print(f\"family avg auto HC = {round(avg_autoHC(method1_fam3),5)}\")\n",
    "print(f\"family max HC = {round(avg_maxHC(method1_fam3),5)}\")"
   ]
  },
  {
   "cell_type": "code",
   "execution_count": 229,
   "metadata": {},
   "outputs": [
    {
     "data": {
      "text/plain": [
       "array([[ 56,  24, 136, ..., 240, 248, 120],\n",
       "       [ 48,  16, 128, ..., 248, 240, 112],\n",
       "       [ 40,   8, 152, ..., 224, 232, 104],\n",
       "       ...,\n",
       "       [112,  32, 136, ...,  16, 144, 208],\n",
       "       [104,  56, 144, ...,   8, 136, 200],\n",
       "       [ 96,  48, 152, ...,   0, 128, 192]])"
      ]
     },
     "execution_count": 229,
     "metadata": {},
     "output_type": "execute_result"
    }
   ],
   "source": [
    "method1_fam3"
   ]
  },
  {
   "attachments": {},
   "cell_type": "markdown",
   "metadata": {},
   "source": [
    "---\n",
    "# 2nd method (sequence)\n",
    "\n",
    "Generates a wide gap sequence with minimum gap e and optimal maximal hamming autocorrelation\n",
    "\n",
    ".\n",
    "\n",
    "let X be a WGFHS of length q\n",
    "\n",
    "over alphabet A of size |A| = l\n",
    "\n",
    "with minimum gap e\n",
    "\n",
    "and maximal hamming autocorrelation h\n",
    "\n",
    "then X is defined by the parameters (q, l, h, e)\n",
    ".\n",
    "\n",
    "\n"
   ]
  },
  {
   "cell_type": "code",
   "execution_count": 27,
   "metadata": {},
   "outputs": [],
   "source": [
    "\"\"\"\n",
    "let l, d s.t. 1 < d < l/2\n",
    "& gcd(l, d) = gcd(l, d+1) = 1\n",
    "\n",
    "generate an optimal WGFHS with parameters (2*l, l, 2, d-1)\n",
    "\"\"\"\n",
    "def get_2l_sequence(l, d):\n",
    "    s = []\n",
    "    t = []\n",
    "\n",
    "    for i in range(l):\n",
    "        s.append( (i*d) % l )\n",
    "        t.append( (i*(d+1) + 1) % l )\n",
    "\n",
    "    return np.array(s + t)\n",
    "\n",
    "\n",
    "\"\"\"\n",
    "let l, d s.t. 1 < d < (l-1)/2\n",
    "& gcd(l, d) = gcd(l, d+1) = gcd(l, d+2) = 1\n",
    "\n",
    "generate an optimal WGFHS with parameters (3*l, l, 3, d-1)\n",
    "\"\"\"\n",
    "def get_3l_sequence(l, d):\n",
    "    s = []\n",
    "    t = []\n",
    "    u = []\n",
    "\n",
    "    for i in range(l):\n",
    "        s.append( (i*d) % l )\n",
    "        t.append( (i*(d+1) + 1) % l )\n",
    "        u.append( (i*(d+2) + 2) % l )\n",
    "\n",
    "    return np.array(s + t + u)\n",
    "\n",
    "\n",
    "# greatest common division\n",
    "def gcd(a, b):\n",
    "    if(b == 0): return abs(a)\n",
    "    else: return gcd(b, a % b)\n",
    "\n",
    "\n",
    "def split_seq(q, seq):\n",
    "    family = []\n",
    "    i=0\n",
    "    j=q\n",
    "    while j < len(seq):\n",
    "        family.append(seq[i:j])\n",
    "        i+=q\n",
    "        j+=q\n",
    "\n",
    "    return np.array(family)\n",
    "\n",
    "# delete frequences above the maximum, raises error if it\n",
    "# disrupts the minimum gap property\n",
    "def filter_freq(seq):\n",
    "    newseq = np.delete(seq, np.where(seq >= 280)[0])\n",
    "    assert get_min_gap(newseq) == 8, \"couldn't filter sequences while preserving minimum gap\"\n",
    "    return newseq\n"
   ]
  },
  {
   "attachments": {},
   "cell_type": "markdown",
   "metadata": {},
   "source": [
    "#### 3*l seq"
   ]
  },
  {
   "cell_type": "code",
   "execution_count": 83,
   "metadata": {},
   "outputs": [
    {
     "name": "stdout",
     "output_type": "stream",
     "text": [
      "a=1\tb=1\tc=1\n",
      "(26, 31)\n",
      "family avg cross HC = 0.07752\n",
      "family avg auto HC = 0.0\n",
      "family max HC = 0.7037\n"
     ]
    }
   ],
   "source": [
    "l = 277\n",
    "d = 8\n",
    "\n",
    "print(f\"a={gcd(l, d)}\\tb={gcd(l, d+1)}\\tc={gcd(l, d+2)}\")\n",
    "\n",
    "x = get_3l_sequence(l, d)\n",
    "method2_fam1 = split_seq(31, x)\n",
    "\n",
    "print(method2_fam1.shape)\n",
    "print(f\"family avg cross HC = {round(avg_crossHC(method2_fam1),5)}\")\n",
    "print(f\"family avg auto HC = {round(avg_autoHC(method2_fam1),5)}\")\n",
    "print(f\"family max HC = {round(avg_maxHC(method2_fam1),5)}\")"
   ]
  },
  {
   "cell_type": "code",
   "execution_count": 84,
   "metadata": {},
   "outputs": [
    {
     "name": "stdout",
     "output_type": "stream",
     "text": [
      "a=1\tb=1\tc=1\n",
      "(27, 31)\n",
      "family avg cross HC = 0.07665\n",
      "family avg auto HC = 0.0\n",
      "family max HC = 0.69048\n"
     ]
    }
   ],
   "source": [
    "l = 281\n",
    "d = 8\n",
    "\n",
    "print(f\"a={gcd(l, d)}\\tb={gcd(l, d+1)}\\tc={gcd(l, d+2)}\")\n",
    "\n",
    "x = get_3l_sequence(l, d)\n",
    "xx = filter_freq(x)\n",
    "method2_fam2 = split_seq(31, xx)\n",
    "\n",
    "print(method2_fam2.shape)\n",
    "print(f\"family avg cross HC = {round(avg_crossHC(method2_fam2),5)}\")\n",
    "print(f\"family avg auto HC = {round(avg_autoHC(method2_fam2),5)}\")\n",
    "print(f\"family max HC = {round(avg_maxHC(method2_fam2),5)}\")"
   ]
  },
  {
   "cell_type": "code",
   "execution_count": 85,
   "metadata": {},
   "outputs": [
    {
     "name": "stdout",
     "output_type": "stream",
     "text": [
      "a=1\tb=1\tc=1\n",
      "(27, 31)\n",
      "family avg cross HC = 0.07665\n",
      "family avg auto HC = 0.0\n",
      "family max HC = 0.74603\n"
     ]
    }
   ],
   "source": [
    "l = 283\n",
    "d = 8\n",
    "\n",
    "print(f\"a={gcd(l, d)}\\tb={gcd(l, d+1)}\\tc={gcd(l, d+2)}\")\n",
    "\n",
    "x = get_3l_sequence(l, d)\n",
    "xx = filter_freq(x)\n",
    "method2_fam3 = split_seq(31, xx)\n",
    "\n",
    "print(method2_fam3.shape)\n",
    "print(f\"family avg cross HC = {round(avg_crossHC(method2_fam3),5)}\")\n",
    "print(f\"family avg auto HC = {round(avg_autoHC(method2_fam3),5)}\")\n",
    "print(f\"family max HC = {round(avg_maxHC(method2_fam3),5)}\")"
   ]
  },
  {
   "cell_type": "code",
   "execution_count": 86,
   "metadata": {},
   "outputs": [
    {
     "name": "stdout",
     "output_type": "stream",
     "text": [
      "a=1\tb=1\tc=1\n",
      "(27, 31)\n",
      "family avg cross HC = 0.07665\n",
      "family avg auto HC = 0.0\n",
      "family max HC = 0.71164\n"
     ]
    }
   ],
   "source": [
    "l = 287\n",
    "d = 8\n",
    "\n",
    "print(f\"a={gcd(l, d)}\\tb={gcd(l, d+1)}\\tc={gcd(l, d+2)}\")\n",
    "\n",
    "x = get_3l_sequence(l, d)\n",
    "xx = filter_freq(x)\n",
    "method2_fam4 = split_seq(31, xx)\n",
    "\n",
    "print(method2_fam4.shape)\n",
    "print(f\"family avg cross HC = {round(avg_crossHC(method2_fam4),5)}\")\n",
    "print(f\"family avg auto HC = {round(avg_autoHC(method2_fam4),5)}\")\n",
    "print(f\"family max HC = {round(avg_maxHC(method2_fam4),5)}\")"
   ]
  },
  {
   "cell_type": "code",
   "execution_count": 87,
   "metadata": {},
   "outputs": [
    {
     "name": "stdout",
     "output_type": "stream",
     "text": [
      "(107, 31)\n",
      "family avg cross HC = 0.10251\n",
      "family avg auto HC = 0.0\n",
      "family max HC = 1.56646\n"
     ]
    }
   ],
   "source": [
    "method2_fam5 = np.concatenate((method2_fam1, method2_fam2, method2_fam3, method2_fam4))\n",
    "\n",
    "print(method2_fam5.shape)\n",
    "print(f\"family avg cross HC = {round(avg_crossHC(method2_fam5),5)}\")\n",
    "print(f\"family avg auto HC = {round(avg_autoHC(method2_fam5),5)}\")\n",
    "print(f\"family max HC = {round(avg_maxHC(method2_fam5),5)}\")"
   ]
  },
  {
   "attachments": {},
   "cell_type": "markdown",
   "metadata": {},
   "source": [
    "---\n",
    "# LR-FHSS FHS with 32 bit sha256 hash function  "
   ]
  },
  {
   "cell_type": "code",
   "execution_count": 88,
   "metadata": {},
   "outputs": [],
   "source": [
    "# obw to transmit fragment k for node x \n",
    "def get_obw(x, k):\n",
    "\n",
    "    i = x + k * 2**16\n",
    "    i = int.to_bytes(i, 4, 'little')\n",
    "\n",
    "    h = int.from_bytes(hashlib.sha256(i).digest()[:4], 'little')\n",
    "\n",
    "    return ( h % 35 ) * 8\n",
    "\n",
    "\n",
    "# q length sequence of owb's for node x\n",
    "def get_hashFHS(x, q):\n",
    "    fhs = []\n",
    "    for k in range(q):\n",
    "        fhs.append(get_obw(x, k))\n",
    "        \n",
    "    return fhs\n",
    "\n",
    "\n",
    "# all possible fhs of length q\n",
    "def get_hashFamily(q):\n",
    "    fam = []\n",
    "    for x in range(2**9):\n",
    "        fam.append(get_hashFHS(x, q))\n",
    "\n",
    "    return np.array(fam)"
   ]
  },
  {
   "cell_type": "code",
   "execution_count": 89,
   "metadata": {},
   "outputs": [
    {
     "name": "stdout",
     "output_type": "stream",
     "text": [
      "(512, 31)\n",
      "family avg cross HC = 0.88541\n",
      "family avg auto HC = 0.87552\n",
      "family max HC = 3.1984\n"
     ]
    }
   ],
   "source": [
    "q = 31\n",
    "hash_fam = get_hashFamily(q)\n",
    "\n",
    "print(hash_fam.shape)\n",
    "print(f\"family avg cross HC = {round(avg_crossHC(hash_fam),5)}\")\n",
    "print(f\"family avg auto HC = {round(avg_autoHC(hash_fam),5)}\")\n",
    "print(f\"family max HC = {round(avg_maxHC(hash_fam),5)}\")"
   ]
  },
  {
   "attachments": {},
   "cell_type": "markdown",
   "metadata": {},
   "source": [
    "---\n",
    "# real lrfhss sequences"
   ]
  },
  {
   "cell_type": "code",
   "execution_count": 22,
   "metadata": {},
   "outputs": [],
   "source": [
    "def lr_fhss_get_next_state(lfsr_state, polynomial, xoring_seed, n_grid):\n",
    "    \n",
    "    hop = 0\n",
    "    while 1:\n",
    "\n",
    "        lsb = lfsr_state & 1\n",
    "        lfsr_state >>= 1\n",
    "        if lsb:\n",
    "            lfsr_state ^= polynomial\n",
    "\n",
    "        hop = xoring_seed\n",
    "        if hop != lfsr_state:\n",
    "            hop ^= lfsr_state\n",
    "\n",
    "        if hop <= n_grid:\n",
    "            break\n",
    "\n",
    "    return lfsr_state, hop - 1\n",
    "\n",
    "\n",
    "# get lr fhss sequence of length 31\n",
    "def get_lr_fhss_seq(id):\n",
    "    n_grid = 35\n",
    "    lr_fhss_lfsr_poly1 = [33, 45, 48, 51, 54, 57]\n",
    "\n",
    "    lfsr_state = 6\n",
    "    fhs = []\n",
    "\n",
    "    polynomial = lr_fhss_lfsr_poly1[id >> 6]\n",
    "    xoring_seed = id & 0x3F\n",
    "\n",
    "    for _ in range(31):\n",
    "        lfsr_state, hop = lr_fhss_get_next_state(lfsr_state, polynomial, xoring_seed, n_grid)\n",
    "        fhs.append(hop)\n",
    "\n",
    "    #print(f\"id={id}\\tpoly={polynomial}\\tseed={xoring_seed}\\nseq = {fhs}\\n\")\n",
    "\n",
    "    return fhs\n",
    "\n",
    "def get_lr_fhss_family():\n",
    "    fam = []\n",
    "    for id in range(384):\n",
    "        fam.append(get_lr_fhss_seq(id))\n",
    "\n",
    "    return np.array(fam)"
   ]
  },
  {
   "cell_type": "code",
   "execution_count": 26,
   "metadata": {},
   "outputs": [
    {
     "name": "stdout",
     "output_type": "stream",
     "text": [
      "(384, 31)\n",
      "family avg cross HC = 0.88548\n",
      "family avg auto HC = 0.0\n",
      "family max HC = 3.34418\n"
     ]
    }
   ],
   "source": [
    "lr_fhss_family = get_lr_fhss_family()\n",
    "print(lr_fhss_family.shape)\n",
    "print(f\"family avg cross HC = {round(avg_crossHC(lr_fhss_family),5)}\")\n",
    "print(f\"family avg auto HC = {round(avg_autoHC(lr_fhss_family),5)}\")\n",
    "print(f\"family max HC = {round(avg_maxHC(lr_fhss_family),5)}\")"
   ]
  },
  {
   "cell_type": "code",
   "execution_count": 44,
   "metadata": {},
   "outputs": [
    {
     "data": {
      "text/plain": [
       "99"
      ]
     },
     "execution_count": 44,
     "metadata": {},
     "output_type": "execute_result"
    }
   ],
   "source": [
    "def calculate_period(L):\n",
    "    t=0\n",
    "    for l in L[1:]:\n",
    "        t+=1\n",
    "        if l==L[0]: break\n",
    "    return t\n",
    "\n",
    "# lr_fhss_lfsr_poly1[] = { 33, 45, 48, 51, 54, 57 };\n",
    "# lr_fhss_lfsr_poly2[] = { 65, 68, 71, 72 };\n",
    "\n",
    "seq = []\n",
    "lfsr_state = 6\n",
    "poly = 65\n",
    "seed = 0\n",
    "ngrid = 99\n",
    "for _ in range(200):\n",
    "    lfsr_state, hop = lr_fhss_get_next_state(lfsr_state, poly, seed, ngrid)\n",
    "    seq.append(hop)\n",
    "\n",
    "\n",
    "calculate_period(seq)"
   ]
  },
  {
   "cell_type": "code",
   "execution_count": 45,
   "metadata": {},
   "outputs": [
    {
     "name": "stdout",
     "output_type": "stream",
     "text": [
      "[2, 63, 31, 15, 7, 3, 1, 0, 64, 96, 62, 93, 46, 85, 42, 83, 41, 20, 74, 49, 24, 76, 56, 92, 58, 91, 45, 22, 73, 36, 82, 51, 25, 12, 70, 97, 48, 88, 60, 94, 54, 89, 44, 86, 52, 90, 53, 26, 75, 37, 18, 71, 35, 17, 8, 68, 98, 55, 27, 13, 6, 65, 32, 80, 61, 30, 77, 38, 81, 40, 84, 57, 28, 78, 50, 87, 43, 21, 10, 67, 33, 16, 72, 59, 29, 14, 69, 34, 79, 39, 19, 9, 4, 66, 95, 47, 23, 11, 5, 2, 63, 31, 15, 7, 3, 1, 0, 64, 96, 62, 93, 46, 85, 42, 83, 41, 20, 74, 49, 24, 76, 56, 92, 58, 91, 45, 22, 73, 36, 82, 51, 25, 12, 70, 97, 48, 88, 60, 94, 54, 89, 44, 86, 52, 90, 53, 26, 75, 37, 18, 71, 35, 17, 8, 68, 98, 55, 27, 13, 6, 65, 32, 80, 61, 30, 77, 38, 81, 40, 84, 57, 28, 78, 50, 87, 43, 21, 10, 67, 33, 16, 72, 59, 29, 14, 69, 34, 79, 39, 19, 9, 4, 66, 95, 47, 23, 11, 5, 2, 63]\n"
     ]
    }
   ],
   "source": [
    "print(seq)"
   ]
  },
  {
   "attachments": {},
   "cell_type": "markdown",
   "metadata": {},
   "source": [
    "---\n",
    "# OC WG FHS paper from 1997"
   ]
  },
  {
   "cell_type": "code",
   "execution_count": 14,
   "metadata": {},
   "outputs": [],
   "source": [
    "def cond1(L, k, q):\n",
    "    c1 = True\n",
    "    for i in range(k):\n",
    "        if L[i] + L[i+k] != q:\n",
    "            c1 = False\n",
    "\n",
    "    return c1\n",
    "\n",
    "\n",
    "def contains_duplicates(X):\n",
    "    return len(np.unique(X)) != len(X)\n",
    "\n",
    "\n",
    "def get_D_val(L, n, j, q):\n",
    "    l = len(L)\n",
    "    return sum( [ L[i % l] for i in range(n, n+j) ] ) % q\n",
    "\n",
    "\n",
    "def cond2(L, k, q):\n",
    "    c2 = True\n",
    "    for j in range(2, k+1):\n",
    "        Darray = [get_D_val(L, n, j, q) for n in range(2*k)]\n",
    "        if contains_duplicates(Darray):\n",
    "            c2 = False\n",
    "\n",
    "    return c2  \n",
    "\n",
    "\n",
    "def get_generator_seq(q, d):\n",
    "\n",
    "    k = (q - 2*d - 1) // 2\n",
    "    L = [i for i in range(d+1, q-d)]\n",
    "\n",
    "    for C in permutations(L, 2*k):\n",
    "        if cond1(C, k, q) and cond2(C, k, q):\n",
    "            return C\n",
    "        \n",
    "    return []"
   ]
  },
  {
   "cell_type": "code",
   "execution_count": 63,
   "metadata": {},
   "outputs": [
    {
     "data": {
      "text/plain": [
       "(1, 2, 4, 8, 3, 6, 12, 11, 9, 5, 10, 7)"
      ]
     },
     "execution_count": 63,
     "metadata": {},
     "output_type": "execute_result"
    }
   ],
   "source": [
    "q = 13\n",
    "d = 0\n",
    "\n",
    "x = get_generator_seq(q,d)\n",
    "x"
   ]
  },
  {
   "cell_type": "code",
   "execution_count": 66,
   "metadata": {},
   "outputs": [
    {
     "name": "stdout",
     "output_type": "stream",
     "text": [
      "Unexpected exception formatting exception. Falling back to standard exception\n"
     ]
    },
    {
     "name": "stderr",
     "output_type": "stream",
     "text": [
      "Traceback (most recent call last):\n",
      "  File \"C:\\Users\\diego\\AppData\\Local\\Packages\\PythonSoftwareFoundation.Python.3.10_qbz5n2kfra8p0\\LocalCache\\local-packages\\Python310\\site-packages\\IPython\\core\\interactiveshell.py\", line 3378, in run_code\n",
      "    exec(code_obj, self.user_global_ns, self.user_ns)\n",
      "  File \"C:\\Users\\diego\\AppData\\Local\\Temp\\ipykernel_19004\\3771023591.py\", line 4, in <module>\n",
      "    x = get_generator_seq(q,d)\n",
      "  File \"C:\\Users\\diego\\AppData\\Local\\Temp\\ipykernel_19004\\3072520451.py\", line 35, in get_generator_seq\n",
      "    if cond1(C, k, q) and cond2(C, k, q):\n",
      "  File \"C:\\Users\\diego\\AppData\\Local\\Temp\\ipykernel_19004\\3072520451.py\", line -1, in cond1\n",
      "KeyboardInterrupt\n",
      "\n",
      "During handling of the above exception, another exception occurred:\n",
      "\n",
      "Traceback (most recent call last):\n",
      "  File \"C:\\Users\\diego\\AppData\\Local\\Packages\\PythonSoftwareFoundation.Python.3.10_qbz5n2kfra8p0\\LocalCache\\local-packages\\Python310\\site-packages\\IPython\\core\\interactiveshell.py\", line 1997, in showtraceback\n",
      "    stb = self.InteractiveTB.structured_traceback(\n",
      "  File \"C:\\Users\\diego\\AppData\\Local\\Packages\\PythonSoftwareFoundation.Python.3.10_qbz5n2kfra8p0\\LocalCache\\local-packages\\Python310\\site-packages\\IPython\\core\\ultratb.py\", line 1112, in structured_traceback\n",
      "    return FormattedTB.structured_traceback(\n",
      "  File \"C:\\Users\\diego\\AppData\\Local\\Packages\\PythonSoftwareFoundation.Python.3.10_qbz5n2kfra8p0\\LocalCache\\local-packages\\Python310\\site-packages\\IPython\\core\\ultratb.py\", line 1006, in structured_traceback\n",
      "    return VerboseTB.structured_traceback(\n",
      "  File \"C:\\Users\\diego\\AppData\\Local\\Packages\\PythonSoftwareFoundation.Python.3.10_qbz5n2kfra8p0\\LocalCache\\local-packages\\Python310\\site-packages\\IPython\\core\\ultratb.py\", line 859, in structured_traceback\n",
      "    formatted_exception = self.format_exception_as_a_whole(etype, evalue, etb, number_of_lines_of_context,\n",
      "  File \"C:\\Users\\diego\\AppData\\Local\\Packages\\PythonSoftwareFoundation.Python.3.10_qbz5n2kfra8p0\\LocalCache\\local-packages\\Python310\\site-packages\\IPython\\core\\ultratb.py\", line 812, in format_exception_as_a_whole\n",
      "    frames.append(self.format_record(r))\n",
      "  File \"C:\\Users\\diego\\AppData\\Local\\Packages\\PythonSoftwareFoundation.Python.3.10_qbz5n2kfra8p0\\LocalCache\\local-packages\\Python310\\site-packages\\IPython\\core\\ultratb.py\", line 730, in format_record\n",
      "    result += ''.join(_format_traceback_lines(frame_info.lines, Colors, self.has_colors, lvals))\n",
      "  File \"C:\\Users\\diego\\AppData\\Local\\Packages\\PythonSoftwareFoundation.Python.3.10_qbz5n2kfra8p0\\LocalCache\\local-packages\\Python310\\site-packages\\stack_data\\utils.py\", line 145, in cached_property_wrapper\n",
      "    value = obj.__dict__[self.func.__name__] = self.func(obj)\n",
      "  File \"C:\\Users\\diego\\AppData\\Local\\Packages\\PythonSoftwareFoundation.Python.3.10_qbz5n2kfra8p0\\LocalCache\\local-packages\\Python310\\site-packages\\stack_data\\core.py\", line 734, in lines\n",
      "    pieces = self.included_pieces\n",
      "  File \"C:\\Users\\diego\\AppData\\Local\\Packages\\PythonSoftwareFoundation.Python.3.10_qbz5n2kfra8p0\\LocalCache\\local-packages\\Python310\\site-packages\\stack_data\\utils.py\", line 145, in cached_property_wrapper\n",
      "    value = obj.__dict__[self.func.__name__] = self.func(obj)\n",
      "  File \"C:\\Users\\diego\\AppData\\Local\\Packages\\PythonSoftwareFoundation.Python.3.10_qbz5n2kfra8p0\\LocalCache\\local-packages\\Python310\\site-packages\\stack_data\\core.py\", line 681, in included_pieces\n",
      "    pos = scope_pieces.index(self.executing_piece)\n",
      "  File \"C:\\Users\\diego\\AppData\\Local\\Packages\\PythonSoftwareFoundation.Python.3.10_qbz5n2kfra8p0\\LocalCache\\local-packages\\Python310\\site-packages\\stack_data\\utils.py\", line 145, in cached_property_wrapper\n",
      "    value = obj.__dict__[self.func.__name__] = self.func(obj)\n",
      "  File \"C:\\Users\\diego\\AppData\\Local\\Packages\\PythonSoftwareFoundation.Python.3.10_qbz5n2kfra8p0\\LocalCache\\local-packages\\Python310\\site-packages\\stack_data\\core.py\", line 660, in executing_piece\n",
      "    return only(\n",
      "  File \"C:\\Users\\diego\\AppData\\Local\\Packages\\PythonSoftwareFoundation.Python.3.10_qbz5n2kfra8p0\\LocalCache\\local-packages\\Python310\\site-packages\\executing\\executing.py\", line 167, in only\n",
      "    raise NotOneValueFound('Expected one value, found 0')\n",
      "executing.executing.NotOneValueFound: Expected one value, found 0\n"
     ]
    }
   ],
   "source": [
    "q = 279\n",
    "d = 7\n",
    "\n",
    "x = get_generator_seq(q,d)\n",
    "x"
   ]
  },
  {
   "attachments": {},
   "cell_type": "markdown",
   "metadata": {},
   "source": [
    "---\n",
    "# OC WG FHS algebraic construction, primitive element"
   ]
  },
  {
   "cell_type": "code",
   "execution_count": 12,
   "metadata": {},
   "outputs": [
    {
     "data": {
      "text/plain": [
       "GF([ 3, 11, 12, 13, 17, 21, 22, 24], order=31)"
      ]
     },
     "execution_count": 12,
     "metadata": {},
     "output_type": "execute_result"
    }
   ],
   "source": [
    "p=31\n",
    "\n",
    "p_elements = galois.GF(p).primitive_elements\n",
    "p_elements"
   ]
  },
  {
   "cell_type": "code",
   "execution_count": 9,
   "metadata": {},
   "outputs": [
    {
     "data": {
      "image/png": "[encoded data removed]",
      "text/plain": [
       "<Figure size 640x480 with 1 Axes>"
      ]
     },
     "metadata": {},
     "output_type": "display_data"
    }
   ],
   "source": [
    "for w in range(p-1):\n",
    "    plt.scatter(w, w*p - w**2 + p - 1, color='k')\n",
    "\n",
    "plt.plot([x for x in range(w)], [280 for x in range(w)], color='r')\n",
    "plt.grid()\n",
    "plt.show()"
   ]
  },
  {
   "cell_type": "code",
   "execution_count": 169,
   "metadata": {},
   "outputs": [],
   "source": [
    "def get_FHSsequence(p, w, a, k):\n",
    "    fhs = []\n",
    "    for i in range(p-1):\n",
    "        fhs.append( sum( [(a**i + j) % p for j in range(k, k+w)] ) +k)\n",
    "\n",
    "    return fhs\n",
    "\n",
    "\n",
    "def get_WGFHSset(p, w, a, d):\n",
    "    FHSset = np.array([get_FHSsequence(p, w, a, k) for k in range(p)])\n",
    "    WGFHSset = []\n",
    "    for b in FHSset:\n",
    "        if get_min_gap(b) >= d:\n",
    "            WGFHSset.append(b)\n",
    "\n",
    "    return np.array(WGFHSset)"
   ]
  },
  {
   "cell_type": "code",
   "execution_count": 171,
   "metadata": {},
   "outputs": [
    {
     "name": "stdout",
     "output_type": "stream",
     "text": [
      "(10, 30)\n",
      "family avg cross HC = 0.08519\n",
      "family avg auto HC = 0.0\n",
      "family max HC = 0.81818\n"
     ]
    }
   ],
   "source": [
    "a = 3\n",
    "w = 15\n",
    "d = 8\n",
    "WGFHSset = get_WGFHSset(p, w, a, d)\n",
    "\n",
    "print(WGFHSset.shape)\n",
    "print(f\"family avg cross HC = {round(avg_crossHC(WGFHSset),5)}\")\n",
    "print(f\"family avg auto HC = {round(avg_autoHC(WGFHSset),5)}\")\n",
    "print(f\"family max HC = {round(avg_maxHC(WGFHSset),5)}\")"
   ]
  },
  {
   "cell_type": "code",
   "execution_count": 178,
   "metadata": {},
   "outputs": [
    {
     "name": "stdout",
     "output_type": "stream",
     "text": [
      "(7, 30)\n",
      "family avg cross HC = 0.11587\n",
      "family avg auto HC = 0.0\n",
      "family max HC = 0.75\n"
     ]
    }
   ],
   "source": [
    "a = 24\n",
    "WGFHSset = get_WGFHSset(p, w, a, d)\n",
    "print(WGFHSset.shape)\n",
    "print(f\"family avg cross HC = {round(avg_crossHC(WGFHSset),5)}\")\n",
    "print(f\"family avg auto HC = {round(avg_autoHC(WGFHSset),5)}\")\n",
    "print(f\"family max HC = {round(avg_maxHC(WGFHSset),5)}\")"
   ]
  },
  {
   "attachments": {},
   "cell_type": "markdown",
   "metadata": {},
   "source": [
    "---\n",
    "# OC WG FHS algebraic construction, no primitive element"
   ]
  },
  {
   "cell_type": "code",
   "execution_count": 192,
   "metadata": {},
   "outputs": [],
   "source": [
    "def get_FHSsequence2(p, w, k):\n",
    "    fhs = []\n",
    "    for i in range(p):\n",
    "        fhs.append( sum( [(j*k) % p for j in range(i, i+w)] ) )\n",
    "\n",
    "    return fhs\n",
    "\n",
    "\n",
    "def get_WGFHSset2(p, w, d):\n",
    "    FHSset = np.array([get_FHSsequence2(p, w, k) for k in range(1,p)])\n",
    "    WGFHSset = []\n",
    "    for b in FHSset:\n",
    "        if get_min_gap(b) >= d:\n",
    "            WGFHSset.append(b)\n",
    "\n",
    "    return np.array(WGFHSset)"
   ]
  },
  {
   "cell_type": "code",
   "execution_count": 193,
   "metadata": {},
   "outputs": [],
   "source": [
    "p = 17\n",
    "w = 7\n",
    "d = 0\n",
    "WGFHSset = get_WGFHSset2(p, w, d)\n"
   ]
  },
  {
   "cell_type": "code",
   "execution_count": 195,
   "metadata": {},
   "outputs": [
    {
     "name": "stdout",
     "output_type": "stream",
     "text": [
      "7 [21 28 35 42 49 56 63 70 77 84 91 81 71 61 51 41 31]\n",
      "3 [42 56 70 67 64 61 58 55 52 49 63 60 57 54 51 48 45]\n",
      "4 [46 50 54 58 62 66 53 57 61 65 69 56 43 47 51 55 59]\n",
      "6 [50 61 72 66 60 54 65 59 53 47 58 52 46 40 51 62 56]\n",
      "1 [54 55 56 57 58 59 60 61 62 63 64 48 49 50 51 52 53]\n",
      "8 [41 49 57 48 56 64 55 63 71 62 70 61 52 60 51 42 50]\n",
      "2 [45 60 58 56 54 52 67 65 63 61 59 57 55 53 51 49 47]\n",
      "5 [66 71 76 64 69 57 62 50 55 43 48 36 41 46 51 56 61]\n",
      "5 [36 48 43 55 50 62 57 69 64 76 71 66 61 56 51 46 41]\n",
      "2 [57 59 61 63 65 67 52 54 56 58 60 45 47 49 51 53 55]\n",
      "8 [61 70 62 71 63 55 64 56 48 57 49 41 50 42 51 60 52]\n",
      "1 [48 64 63 62 61 60 59 58 57 56 55 54 53 52 51 50 49]\n",
      "6 [52 58 47 53 59 65 54 60 66 72 61 50 56 62 51 40 46]\n",
      "4 [56 69 65 61 57 53 66 62 58 54 50 46 59 55 51 47 43]\n",
      "3 [60 63 49 52 55 58 61 64 67 70 56 42 45 48 51 54 57]\n",
      "7 [81 91 84 77 70 63 56 49 42 35 28 21 31 41 51 61 71]\n"
     ]
    }
   ],
   "source": [
    "p = 17\n",
    "w = 7\n",
    "d = 0\n",
    "WGFHSset = get_WGFHSset2(p, w, d)\n",
    "\n",
    "for b in WGFHSset:\n",
    "    print(get_min_gap(b), b)"
   ]
  },
  {
   "cell_type": "code",
   "execution_count": 196,
   "metadata": {},
   "outputs": [
    {
     "name": "stdout",
     "output_type": "stream",
     "text": [
      "(16, 17)\n",
      "family avg cross HC = 0.54902\n",
      "family avg auto HC = 0.0\n",
      "family max HC = 0.88235\n"
     ]
    }
   ],
   "source": [
    "\n",
    "print(WGFHSset.shape)\n",
    "print(f\"family avg cross HC = {round(avg_crossHC(WGFHSset),5)}\")\n",
    "print(f\"family avg auto HC = {round(avg_autoHC(WGFHSset),5)}\")\n",
    "print(f\"family max HC = {round(avg_maxHC(WGFHSset),5)}\")"
   ]
  },
  {
   "cell_type": "code",
   "execution_count": 24,
   "metadata": {},
   "outputs": [
    {
     "data": {
      "text/plain": [
       "65"
      ]
     },
     "execution_count": 24,
     "metadata": {},
     "output_type": "execute_result"
    }
   ],
   "source": [
    "y = int(0x41)\n",
    "y"
   ]
  },
  {
   "cell_type": "code",
   "execution_count": 18,
   "metadata": {},
   "outputs": [
    {
     "data": {
      "text/plain": [
       "33"
      ]
     },
     "execution_count": 18,
     "metadata": {},
     "output_type": "execute_result"
    }
   ],
   "source": [
    "y"
   ]
  },
  {
   "cell_type": "code",
   "execution_count": null,
   "metadata": {},
   "outputs": [],
   "source": []
  }
 ],
 "metadata": {
  "kernelspec": {
   "display_name": "base",
   "language": "python",
   "name": "python3"
  },
  "language_info": {
   "codemirror_mode": {
    "name": "ipython",
    "version": 3
   },
   "file_extension": ".py",
   "mimetype": "text/x-python",
   "name": "python",
   "nbconvert_exporter": "python",
   "pygments_lexer": "ipython3",
   "version": "3.10.11"
  },
  "orig_nbformat": 4
 },
 "nbformat": 4,
 "nbformat_minor": 2
}
