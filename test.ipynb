{
 "cells": [
  {
   "cell_type": "code",
   "execution_count": 1,
   "metadata": {},
   "outputs": [],
   "source": [
    "import numpy as np\n",
    "import galois\n",
    "import hashlib\n",
    "import matplotlib.pyplot as plt\n",
    "\n",
    "from itertools import permutations"
   ]
  },
  {
   "attachments": {},
   "cell_type": "markdown",
   "metadata": {},
   "source": [
    "---\n",
    "# base functions"
   ]
  },
  {
   "cell_type": "code",
   "execution_count": 2,
   "metadata": {},
   "outputs": [],
   "source": [
    "# Obtain minimal gap between adyacent values for sequence X\n",
    "def get_min_gap(X):\n",
    "    gap = np.inf\n",
    "    q = len(X)\n",
    "\n",
    "    for i in range(q):\n",
    "\n",
    "        d = abs(X[(i+1) % q] - X[i])\n",
    "\n",
    "        if d < gap:\n",
    "            gap = d\n",
    "\n",
    "    return gap\n",
    "\n",
    "\n",
    "# Transform number n to base b\n",
    "def numberToBase(n, b):\n",
    "    if n == 0:\n",
    "        return [0]\n",
    "    digits = []\n",
    "    while n:\n",
    "        digits.append(int(n % b))\n",
    "        n //= b\n",
    "    return digits[::-1]\n",
    "\n",
    "\n",
    "# hamming correlation with shift 0 for sequences\n",
    "# u and v with the same length (assumed)\n",
    "def hamming_correlation(u,v):\n",
    "    u_eq_v = u == v\n",
    "    return u_eq_v.sum()\n",
    "\n",
    "# maximal hamming correlation for sequences\n",
    "# u and v with the same length (assumed)\n",
    "def maxHC(u,v):\n",
    "\n",
    "    start = 0\n",
    "    if np.array_equal(u,v): start = 1\n",
    "\n",
    "    current_maxHC = 0\n",
    "    for shift in range(start, len(u)):\n",
    "\n",
    "        hc = hamming_correlation(u, np.roll(v, shift))\n",
    "        \n",
    "        if hc > current_maxHC:\n",
    "            current_maxHC = hc\n",
    "    \n",
    "    return current_maxHC\n",
    "\n",
    "\n",
    "# average hamming auto correlation for a family of\n",
    "# sequences with the same length (assumed)\n",
    "def avg_autoHC(fam):\n",
    "    _avgHC = 0\n",
    "    M, L = fam.shape\n",
    "    for i in range(M):\n",
    "        for shift in range(1, L):\n",
    "            _avgHC += hamming_correlation(fam[i], np.roll(fam[i], shift))\n",
    "\n",
    "    return _avgHC / (M * (L-1))\n",
    "\n",
    "\n",
    "# average hamming cross correlation for a family of\n",
    "# sequences with the same length (assumed)\n",
    "def avg_crossHC(fam):\n",
    "    _avgHC = 0\n",
    "    M, L = fam.shape\n",
    "    for i in range(M):\n",
    "        for j in range(i):\n",
    "            for shift in range(L):\n",
    "                _avgHC += hamming_correlation(fam[i], np.roll(fam[j], shift))\n",
    "\n",
    "    n = M * (M-1) / 2\n",
    "    return _avgHC / (L*n)\n",
    "\n",
    "\n",
    "# average maximal hamming correlation for all paris of\n",
    "# sequences from a single family\n",
    "def avg_maxHC(fam):\n",
    "    mean = 0\n",
    "    s = len(fam)\n",
    "    for i in range(s):\n",
    "        for j in range(i+1):\n",
    "            mean += maxHC(fam[i], fam[j])\n",
    "\n",
    "    n = s * (s+1) / 2\n",
    "    return mean / n\n",
    "\n",
    "\n",
    "# average maximal hamming correlation for all paris of\n",
    "# sequences from two families\n",
    "def avg_maxHC_2fam(fam1, fam2):\n",
    "    mean = 0\n",
    "    s = len(fam1)\n",
    "    for i in range(s):\n",
    "        for j in range(s):\n",
    "            mean += maxHC(fam1[i], fam2[j])\n",
    "        \n",
    "    n = s**2\n",
    "    return mean / n\n",
    "\n",
    "# delete frequences above the maximum, raises error if it\n",
    "# disrupts the minimum gap property\n",
    "def filter_freq(seq):\n",
    "    newseq = np.delete(seq, np.where(seq >= 280)[0])\n",
    "    assert get_min_gap(newseq) == 8, \"couldn't filter sequences while preserving minimum gap\"\n",
    "    return newseq\n",
    "\n",
    "\n",
    "# greatest common division\n",
    "def gcd(a, b):\n",
    "    if(b == 0): return abs(a)\n",
    "    else: return gcd(b, a % b)\n",
    "\n",
    "\n",
    "def contains_duplicates(X):\n",
    "    return len(np.unique(X)) != len(X)"
   ]
  },
  {
   "attachments": {},
   "cell_type": "markdown",
   "metadata": {},
   "source": [
    "---\n",
    "# 1st method (family)\n",
    "\n",
    "Generates a family of sequences with optimal maximal hammig correlation from a single m-sequence\n",
    "\n",
    ".\n",
    "\n",
    "Generated sequences have length q = p^n - 1\n",
    "\n",
    "over an alphabet A of size |A| = p^k\n",
    "\n",
    "for any given prime number p\n",
    "\n",
    "and integers k,n s.t. 1 <= k <= n\n",
    "\n",
    ".\n",
    "\n",
    "\n",
    "[1] Lempel, A., & Greenberger, H. (1974). Families of sequences with optimal Hamming-correlation properties. IEEE Transactions on Information Theory, 20(1), 90-94.\n"
   ]
  },
  {
   "cell_type": "code",
   "execution_count": 3,
   "metadata": {},
   "outputs": [],
   "source": [
    "\"\"\"\n",
    "maps a sequence X in P^k to a value in P_k\n",
    "where P^k is the set of all words of length k over P\n",
    "P is the finite field (GF) of order p, i.e. P = {0, 1, ..., p-1}\n",
    "P_k is the finite field (GF) of order p^k, i.e. P_k = {0, 1, ..., p^k-1}\n",
    "\"\"\"\n",
    "def sigma_transform(X, p, k):\n",
    "\n",
    "    Y = []\n",
    "    q = len(X)\n",
    "    for j in range(q):\n",
    "\n",
    "        y_j = 0\n",
    "        for i in range(k):\n",
    "            y_j += X[(j+i) % q] * p**i\n",
    "\n",
    "        Y.append(y_j)\n",
    "\n",
    "    return Y\n",
    "\n",
    "\n",
    "\"\"\"\n",
    "Following the construction presented in [1]\n",
    "given an m-sequence X of length q = p^n - 1 over GF(p)\n",
    "where p is a prime number\n",
    "then for each k s.t. 1 <= k <= n, the set F of p^k\n",
    "sequences is an optimal family\n",
    "\n",
    "a variation of the sigma transform is used\n",
    "\"\"\"\n",
    "def optimal_family(X, p, k):\n",
    "\n",
    "    family = []\n",
    "    q = len(X)\n",
    "    for v in range(p**k):\n",
    "\n",
    "        z = numberToBase(v, p)\n",
    "        while len(z) < k:\n",
    "            z.insert(0,0)\n",
    "        z.reverse()\n",
    "\n",
    "        Y = []\n",
    "        for j in range(q):\n",
    "\n",
    "            y_j = 0\n",
    "            for i in range(k):\n",
    "                y_j += ( ( X[ (j+i) % q] + z[i]) % p ) * p**i\n",
    "\n",
    "            Y.append(y_j)\n",
    "\n",
    "        family.append(Y)\n",
    "        #print(f\"Y{v} = \", Y)\n",
    "\n",
    "    return np.array(family)"
   ]
  },
  {
   "cell_type": "code",
   "execution_count": 4,
   "metadata": {},
   "outputs": [],
   "source": [
    "# test from [1]\n",
    "# n = 3, then q = len(X) = p^n - 1 = 3^3 - 1 = 26\n",
    "X = [0,0,1,1,1,0,2,1,1,2,1,0,1,0,0,2,2,2,0,1,2,2,1,2,0,2]\n",
    "testfam = optimal_family(X, 3, 2)"
   ]
  },
  {
   "attachments": {},
   "cell_type": "markdown",
   "metadata": {},
   "source": [
    "### test for lora m = 2**5 = 32 frequencies"
   ]
  },
  {
   "cell_type": "code",
   "execution_count": 5,
   "metadata": {},
   "outputs": [],
   "source": [
    "polys = galois.primitive_polys(2, 5)\n",
    "poly1 = next(polys)\n",
    "poly2 = next(polys)\n",
    "\n",
    "lfsr1 = galois.GLFSR(poly1.reverse())\n",
    "lfsr2 = galois.GLFSR(poly2.reverse())"
   ]
  },
  {
   "cell_type": "code",
   "execution_count": 6,
   "metadata": {},
   "outputs": [
    {
     "data": {
      "text/plain": [
       "Poly(x^5 + x^2 + 1, GF(2))"
      ]
     },
     "execution_count": 6,
     "metadata": {},
     "output_type": "execute_result"
    }
   ],
   "source": [
    "poly1"
   ]
  },
  {
   "cell_type": "code",
   "execution_count": 7,
   "metadata": {},
   "outputs": [
    {
     "data": {
      "text/plain": [
       "Poly(x^5 + x^3 + 1, GF(2))"
      ]
     },
     "execution_count": 7,
     "metadata": {},
     "output_type": "execute_result"
    }
   ],
   "source": [
    "poly2"
   ]
  },
  {
   "cell_type": "code",
   "execution_count": 8,
   "metadata": {},
   "outputs": [
    {
     "data": {
      "text/plain": [
       "18"
      ]
     },
     "execution_count": 8,
     "metadata": {},
     "output_type": "execute_result"
    }
   ],
   "source": [
    "0x12"
   ]
  },
  {
   "cell_type": "code",
   "execution_count": 226,
   "metadata": {},
   "outputs": [
    {
     "name": "stdout",
     "output_type": "stream",
     "text": [
      "(32, 31)\n",
      "family avg cross HC = 0.96774\n",
      "family avg auto HC = 0.0\n",
      "family max HC = 0.93939\n"
     ]
    }
   ],
   "source": [
    "p = 2\n",
    "k = 5\n",
    "n = 5\n",
    "q = p**n - 1\n",
    "\n",
    "x1 = lfsr1.step(q)\n",
    "\n",
    "method1_fam = optimal_family(np.array(x1), p, k)\n",
    "method1_fam = method1_fam *8\n",
    "\n",
    "print(method1_fam.shape)\n",
    "print(f\"family avg cross HC = {round(avg_crossHC(method1_fam),5)}\")\n",
    "print(f\"family avg auto HC = {round(avg_autoHC(method1_fam),5)}\")\n",
    "print(f\"family max HC = {round(avg_maxHC(method1_fam),5)}\")"
   ]
  },
  {
   "cell_type": "code",
   "execution_count": 227,
   "metadata": {},
   "outputs": [
    {
     "name": "stdout",
     "output_type": "stream",
     "text": [
      "(32, 31)\n",
      "family avg cross HC = 0.96774\n",
      "family avg auto HC = 0.0\n",
      "family max HC = 0.93939\n"
     ]
    }
   ],
   "source": [
    "x2 = lfsr2.step(q)\n",
    "\n",
    "method1_fam2 = optimal_family(np.array(x2), p, k)\n",
    "method1_fam2 = method1_fam2 *8\n",
    "\n",
    "print(method1_fam2.shape)\n",
    "print(f\"family avg cross HC = {round(avg_crossHC(method1_fam2),5)}\")\n",
    "print(f\"family avg auto HC = {round(avg_autoHC(method1_fam2),5)}\")\n",
    "print(f\"family max HC = {round(avg_maxHC(method1_fam2),5)}\")"
   ]
  },
  {
   "cell_type": "code",
   "execution_count": 228,
   "metadata": {},
   "outputs": [
    {
     "name": "stdout",
     "output_type": "stream",
     "text": [
      "(64, 31)\n",
      "family avg cross HC = 0.96825\n",
      "family avg auto HC = 0.0\n",
      "family max HC = 2.10769\n"
     ]
    }
   ],
   "source": [
    "method1_fam3 = np.concatenate((method1_fam, method1_fam2))\n",
    "\n",
    "print(method1_fam3.shape)\n",
    "print(f\"family avg cross HC = {round(avg_crossHC(method1_fam3),5)}\")\n",
    "print(f\"family avg auto HC = {round(avg_autoHC(method1_fam3),5)}\")\n",
    "print(f\"family max HC = {round(avg_maxHC(method1_fam3),5)}\")"
   ]
  },
  {
   "cell_type": "code",
   "execution_count": 229,
   "metadata": {},
   "outputs": [
    {
     "data": {
      "text/plain": [
       "array([[ 56,  24, 136, ..., 240, 248, 120],\n",
       "       [ 48,  16, 128, ..., 248, 240, 112],\n",
       "       [ 40,   8, 152, ..., 224, 232, 104],\n",
       "       ...,\n",
       "       [112,  32, 136, ...,  16, 144, 208],\n",
       "       [104,  56, 144, ...,   8, 136, 200],\n",
       "       [ 96,  48, 152, ...,   0, 128, 192]])"
      ]
     },
     "execution_count": 229,
     "metadata": {},
     "output_type": "execute_result"
    }
   ],
   "source": [
    "method1_fam3"
   ]
  },
  {
   "attachments": {},
   "cell_type": "markdown",
   "metadata": {},
   "source": [
    "---\n",
    "# 2nd method (sequence)\n",
    "\n",
    "Generates a wide gap sequence with minimum gap e and optimal maximal hamming autocorrelation\n",
    "\n",
    ".\n",
    "\n",
    "let X be a WGFHS of length q\n",
    "\n",
    "over alphabet A of size |A| = l\n",
    "\n",
    "with minimum gap e\n",
    "\n",
    "and maximal hamming autocorrelation h\n",
    "\n",
    "then X is defined by the parameters (q, l, h, e)\n",
    ".\n",
    "\n",
    "\n"
   ]
  },
  {
   "cell_type": "code",
   "execution_count": 4,
   "metadata": {},
   "outputs": [],
   "source": [
    "\"\"\"\n",
    "let l, d s.t. 1 < d < l/2\n",
    "& gcd(l, d) = gcd(l, d+1) = 1\n",
    "\n",
    "generate an optimal WGFHS with parameters (2*l, l, 2, d-1)\n",
    "\"\"\"\n",
    "def get_2l_sequence(l, d):\n",
    "    s = []\n",
    "    t = []\n",
    "\n",
    "    for i in range(l):\n",
    "        s.append( (i*d) % l )\n",
    "        t.append( (i*(d+1) + 1) % l )\n",
    "\n",
    "    return np.array(s + t)\n",
    "\n",
    "\n",
    "\"\"\"\n",
    "let l, d s.t. 1 < d < (l-1)/2\n",
    "& gcd(l, d) = gcd(l, d+1) = gcd(l, d+2) = 1\n",
    "\n",
    "generate an optimal WGFHS with parameters (3*l, l, 3, d-1)\n",
    "\"\"\"\n",
    "def get_3l_sequence(l, d):\n",
    "    s = []\n",
    "    t = []\n",
    "    u = []\n",
    "\n",
    "    for i in range(l):\n",
    "        s.append( (i*d) % l )\n",
    "        t.append( (i*(d+1) + 1) % l )\n",
    "        u.append( (i*(d+2) + 2) % l )\n",
    "\n",
    "    return np.array(s + t + u)\n",
    "\n",
    "\n",
    "def split_seq(q, seq):\n",
    "    family = []\n",
    "    i=0\n",
    "    j=q\n",
    "    while j < len(seq):\n",
    "        family.append(seq[i:j])\n",
    "        i+=q\n",
    "        j+=q\n",
    "\n",
    "    return np.array(family)\n"
   ]
  },
  {
   "attachments": {},
   "cell_type": "markdown",
   "metadata": {},
   "source": [
    "#### 2*l seq"
   ]
  },
  {
   "cell_type": "code",
   "execution_count": 5,
   "metadata": {},
   "outputs": [
    {
     "name": "stdout",
     "output_type": "stream",
     "text": [
      "a=1\tb=1\n",
      "(16, 34)\n",
      "family avg cross HC = 0.0652\n",
      "family avg auto HC = 0.00379\n",
      "family max HC = 0.72059\n"
     ]
    }
   ],
   "source": [
    "l = 277\n",
    "d = 8\n",
    "\n",
    "print(f\"a={gcd(l, d)}\\tb={gcd(l, d+1)}\")\n",
    "\n",
    "x = get_2l_sequence(l, d)\n",
    "method2_fam1_2l = split_seq(34, x)\n",
    "\n",
    "print(method2_fam1_2l.shape)\n",
    "print(f\"family avg cross HC = {round(avg_crossHC(method2_fam1_2l),5)}\")\n",
    "print(f\"family avg auto HC = {round(avg_autoHC(method2_fam1_2l),5)}\")\n",
    "print(f\"family max HC = {round(avg_maxHC(method2_fam1_2l),5)}\")"
   ]
  },
  {
   "cell_type": "code",
   "execution_count": 5,
   "metadata": {},
   "outputs": [
    {
     "name": "stdout",
     "output_type": "stream",
     "text": [
      "a=1\tb=1\n",
      "(18, 31)\n",
      "family avg cross HC = 0.0584\n",
      "family avg auto HC = 0.0\n",
      "family max HC = 0.47953\n"
     ]
    }
   ],
   "source": [
    "l = 281\n",
    "d = 8\n",
    "\n",
    "print(f\"a={gcd(l, d)}\\tb={gcd(l, d+1)}\")\n",
    "\n",
    "x = get_2l_sequence(l, d)\n",
    "method2_fam2_2l = split_seq(31, x)\n",
    "\n",
    "print(method2_fam2_2l.shape)\n",
    "print(f\"family avg cross HC = {round(avg_crossHC(method2_fam2_2l),5)}\")\n",
    "print(f\"family avg auto HC = {round(avg_autoHC(method2_fam2_2l),5)}\")\n",
    "print(f\"family max HC = {round(avg_maxHC(method2_fam2_2l),5)}\")"
   ]
  },
  {
   "cell_type": "code",
   "execution_count": 15,
   "metadata": {},
   "outputs": [
    {
     "name": "stdout",
     "output_type": "stream",
     "text": [
      "(71, 31)\n",
      "family avg cross HC = 0.09829\n",
      "family avg auto HC = 0.0\n",
      "family max HC = 1.76917\n"
     ]
    }
   ],
   "source": [
    "method2_fam3_2l = split_seq(31, filter_freq(get_2l_sequence(283, d)))\n",
    "method2_fam4_2l = split_seq(31, filter_freq(get_2l_sequence(287, d)))\n",
    "\n",
    "method2_fam5_2l = np.concatenate((method2_fam1_2l, method2_fam2_2l, method2_fam3_2l, method2_fam4_2l))\n",
    "\n",
    "print(method2_fam5_2l.shape)\n",
    "print(f\"family avg cross HC = {round(avg_crossHC(method2_fam5_2l),5)}\")\n",
    "print(f\"family avg auto HC = {round(avg_autoHC(method2_fam5_2l),5)}\")\n",
    "print(f\"family max HC = {round(avg_maxHC(method2_fam5_2l),5)}\")"
   ]
  },
  {
   "attachments": {},
   "cell_type": "markdown",
   "metadata": {},
   "source": [
    "#### 3*l seq"
   ]
  },
  {
   "cell_type": "code",
   "execution_count": 83,
   "metadata": {},
   "outputs": [
    {
     "name": "stdout",
     "output_type": "stream",
     "text": [
      "a=1\tb=1\tc=1\n",
      "(26, 31)\n",
      "family avg cross HC = 0.07752\n",
      "family avg auto HC = 0.0\n",
      "family max HC = 0.7037\n"
     ]
    }
   ],
   "source": [
    "l = 277\n",
    "d = 8\n",
    "\n",
    "print(f\"a={gcd(l, d)}\\tb={gcd(l, d+1)}\\tc={gcd(l, d+2)}\")\n",
    "\n",
    "x = get_3l_sequence(l, d)\n",
    "method2_fam1 = split_seq(31, x)\n",
    "\n",
    "print(method2_fam1.shape)\n",
    "print(f\"family avg cross HC = {round(avg_crossHC(method2_fam1),5)}\")\n",
    "print(f\"family avg auto HC = {round(avg_autoHC(method2_fam1),5)}\")\n",
    "print(f\"family max HC = {round(avg_maxHC(method2_fam1),5)}\")"
   ]
  },
  {
   "cell_type": "code",
   "execution_count": 84,
   "metadata": {},
   "outputs": [
    {
     "name": "stdout",
     "output_type": "stream",
     "text": [
      "a=1\tb=1\tc=1\n",
      "(27, 31)\n",
      "family avg cross HC = 0.07665\n",
      "family avg auto HC = 0.0\n",
      "family max HC = 0.69048\n"
     ]
    }
   ],
   "source": [
    "l = 281\n",
    "d = 8\n",
    "\n",
    "print(f\"a={gcd(l, d)}\\tb={gcd(l, d+1)}\\tc={gcd(l, d+2)}\")\n",
    "\n",
    "x = get_3l_sequence(l, d)\n",
    "xx = filter_freq(x)\n",
    "method2_fam2 = split_seq(31, xx)\n",
    "\n",
    "print(method2_fam2.shape)\n",
    "print(f\"family avg cross HC = {round(avg_crossHC(method2_fam2),5)}\")\n",
    "print(f\"family avg auto HC = {round(avg_autoHC(method2_fam2),5)}\")\n",
    "print(f\"family max HC = {round(avg_maxHC(method2_fam2),5)}\")"
   ]
  },
  {
   "cell_type": "code",
   "execution_count": 85,
   "metadata": {},
   "outputs": [
    {
     "name": "stdout",
     "output_type": "stream",
     "text": [
      "a=1\tb=1\tc=1\n",
      "(27, 31)\n",
      "family avg cross HC = 0.07665\n",
      "family avg auto HC = 0.0\n",
      "family max HC = 0.74603\n"
     ]
    }
   ],
   "source": [
    "l = 283\n",
    "d = 8\n",
    "\n",
    "print(f\"a={gcd(l, d)}\\tb={gcd(l, d+1)}\\tc={gcd(l, d+2)}\")\n",
    "\n",
    "x = get_3l_sequence(l, d)\n",
    "xx = filter_freq(x)\n",
    "method2_fam3 = split_seq(31, xx)\n",
    "\n",
    "print(method2_fam3.shape)\n",
    "print(f\"family avg cross HC = {round(avg_crossHC(method2_fam3),5)}\")\n",
    "print(f\"family avg auto HC = {round(avg_autoHC(method2_fam3),5)}\")\n",
    "print(f\"family max HC = {round(avg_maxHC(method2_fam3),5)}\")"
   ]
  },
  {
   "cell_type": "code",
   "execution_count": 86,
   "metadata": {},
   "outputs": [
    {
     "name": "stdout",
     "output_type": "stream",
     "text": [
      "a=1\tb=1\tc=1\n",
      "(27, 31)\n",
      "family avg cross HC = 0.07665\n",
      "family avg auto HC = 0.0\n",
      "family max HC = 0.71164\n"
     ]
    }
   ],
   "source": [
    "l = 287\n",
    "d = 8\n",
    "\n",
    "print(f\"a={gcd(l, d)}\\tb={gcd(l, d+1)}\\tc={gcd(l, d+2)}\")\n",
    "\n",
    "x = get_3l_sequence(l, d)\n",
    "xx = filter_freq(x)\n",
    "method2_fam4 = split_seq(31, xx)\n",
    "\n",
    "print(method2_fam4.shape)\n",
    "print(f\"family avg cross HC = {round(avg_crossHC(method2_fam4),5)}\")\n",
    "print(f\"family avg auto HC = {round(avg_autoHC(method2_fam4),5)}\")\n",
    "print(f\"family max HC = {round(avg_maxHC(method2_fam4),5)}\")"
   ]
  },
  {
   "cell_type": "code",
   "execution_count": 87,
   "metadata": {},
   "outputs": [
    {
     "name": "stdout",
     "output_type": "stream",
     "text": [
      "(107, 31)\n",
      "family avg cross HC = 0.10251\n",
      "family avg auto HC = 0.0\n",
      "family max HC = 1.56646\n"
     ]
    }
   ],
   "source": [
    "method2_fam5 = np.concatenate((method2_fam1, method2_fam2, method2_fam3, method2_fam4))\n",
    "\n",
    "print(method2_fam5.shape)\n",
    "print(f\"family avg cross HC = {round(avg_crossHC(method2_fam5),5)}\")\n",
    "print(f\"family avg auto HC = {round(avg_autoHC(method2_fam5),5)}\")\n",
    "print(f\"family max HC = {round(avg_maxHC(method2_fam5),5)}\")"
   ]
  },
  {
   "cell_type": "markdown",
   "metadata": {},
   "source": [
    "#### eu 336"
   ]
  },
  {
   "cell_type": "code",
   "execution_count": 6,
   "metadata": {},
   "outputs": [
    {
     "name": "stdout",
     "output_type": "stream",
     "text": [
      "a=1\tb=1\n",
      "(16, 86)\n"
     ]
    }
   ],
   "source": [
    "l = 689\n",
    "d = 8\n",
    "\n",
    "print(f\"a={gcd(l, d)}\\tb={gcd(l, d+1)}\")\n",
    "\n",
    "x = get_2l_sequence(l, d)\n",
    "method2_fam1_2l = split_seq(86, x)\n",
    "\n",
    "print(method2_fam1_2l.shape)"
   ]
  },
  {
   "cell_type": "markdown",
   "metadata": {},
   "source": [
    "#### us"
   ]
  },
  {
   "cell_type": "code",
   "execution_count": 12,
   "metadata": {},
   "outputs": [
    {
     "name": "stdout",
     "output_type": "stream",
     "text": [
      "a=1\tb=1\n",
      "(104, 60)\n"
     ]
    }
   ],
   "source": [
    "l = 3121\n",
    "d = 52\n",
    "\n",
    "print(f\"a={gcd(l, d)}\\tb={gcd(l, d+1)}\")\n",
    "\n",
    "x = get_2l_sequence(l, d)\n",
    "method2_fam1_2l = split_seq(60, x)\n",
    "\n",
    "print(method2_fam1_2l.shape)"
   ]
  },
  {
   "attachments": {},
   "cell_type": "markdown",
   "metadata": {},
   "source": [
    "---\n",
    "# LR-FHSS FHS with 32 bit sha256 hash function  "
   ]
  },
  {
   "cell_type": "code",
   "execution_count": 12,
   "metadata": {},
   "outputs": [],
   "source": [
    "# obw to transmit fragment k for node x \n",
    "def get_obw(x, k):\n",
    "\n",
    "    i = x + k * 2**16\n",
    "    i = int.to_bytes(i, 4, 'little')\n",
    "\n",
    "    h = int.from_bytes(hashlib.sha256(i).digest()[:4], 'little')\n",
    "\n",
    "    return ( h % 35 ) * 8 + np.random.randint(8)\n",
    "\n",
    "\n",
    "# q length sequence of owb's for node x\n",
    "def get_hashFHS(x, q):\n",
    "    fhs = []\n",
    "    for k in range(q):\n",
    "        fhs.append(get_obw(x, k))\n",
    "        \n",
    "    return fhs\n",
    "\n",
    "\n",
    "# all possible fhs of length q\n",
    "def get_hashFamily(q):\n",
    "    fam = []\n",
    "    for x in range(384):\n",
    "        fam.append(get_hashFHS(x, q))\n",
    "\n",
    "    return np.array(fam)"
   ]
  },
  {
   "cell_type": "code",
   "execution_count": 13,
   "metadata": {},
   "outputs": [
    {
     "name": "stdout",
     "output_type": "stream",
     "text": [
      "(384, 31)\n",
      "family avg cross HC = 0.1108\n",
      "family avg auto HC = 0.11007\n",
      "family max HC = 1.12877\n"
     ]
    }
   ],
   "source": [
    "q = 31\n",
    "hash_fam = get_hashFamily(q)\n",
    "\n",
    "print(hash_fam.shape)\n",
    "print(f\"family avg cross HC = {round(avg_crossHC(hash_fam),5)}\")\n",
    "print(f\"family avg auto HC = {round(avg_autoHC(hash_fam),5)}\")\n",
    "print(f\"family max HC = {round(avg_maxHC(hash_fam),5)}\")"
   ]
  },
  {
   "attachments": {},
   "cell_type": "markdown",
   "metadata": {},
   "source": [
    "---\n",
    "# real lrfhss sequences"
   ]
  },
  {
   "cell_type": "code",
   "execution_count": 14,
   "metadata": {},
   "outputs": [],
   "source": [
    "def lr_fhss_get_next_state(lfsr_state, polynomial, xoring_seed, n_grid):\n",
    "    \n",
    "    hop = 0\n",
    "    while 1:\n",
    "\n",
    "        lsb = lfsr_state & 1\n",
    "        lfsr_state >>= 1\n",
    "        if lsb:\n",
    "            lfsr_state ^= polynomial\n",
    "\n",
    "        hop = xoring_seed\n",
    "        if hop != lfsr_state:\n",
    "            hop ^= lfsr_state\n",
    "\n",
    "        if hop <= n_grid:\n",
    "            break\n",
    "\n",
    "    return lfsr_state, hop - 1\n",
    "\n",
    "\n",
    "# get lr fhss sequence of length 31\n",
    "def get_lr_fhss_seq(id):\n",
    "    n_grid = 35\n",
    "    lr_fhss_lfsr_poly1 = [33, 45, 48, 51, 54, 57]\n",
    "\n",
    "    lfsr_state = 6\n",
    "    fhs = []\n",
    "\n",
    "    polynomial = lr_fhss_lfsr_poly1[id >> 6]\n",
    "    xoring_seed = id & 0x3F\n",
    "\n",
    "    for _ in range(31):\n",
    "        lfsr_state, hop = lr_fhss_get_next_state(lfsr_state, polynomial, xoring_seed, n_grid)\n",
    "        fhs.append(hop)\n",
    "\n",
    "    #print(f\"id={id}\\tpoly={polynomial}\\tseed={xoring_seed}\\nseq = {fhs}\\n\")\n",
    "\n",
    "    return fhs\n",
    "\n",
    "def get_lr_fhss_family():\n",
    "    fam = []\n",
    "    for id in range(384):\n",
    "        fam.append(get_lr_fhss_seq(id))\n",
    "\n",
    "    return np.array(fam)"
   ]
  },
  {
   "cell_type": "code",
   "execution_count": 15,
   "metadata": {},
   "outputs": [
    {
     "name": "stdout",
     "output_type": "stream",
     "text": [
      "(384, 31)\n",
      "family avg cross HC = 0.88548\n",
      "family avg auto HC = 0.0\n",
      "family max HC = 3.34418\n"
     ]
    }
   ],
   "source": [
    "lr_fhss_family = get_lr_fhss_family()\n",
    "print(lr_fhss_family.shape)\n",
    "print(f\"family avg cross HC = {round(avg_crossHC(lr_fhss_family),5)}\")\n",
    "print(f\"family avg auto HC = {round(avg_autoHC(lr_fhss_family),5)}\")\n",
    "print(f\"family max HC = {round(avg_maxHC(lr_fhss_family),5)}\")"
   ]
  },
  {
   "cell_type": "code",
   "execution_count": 4,
   "metadata": {},
   "outputs": [
    {
     "data": {
      "text/plain": [
       "99"
      ]
     },
     "execution_count": 4,
     "metadata": {},
     "output_type": "execute_result"
    }
   ],
   "source": [
    "def calculate_period(L):\n",
    "    t=0\n",
    "    for l in L[1:]:\n",
    "        t+=1\n",
    "        if l==L[0]: break\n",
    "    return t\n",
    "\n",
    "# lr_fhss_lfsr_poly1[] = { 33, 45, 48, 51, 54, 57 };\n",
    "# lr_fhss_lfsr_poly2[] = { 65, 68, 71, 72 };\n",
    "\n",
    "seq = []\n",
    "lfsr_state = 6\n",
    "poly = 65\n",
    "seed = 0\n",
    "ngrid = 99\n",
    "for _ in range(200):\n",
    "    lfsr_state, hop = lr_fhss_get_next_state(lfsr_state, poly, seed, ngrid)\n",
    "    seq.append(hop)\n",
    "\n",
    "\n",
    "calculate_period(seq)"
   ]
  },
  {
   "cell_type": "code",
   "execution_count": 45,
   "metadata": {},
   "outputs": [
    {
     "name": "stdout",
     "output_type": "stream",
     "text": [
      "[2, 63, 31, 15, 7, 3, 1, 0, 64, 96, 62, 93, 46, 85, 42, 83, 41, 20, 74, 49, 24, 76, 56, 92, 58, 91, 45, 22, 73, 36, 82, 51, 25, 12, 70, 97, 48, 88, 60, 94, 54, 89, 44, 86, 52, 90, 53, 26, 75, 37, 18, 71, 35, 17, 8, 68, 98, 55, 27, 13, 6, 65, 32, 80, 61, 30, 77, 38, 81, 40, 84, 57, 28, 78, 50, 87, 43, 21, 10, 67, 33, 16, 72, 59, 29, 14, 69, 34, 79, 39, 19, 9, 4, 66, 95, 47, 23, 11, 5, 2, 63, 31, 15, 7, 3, 1, 0, 64, 96, 62, 93, 46, 85, 42, 83, 41, 20, 74, 49, 24, 76, 56, 92, 58, 91, 45, 22, 73, 36, 82, 51, 25, 12, 70, 97, 48, 88, 60, 94, 54, 89, 44, 86, 52, 90, 53, 26, 75, 37, 18, 71, 35, 17, 8, 68, 98, 55, 27, 13, 6, 65, 32, 80, 61, 30, 77, 38, 81, 40, 84, 57, 28, 78, 50, 87, 43, 21, 10, 67, 33, 16, 72, 59, 29, 14, 69, 34, 79, 39, 19, 9, 4, 66, 95, 47, 23, 11, 5, 2, 63]\n"
     ]
    }
   ],
   "source": [
    "print(seq)"
   ]
  },
  {
   "attachments": {},
   "cell_type": "markdown",
   "metadata": {},
   "source": [
    "---\n",
    "# One Coincidence WG FHS\n",
    "\n",
    "Bin, L. (1997). One-coincidence sequences with specified distance between adjacent symbols for frequency-hopping multiple access. IEEE Transactions on Communications, 45(4), 408-410.\n",
    "\n",
    "Refer to the Theroem 2 for the construction"
   ]
  },
  {
   "cell_type": "code",
   "execution_count": 14,
   "metadata": {},
   "outputs": [],
   "source": [
    "def cond1(L, k, q):\n",
    "    c1 = True\n",
    "    for i in range(k):\n",
    "        if L[i] + L[i+k] != q:\n",
    "            c1 = False\n",
    "\n",
    "    return c1\n",
    "\n",
    "\n",
    "def get_D_val(L, n, j, q):\n",
    "    l = len(L)\n",
    "    return sum( [ L[i % l] for i in range(n, n+j) ] ) % q\n",
    "\n",
    "\n",
    "def cond2(L, k, q):\n",
    "    c2 = True\n",
    "    for j in range(2, k+1):\n",
    "        Darray = [get_D_val(L, n, j, q) for n in range(2*k)]\n",
    "        if contains_duplicates(Darray):\n",
    "            c2 = False\n",
    "\n",
    "    return c2  \n",
    "\n",
    "\n",
    "def get_generator_seq(q, d):\n",
    "\n",
    "    k = (q - 2*d - 1) // 2\n",
    "    L = [i for i in range(d+1, q-d)]\n",
    "\n",
    "    for C in permutations(L, 2*k):\n",
    "        if cond1(C, k, q) and cond2(C, k, q):\n",
    "            return C\n",
    "        \n",
    "    return []"
   ]
  },
  {
   "cell_type": "code",
   "execution_count": 63,
   "metadata": {},
   "outputs": [
    {
     "data": {
      "text/plain": [
       "(1, 2, 4, 8, 3, 6, 12, 11, 9, 5, 10, 7)"
      ]
     },
     "execution_count": 63,
     "metadata": {},
     "output_type": "execute_result"
    }
   ],
   "source": [
    "q = 13\n",
    "d = 0\n",
    "\n",
    "x = get_generator_seq(q,d)\n",
    "x"
   ]
  },
  {
   "cell_type": "code",
   "execution_count": 66,
   "metadata": {},
   "outputs": [
    {
     "name": "stdout",
     "output_type": "stream",
     "text": [
      "Unexpected exception formatting exception. Falling back to standard exception\n"
     ]
    },
    {
     "name": "stderr",
     "output_type": "stream",
     "text": [
      "Traceback (most recent call last):\n",
      "  File \"C:\\Users\\diego\\AppData\\Local\\Packages\\PythonSoftwareFoundation.Python.3.10_qbz5n2kfra8p0\\LocalCache\\local-packages\\Python310\\site-packages\\IPython\\core\\interactiveshell.py\", line 3378, in run_code\n",
      "    exec(code_obj, self.user_global_ns, self.user_ns)\n",
      "  File \"C:\\Users\\diego\\AppData\\Local\\Temp\\ipykernel_19004\\3771023591.py\", line 4, in <module>\n",
      "    x = get_generator_seq(q,d)\n",
      "  File \"C:\\Users\\diego\\AppData\\Local\\Temp\\ipykernel_19004\\3072520451.py\", line 35, in get_generator_seq\n",
      "    if cond1(C, k, q) and cond2(C, k, q):\n",
      "  File \"C:\\Users\\diego\\AppData\\Local\\Temp\\ipykernel_19004\\3072520451.py\", line -1, in cond1\n",
      "KeyboardInterrupt\n",
      "\n",
      "During handling of the above exception, another exception occurred:\n",
      "\n",
      "Traceback (most recent call last):\n",
      "  File \"C:\\Users\\diego\\AppData\\Local\\Packages\\PythonSoftwareFoundation.Python.3.10_qbz5n2kfra8p0\\LocalCache\\local-packages\\Python310\\site-packages\\IPython\\core\\interactiveshell.py\", line 1997, in showtraceback\n",
      "    stb = self.InteractiveTB.structured_traceback(\n",
      "  File \"C:\\Users\\diego\\AppData\\Local\\Packages\\PythonSoftwareFoundation.Python.3.10_qbz5n2kfra8p0\\LocalCache\\local-packages\\Python310\\site-packages\\IPython\\core\\ultratb.py\", line 1112, in structured_traceback\n",
      "    return FormattedTB.structured_traceback(\n",
      "  File \"C:\\Users\\diego\\AppData\\Local\\Packages\\PythonSoftwareFoundation.Python.3.10_qbz5n2kfra8p0\\LocalCache\\local-packages\\Python310\\site-packages\\IPython\\core\\ultratb.py\", line 1006, in structured_traceback\n",
      "    return VerboseTB.structured_traceback(\n",
      "  File \"C:\\Users\\diego\\AppData\\Local\\Packages\\PythonSoftwareFoundation.Python.3.10_qbz5n2kfra8p0\\LocalCache\\local-packages\\Python310\\site-packages\\IPython\\core\\ultratb.py\", line 859, in structured_traceback\n",
      "    formatted_exception = self.format_exception_as_a_whole(etype, evalue, etb, number_of_lines_of_context,\n",
      "  File \"C:\\Users\\diego\\AppData\\Local\\Packages\\PythonSoftwareFoundation.Python.3.10_qbz5n2kfra8p0\\LocalCache\\local-packages\\Python310\\site-packages\\IPython\\core\\ultratb.py\", line 812, in format_exception_as_a_whole\n",
      "    frames.append(self.format_record(r))\n",
      "  File \"C:\\Users\\diego\\AppData\\Local\\Packages\\PythonSoftwareFoundation.Python.3.10_qbz5n2kfra8p0\\LocalCache\\local-packages\\Python310\\site-packages\\IPython\\core\\ultratb.py\", line 730, in format_record\n",
      "    result += ''.join(_format_traceback_lines(frame_info.lines, Colors, self.has_colors, lvals))\n",
      "  File \"C:\\Users\\diego\\AppData\\Local\\Packages\\PythonSoftwareFoundation.Python.3.10_qbz5n2kfra8p0\\LocalCache\\local-packages\\Python310\\site-packages\\stack_data\\utils.py\", line 145, in cached_property_wrapper\n",
      "    value = obj.__dict__[self.func.__name__] = self.func(obj)\n",
      "  File \"C:\\Users\\diego\\AppData\\Local\\Packages\\PythonSoftwareFoundation.Python.3.10_qbz5n2kfra8p0\\LocalCache\\local-packages\\Python310\\site-packages\\stack_data\\core.py\", line 734, in lines\n",
      "    pieces = self.included_pieces\n",
      "  File \"C:\\Users\\diego\\AppData\\Local\\Packages\\PythonSoftwareFoundation.Python.3.10_qbz5n2kfra8p0\\LocalCache\\local-packages\\Python310\\site-packages\\stack_data\\utils.py\", line 145, in cached_property_wrapper\n",
      "    value = obj.__dict__[self.func.__name__] = self.func(obj)\n",
      "  File \"C:\\Users\\diego\\AppData\\Local\\Packages\\PythonSoftwareFoundation.Python.3.10_qbz5n2kfra8p0\\LocalCache\\local-packages\\Python310\\site-packages\\stack_data\\core.py\", line 681, in included_pieces\n",
      "    pos = scope_pieces.index(self.executing_piece)\n",
      "  File \"C:\\Users\\diego\\AppData\\Local\\Packages\\PythonSoftwareFoundation.Python.3.10_qbz5n2kfra8p0\\LocalCache\\local-packages\\Python310\\site-packages\\stack_data\\utils.py\", line 145, in cached_property_wrapper\n",
      "    value = obj.__dict__[self.func.__name__] = self.func(obj)\n",
      "  File \"C:\\Users\\diego\\AppData\\Local\\Packages\\PythonSoftwareFoundation.Python.3.10_qbz5n2kfra8p0\\LocalCache\\local-packages\\Python310\\site-packages\\stack_data\\core.py\", line 660, in executing_piece\n",
      "    return only(\n",
      "  File \"C:\\Users\\diego\\AppData\\Local\\Packages\\PythonSoftwareFoundation.Python.3.10_qbz5n2kfra8p0\\LocalCache\\local-packages\\Python310\\site-packages\\executing\\executing.py\", line 167, in only\n",
      "    raise NotOneValueFound('Expected one value, found 0')\n",
      "executing.executing.NotOneValueFound: Expected one value, found 0\n"
     ]
    }
   ],
   "source": [
    "q = 279\n",
    "d = 7\n",
    "\n",
    "x = get_generator_seq(q,d)\n",
    "x"
   ]
  },
  {
   "attachments": {},
   "cell_type": "markdown",
   "metadata": {},
   "source": [
    "---\n",
    "# OC WG FHS algebraic construction, primitive element\n",
    "\n",
    "Wang, T., Niu, X., Wang, J., & Shao, M. (2022, August). A New Class of Optimal Wide-Gap One-Coincidence Frequency-Hopping Sequence. In 2022 10th International Workshop on Signal Design and Its Applications in Communications (IWSDA) (pp. 1-5). IEEE.\n",
    "\n",
    "- Construction 1 and Theorem 1:\n",
    "\n",
    "Let $p > 4$ be a prime number and $w$ a positive integer s.t. $2 \\leq w \\leq p-2$. Let $\\alpha$ be a primitive element of $GF(p)$ and $\\langle \\cdot \\rangle$ denote the $mod$ $p$ operator \n",
    "\n",
    "Then the set $B = \\{b_k = b_k(i) , 0 \\leq i \\leq p-2, 0 \\leq k \\leq p-1\\}$ is an optimal OC-FHS set with $p$ sequences of length $p-1$ over a frequency set $F$ s.t. $|F|= \\ell = wp - w^2 + p - 1$\n",
    "\n",
    "where\n",
    "\n",
    "$b_k(i) = k + \\sum_{j=k}^{k+w-1} \\langle \\alpha^i + j \\rangle $\n",
    "\n",
    "- Theorem 2:\n",
    "\n",
    "For any given minimum wide-gap $D$ with $2 ≤ D ≤ ⌊ \\frac{p}{4} ⌋$, the set obtained by filtering the sequences of the set $B$ according to the gap $D$ is an optimal OC-WG-FHS set "
   ]
  },
  {
   "cell_type": "code",
   "execution_count": 70,
   "metadata": {},
   "outputs": [],
   "source": [
    "def get_FHSsequence(p, q, w, a, k):\n",
    "    fhs = []\n",
    "    for i in range(q):  # max length is p-1\n",
    "        fhs.append( sum( [(a**i + j) % p for j in range(k, k+w)] ) +k)\n",
    "\n",
    "    return fhs\n",
    "\n",
    "\n",
    "def get_WGFHSset(p, q, w, a, d):\n",
    "    FHSset = np.array([get_FHSsequence(p, q, w, a, k) for k in range(p)])\n",
    "    WGFHSset = []\n",
    "    for b in FHSset:\n",
    "        if get_min_gap(b) >= d:\n",
    "            WGFHSset.append(b)\n",
    "\n",
    "    return np.array(WGFHSset)"
   ]
  },
  {
   "cell_type": "code",
   "execution_count": 71,
   "metadata": {},
   "outputs": [
    {
     "name": "stdout",
     "output_type": "stream",
     "text": [
      "primitive elements of GF(37) =  [ 2  5 13 15 17 18 19 20 22 24 32 35]\n"
     ]
    },
    {
     "data": {
      "image/png": "[encoded data removed]",
      "text/plain": [
       "<Figure size 640x480 with 1 Axes>"
      ]
     },
     "metadata": {},
     "output_type": "display_data"
    }
   ],
   "source": [
    "p=37\n",
    "\n",
    "p_elements = galois.GF(p).primitive_elements\n",
    "print(f\"primitive elements of GF({p}) = \", p_elements)\n",
    "\n",
    "for w in range(p-1):\n",
    "    plt.scatter(w, w*p - w**2 + p - 1, color='k')\n",
    "\n",
    "plt.plot([x for x in range(w)], [280 for x in range(w)], color='r')\n",
    "plt.title(f'frequency set size for p={p}')\n",
    "plt.xlabel('w')\n",
    "plt.ylabel('|F|=l')\n",
    "plt.grid()\n",
    "plt.show()"
   ]
  },
  {
   "cell_type": "code",
   "execution_count": 72,
   "metadata": {},
   "outputs": [
    {
     "name": "stdout",
     "output_type": "stream",
     "text": [
      "(18, 31)\n",
      "family avg cross HC = 0.10458\n",
      "family avg auto HC = 0.0\n",
      "family max HC = 0.91813\n"
     ]
    }
   ],
   "source": [
    "a = int(p_elements[0])\n",
    "q = 31\n",
    "w = 8\n",
    "d = 8\n",
    "WGFHSset = get_WGFHSset(p, q, w, a, d)\n",
    "\n",
    "print(WGFHSset.shape)\n",
    "print(f\"family avg cross HC = {round(avg_crossHC(WGFHSset),5)}\")\n",
    "print(f\"family avg auto HC = {round(avg_autoHC(WGFHSset),5)}\")\n",
    "print(f\"family max HC = {round(avg_maxHC(WGFHSset),5)}\")"
   ]
  },
  {
   "cell_type": "code",
   "execution_count": 73,
   "metadata": {},
   "outputs": [
    {
     "name": "stdout",
     "output_type": "stream",
     "text": [
      "(211, 31)\n",
      "family avg cross HC = 0.12587\n",
      "family avg auto HC = 0.0\n",
      "family max HC = 1.21126\n"
     ]
    }
   ],
   "source": [
    "for a in p_elements[1:]:\n",
    "    WGFHSset = np.concatenate([WGFHSset, get_WGFHSset(p, q, w, int(a), d)])\n",
    "\n",
    "print(WGFHSset.shape)\n",
    "print(f\"family avg cross HC = {round(avg_crossHC(WGFHSset),5)}\")\n",
    "print(f\"family avg auto HC = {round(avg_autoHC(WGFHSset),5)}\")\n",
    "print(f\"family max HC = {round(avg_maxHC(WGFHSset),5)}\")"
   ]
  },
  {
   "cell_type": "code",
   "execution_count": null,
   "metadata": {},
   "outputs": [],
   "source": []
  },
  {
   "attachments": {},
   "cell_type": "markdown",
   "metadata": {},
   "source": [
    "---\n",
    "# OC WG FHS algebraic construction, no primitive element\n",
    "\n",
    "Ren, W., & Wang, F. (2023). A new class of optimal wide-gap one-coincidence frequency-hopping sequence sets. Advances in Mathematics of Communications, 17(2), 342-352.\n",
    "\n",
    "- Theorem 3.1:\n",
    "\n",
    "Let $p > 2$ be a prime number and $w$ a positive integer s.t. $1 \\leq w \\leq p-1$ and $\\langle \\cdot \\rangle$ denote the $mod$ $p$ operator \n",
    "\n",
    "Then the set $B = \\{b_k = b_k(i) , 0 \\leq i \\leq p-1, 1 \\leq k \\leq p-1\\}$ is an optimal OC-FHS set with $p-1$ sequences of length $p$ over a frequency set $F$ s.t. $|F|= \\ell = wp - w^2 + 1$\n",
    "\n",
    "where\n",
    "\n",
    "$b_k(i) = \\sum_{j=i}^{i+w-1} \\langle jk \\rangle $\n",
    "\n",
    "- Theorem 4.3:\n",
    "\n",
    "For any given minimum wide-gap $D$ with $0 < D \\leq \\frac{p-1}{2}$, the set obtained by filtering the sequences of the set $B$ according to the gap $D$ is an optimal OC-WG-FHS set "
   ]
  },
  {
   "cell_type": "code",
   "execution_count": 30,
   "metadata": {},
   "outputs": [],
   "source": [
    "def get_FHSsequence2(p, w, k):\n",
    "    fhs = []\n",
    "    for i in range(p):\n",
    "        fhs.append( sum( [(j*k) % p for j in range(i, i+w)] ) )\n",
    "\n",
    "    return fhs\n",
    "\n",
    "\n",
    "def get_WGFHSset2(p, w, d):\n",
    "    FHSset = np.array([get_FHSsequence2(p, w, k) for k in range(1,p)])\n",
    "    WGFHSset = []\n",
    "    for b in FHSset:\n",
    "        if get_min_gap(b) >= d:\n",
    "            WGFHSset.append(b)\n",
    "\n",
    "    return np.array(WGFHSset)"
   ]
  },
  {
   "cell_type": "code",
   "execution_count": 31,
   "metadata": {},
   "outputs": [
    {
     "data": {
      "image/png": "[encoded data removed]",
      "text/plain": [
       "<Figure size 640x480 with 1 Axes>"
      ]
     },
     "metadata": {},
     "output_type": "display_data"
    }
   ],
   "source": [
    "p = 37\n",
    "for w in range(p-1):\n",
    "    plt.scatter(w, w*p - w**2 + 1, color='k')\n",
    "\n",
    "plt.plot([x for x in range(w)], [280 for x in range(w)], color='r')\n",
    "plt.title(f'frequency set size for p={p}')\n",
    "plt.xlabel('w')\n",
    "plt.ylabel('|F|=l')\n",
    "plt.grid()\n",
    "plt.show()\n"
   ]
  },
  {
   "cell_type": "code",
   "execution_count": 32,
   "metadata": {},
   "outputs": [],
   "source": [
    "w = 10\n",
    "d = 8\n",
    "WGFHSset = get_WGFHSset2(p, w, d)"
   ]
  },
  {
   "cell_type": "code",
   "execution_count": 33,
   "metadata": {},
   "outputs": [
    {
     "name": "stdout",
     "output_type": "stream",
     "text": [
      "(22, 37)\n",
      "family avg cross HC = 0.43185\n",
      "family avg auto HC = 0.0\n",
      "family max HC = 0.91304\n"
     ]
    }
   ],
   "source": [
    "\n",
    "print(WGFHSset.shape)\n",
    "print(f\"family avg cross HC = {round(avg_crossHC(WGFHSset),5)}\")\n",
    "print(f\"family avg auto HC = {round(avg_autoHC(WGFHSset),5)}\")\n",
    "print(f\"family max HC = {round(avg_maxHC(WGFHSset),5)}\")"
   ]
  },
  {
   "attachments": {},
   "cell_type": "markdown",
   "metadata": {},
   "source": [
    "---"
   ]
  },
  {
   "cell_type": "code",
   "execution_count": 6,
   "metadata": {},
   "outputs": [],
   "source": [
    "def numHops(payload_length, CR):\n",
    "\n",
    "    assert CR==1 or CR==2, \"Only CR 1/3 and CR 2/3 supported\"\n",
    "\n",
    "    length_bits = ( payload_length + 2 ) * 8 + 6\n",
    "    length_bits = length_bits * 3 // CR\n",
    "\n",
    "    nb_hops_out = ( length_bits + 47 ) // 48\n",
    "\n",
    "    return nb_hops_out"
   ]
  },
  {
   "cell_type": "code",
   "execution_count": 14,
   "metadata": {},
   "outputs": [
    {
     "data": {
      "text/plain": [
       "8"
      ]
     },
     "execution_count": 14,
     "metadata": {},
     "output_type": "execute_result"
    }
   ],
   "source": [
    "numHops(29, 2)"
   ]
  },
  {
   "cell_type": "code",
   "execution_count": 15,
   "metadata": {},
   "outputs": [
    {
     "data": {
      "text/plain": [
       "8"
      ]
     },
     "execution_count": 15,
     "metadata": {},
     "output_type": "execute_result"
    }
   ],
   "source": [
    "numHops(13, 1)"
   ]
  },
  {
   "cell_type": "code",
   "execution_count": 4,
   "metadata": {},
   "outputs": [
    {
     "data": {
      "text/plain": [
       "512"
      ]
     },
     "execution_count": 4,
     "metadata": {},
     "output_type": "execute_result"
    }
   ],
   "source": [
    "16*8*4"
   ]
  },
  {
   "cell_type": "code",
   "execution_count": 3,
   "metadata": {},
   "outputs": [
    {
     "name": "stdout",
     "output_type": "stream",
     "text": [
      "[4291, 4941, 5689, 6551, 7543, 8685, 10000]\n"
     ]
    }
   ],
   "source": [
    "import numpy as np\n",
    "asd = [int(i) for i in np.logspace(1.0, 4.0, num=50)]\n",
    "print(asd[-7:])"
   ]
  },
  {
   "cell_type": "code",
   "execution_count": 3,
   "metadata": {},
   "outputs": [
    {
     "name": "stdout",
     "output_type": "stream",
     "text": [
      "[10, 11, 13, 15, 18, 20, 24, 28, 32, 37, 43, 50, 58, 68, 78, 91, 106, 122, 142, 165, 191, 221, 257, 298, 345, 400, 464, 537, 623, 722, 837, 970, 1125, 1304, 1511, 1752, 2030, 2353, 2728, 3162]\n"
     ]
    }
   ],
   "source": [
    "x=[int(i) for i in np.logspace(1.0, 3.5, num=40)]\n",
    "print(x)"
   ]
  },
  {
   "cell_type": "code",
   "execution_count": 5,
   "metadata": {},
   "outputs": [],
   "source": [
    "def lr_fhss_get_next_state(lfsr_state, polynomial, xoring_seed, n_grid):\n",
    "    \n",
    "    hop = 0\n",
    "\n",
    "    lsb = lfsr_state & 1\n",
    "    lfsr_state >>= 1\n",
    "    if lsb:\n",
    "        lfsr_state ^= polynomial\n",
    "\n",
    "    hop = xoring_seed\n",
    "    if hop != lfsr_state:\n",
    "        hop ^= lfsr_state\n",
    "\n",
    "    return lfsr_state, hop - 1\n",
    "\n",
    "\n",
    "def lr_fhss_get_next_state2(lfsr_state, polynomial, xoring_seed, n_grid):\n",
    "    \n",
    "    hop = 0\n",
    "    while 1:\n",
    "\n",
    "        lsb = lfsr_state & 1\n",
    "        lfsr_state >>= 1\n",
    "        if lsb:\n",
    "            lfsr_state ^= polynomial\n",
    "\n",
    "        hop = xoring_seed\n",
    "        if hop != lfsr_state:\n",
    "            hop ^= lfsr_state\n",
    "\n",
    "        if hop <= n_grid:\n",
    "            break\n",
    "\n",
    "    return lfsr_state, hop - 1\n",
    "\n",
    "\n",
    "\n",
    "# get lr fhss sequence of length 31\n",
    "def get_lr_fhss_seq(id):\n",
    "    n_grid = 35\n",
    "    lr_fhss_lfsr_poly1 = [33, 45, 48, 51, 54, 57]\n",
    "\n",
    "    lfsr_state = 6\n",
    "    fhs = []\n",
    "\n",
    "    polynomial = lr_fhss_lfsr_poly1[id >> 6]\n",
    "    xoring_seed = id & 0x3F\n",
    "\n",
    "    for _ in range(35):\n",
    "        lfsr_state, hop = lr_fhss_get_next_state2(lfsr_state, polynomial, xoring_seed, n_grid)\n",
    "        fhs.append(hop)\n",
    "\n",
    "    #print(f\"id={id}\\tpoly={polynomial}\\tseed={xoring_seed}\\nseq = {fhs}\\n\")\n",
    "\n",
    "    return fhs"
   ]
  },
  {
   "cell_type": "code",
   "execution_count": 37,
   "metadata": {},
   "outputs": [
    {
     "name": "stdout",
     "output_type": "stream",
     "text": [
      "[2, 31, 15, 7, 3, 1, 0, 32, 48, 56, 60, 62, 61, 30, 45, 22, 41, 20, 42, 51, 25, 12, 38, 49, 24, 44, 54, 57, 28, 46, 53, 26, 43, 21, 10, 35, 17, 8, 36, 50, 55, 27, 13, 6, 33, 16, 40, 52, 58, 59, 29, 14, 37, 18, 39, 19, 9, 4, 34, 47, 23, 11, 5]\n",
      "[43, 2, 56, 35, 6, 58, 36, 41, 46, 20, 49, 11, 18, 48, 31, 4, 57, 7, 16, 47, 12, 61, 9, 15, 28, 53, 13, 17, 27, 26, 52, 33, 3, 22, 50, 32, 39, 0, 55, 8, 59, 10, 60, 37, 5, 21, 29, 25, 23, 24, 51, 14, 62, 38, 42, 44, 45, 1, 19, 30, 54, 34, 40]\n",
      "maxHC: 6\n"
     ]
    }
   ],
   "source": [
    "fhs0 = get_lr_fhss_seq(0)\n",
    "print(fhs0)\n",
    "fhs1 = get_lr_fhss_seq(111)\n",
    "print(fhs1)\n",
    "\n",
    "print(f\"maxHC: {maxHC(fhs0,fhs1)}\")"
   ]
  },
  {
   "cell_type": "code",
   "execution_count": 8,
   "metadata": {},
   "outputs": [
    {
     "name": "stdout",
     "output_type": "stream",
     "text": [
      "[2, 31, 15, 7, 3, 1, 0, 32, 30, 22, 20, 25, 12, 24, 28, 26, 21, 10, 17, 8, 27, 13, 6, 33, 16, 29, 14, 18, 19, 9, 4, 34, 23, 11, 5]\n",
      "[1, 32, 16, 8, 4, 2, 0, 31, 29, 21, 19, 26, 11, 23, 27, 25, 22, 9, 18, 7, 28, 14, 5, 34, 15, 30, 13, 17, 20, 10, 3, 33, 24, 12, 6]\n"
     ]
    }
   ],
   "source": [
    "fhs0 = get_lr_fhss_seq(0)\n",
    "print(fhs0)\n",
    "fhs1 = get_lr_fhss_seq(1)\n",
    "print(fhs1)\n"
   ]
  },
  {
   "cell_type": "code",
   "execution_count": 14,
   "metadata": {},
   "outputs": [
    {
     "name": "stdout",
     "output_type": "stream",
     "text": [
      "[6, 34, 4, 33, 7, 28, 13, 29, 21, 17, 15, 16, 12, 9, 27, 22, 3, 26, 1, 23, 20, 11, 30, 5, 25, 19, 18, 2, 32, 0, 31, 8, 10, 24, 14]\n"
     ]
    }
   ],
   "source": [
    "print(get_lr_fhss_seq(383))"
   ]
  },
  {
   "cell_type": "code",
   "execution_count": 1,
   "metadata": {},
   "outputs": [],
   "source": [
    "import numpy as np"
   ]
  },
  {
   "cell_type": "code",
   "execution_count": 4,
   "metadata": {},
   "outputs": [
    {
     "name": "stdout",
     "output_type": "stream",
     "text": [
      "[[1 2 3]\n",
      " [4 5 6]\n",
      " [7 8 9]]\n"
     ]
    }
   ],
   "source": [
    "m = np.asarray([[1,2,3],\n",
    "                [4,5,6],\n",
    "                [7,8,9]])\n",
    "\n",
    "print(m)"
   ]
  },
  {
   "cell_type": "code",
   "execution_count": 5,
   "metadata": {},
   "outputs": [
    {
     "name": "stdout",
     "output_type": "stream",
     "text": [
      "[[1 2 3]\n",
      " [4 0 0]\n",
      " [7 8 9]]\n"
     ]
    }
   ],
   "source": [
    "m[1][1:3] = 0\n",
    "\n",
    "print(m)"
   ]
  },
  {
   "cell_type": "code",
   "execution_count": 1,
   "metadata": {},
   "outputs": [],
   "source": [
    "import numpy as np\n",
    "import matplotlib.pyplot as plt"
   ]
  },
  {
   "cell_type": "code",
   "execution_count": 2,
   "metadata": {},
   "outputs": [
    {
     "name": "stderr",
     "output_type": "stream",
     "text": [
      "C:\\Users\\diego\\AppData\\Local\\Temp\\ipykernel_20092\\3741745206.py:27: RuntimeWarning: invalid value encountered in divide\n",
      "  processed.append(v/tp[i])\n"
     ]
    }
   ],
   "source": [
    "nodes = np.array([10,12,16,20,26,33,42,54,69,88,112,143,183,233,297,379,483,615,784,1000])\n",
    "tp = np.array([0.0,0.0,0.0,0.2,0.1,0.8,1.6,2.6,7.5,10.9,24.4,42.8,70.6,117.8,183.3,265.5,370.3,507.8,681.5,893.6])\n",
    "\n",
    "data = np.array([np.array([0., 0., 0., 0., 0., 0., 0., 0., 0., 0., 0.]),\n",
    " np.array([0., 0., 0., 0., 0., 0., 0., 0., 0., 0., 0.]),\n",
    " np.array([0., 0., 0., 0., 0., 0., 0., 0., 0., 0., 0.]),\n",
    " np.array([0.1, 0. , 0. , 0. , 0. , 0.1, 0. , 0. , 0. , 0. , 0. ]),\n",
    " np.array([0. , 0. , 0. , 0. , 0. , 0.1, 0. , 0. , 0. , 0. , 0. ]),\n",
    " np.array([0.2, 0. , 0. , 0. , 0. , 0.6, 0. , 0. , 0. , 0. , 0. ]),\n",
    " np.array([0.1, 0. , 0. , 0. , 0. , 1.5, 0. , 0. , 0. , 0. , 0. ]),\n",
    " np.array([0.6, 0.1, 0. , 0. , 0. , 1.9, 0. , 0. , 0. , 0. , 0. ]),\n",
    " np.array([1. , 0.2, 0. , 0.1, 0.2, 6. , 0. , 0. , 0. , 0. , 0. ]),\n",
    " np.array([1.2, 0. , 0.3, 0.2, 0.2, 9. , 0. , 0. , 0. , 0. , 0. ]),\n",
    " np.array([ 2.4,  0.1,  0.4,  0.4,  0.4, 20.7,  0. ,  0. ,  0. ,  0. ,  0. ]),\n",
    " np.array([ 5.2,  0.5,  0.5,  1. ,  0.8, 34.6,  0.2,  0. ,  0. ,  0. ,  0. ]),\n",
    " np.array([10.2,  1. ,  1.3,  0.7,  1.5, 55.8,  0.1,  0. ,  0. ,  0. ,  0. ]),\n",
    " np.array([16.5,  1. ,  1.7,  1.4,  2.9, 93.7,  0.6,  0. ,  0. ,  0. ,  0. ]),\n",
    " np.array([2.650e+01, 2.700e+00, 3.400e+00, 2.500e+00, 4.100e+00, 1.414e+02, 2.600e+00, 1.000e-01, 0.000e+00, 0.000e+00, 0.000e+00]),\n",
    " np.array([3.98e+01, 4.20e+00, 4.50e+00, 3.80e+00, 5.50e+00, 2.01e+02, 6.00e+00, 5.00e-01, 0.00e+00, 1.00e-01, 1.00e-01]),\n",
    " np.array([5.820e+01, 6.300e+00, 6.400e+00, 7.000e+00, 8.500e+00, 2.682e+02, 1.410e+01, 1.400e+00, 1.000e-01, 0.000e+00, 1.000e-01]),\n",
    " np.array([8.500e+01, 1.000e+01, 1.040e+01, 1.060e+01, 1.140e+01, 3.407e+02, 3.420e+01, 3.900e+00, 7.000e-01, 3.000e-01, 6.000e-01]),\n",
    " np.array([133.4,  15.2,  13.7,  13.8,  15.1, 411.3,  59.8,  13.4,   3.2, 1.3,   1.3]),\n",
    " np.array([204.9,  21.2,  18.7,  18.1,  23.2, 445.7, 104.1,  36.8,  13.4, 3.8,   3.7])])\n",
    "\n",
    "processed = []\n",
    "for i, v in enumerate(data):\n",
    "    processed.append(v/tp[i])\n",
    "processed = np.array(processed)"
   ]
  },
  {
   "cell_type": "code",
   "execution_count": 3,
   "metadata": {},
   "outputs": [
    {
     "data": {
      "image/png": "[encoded data removed]",
      "text/plain": [
       "<Figure size 1200x600 with 2 Axes>"
      ]
     },
     "metadata": {},
     "output_type": "display_data"
    }
   ],
   "source": [
    "fig = plt.figure(figsize=(12,6))\n",
    "im = plt.imshow(processed.T, extent=[0, tp[-1], 5, -5], interpolation ='none', aspect='auto')\n",
    "fig.colorbar(im)\n",
    "plt.title(f'real length vs estimated length difference')\n",
    "plt.xlabel('true positives')\n",
    "plt.xscale('log')\n",
    "plt.ylabel('difference')\n",
    "plt.show()\n",
    "#plt.savefig(save)\n",
    "plt.close('all')"
   ]
  },
  {
   "cell_type": "code",
   "execution_count": 2,
   "metadata": {},
   "outputs": [
    {
     "name": "stderr",
     "output_type": "stream",
     "text": [
      "C:\\Users\\diego\\AppData\\Local\\Temp\\ipykernel_21044\\533626680.py:27: RuntimeWarning: invalid value encountered in divide\n",
      "  processed.append(v/tp[i])\n"
     ]
    }
   ],
   "source": [
    "nodes = np.array([10,12,16,20,26,33,42,54,69,88,112,143,183,233,297,379,483,615,784,1000])\n",
    "tp = [0.0, 0.0, 0.0, 0.2, 0.1, 0.9, 1.6, 2.6, 7.5, 10.9, 24.5, 43.2, 70.9, 118.5, 184.2, 266.0, 372.3, 509.2, 683.4, 897.0]\n",
    "\n",
    "data = np.array([np.array([0., 0., 0., 0., 0., 0., 0., 0., 0., 0., 0.]),\n",
    " np.array([0., 0., 0., 0., 0., 0., 0., 0., 0., 0., 0.]),\n",
    " np.array([0., 0., 0., 0., 0., 0., 0., 0., 0., 0., 0.]),\n",
    " np.array([0.1, 0. , 0. , 0. , 0. , 0.1, 0. , 0. , 0. , 0. , 0. ]),\n",
    " np.array([0. , 0. , 0. , 0. , 0. , 0.1, 0. , 0. , 0. , 0. , 0. ]),\n",
    " np.array([0.2, 0. , 0. , 0. , 0. , 0.7, 0. , 0. , 0. , 0. , 0. ]),\n",
    " np.array([0.2, 0. , 0. , 0. , 0. , 1.4, 0. , 0. , 0. , 0. , 0. ]),\n",
    " np.array([0.6, 0.1, 0. , 0. , 0. , 1.9, 0. , 0. , 0. , 0. , 0. ]),\n",
    " np.array([0.9, 0.1, 0. , 0. , 0.2, 6.3, 0. , 0. , 0. , 0. , 0. ]),\n",
    " np.array([0.9, 0. , 0.3, 0.2, 0.3, 9.2, 0. , 0. , 0. , 0. , 0. ]),\n",
    " np.array([ 2.4,  0. ,  0.5,  0.5,  0.5, 20.6,  0. ,  0. ,  0. ,  0. ,  0. ]),\n",
    " np.array([ 5.5,  0.4,  0.8,  0.8,  1.1, 34.4,  0.2,  0. ,  0. ,  0. ,  0. ]),\n",
    " np.array([10.9,  1.1,  1.4,  0.5,  1.7, 54.9,  0.4,  0. ,  0. ,  0. ,  0. ]),\n",
    " np.array([18. ,  1.3,  1.6,  0.8,  2.8, 92.6,  1.4,  0. ,  0. ,  0. ,  0. ]),\n",
    " np.array([2.850e+01, 2.700e+00, 3.300e+00, 2.600e+00, 4.400e+00, 1.389e+02, 3.700e+00, 0.000e+00, 0.000e+00, 0.000e+00, 1.000e-01]),\n",
    " np.array([4.350e+01, 3.700e+00, 4.300e+00, 4.200e+00, 6.100e+00, 1.942e+02, 9.000e+00, 7.000e-01, 1.000e-01, 1.000e-01, 1.000e-01]),\n",
    " np.array([6.360e+01, 7.100e+00, 6.700e+00, 8.100e+00, 9.000e+00, 2.557e+02, 1.880e+01, 2.800e+00, 3.000e-01, 0.000e+00, 2.000e-01]),\n",
    " np.array([102.3,  10.5,   9.7,  10.1,  11. , 312.9,  42.8,   6.3,   2.4, 0.5,   0.7]),\n",
    " np.array([153.6,  14.2,  15.7,  15.2,  16.3, 367. ,  72.1,  18.5,   5.7, 3. ,   2.1]),\n",
    " np.array([240.6,  19.6,  20.3,  20.4,  27.1, 372.8, 112.2,  47.3,  18.1, 8.7,   9.9])])\n",
    "\n",
    "processed = []\n",
    "for i, v in enumerate(data):\n",
    "    processed.append(v/tp[i])\n",
    "processed = np.array(processed)"
   ]
  },
  {
   "cell_type": "code",
   "execution_count": 3,
   "metadata": {},
   "outputs": [
    {
     "data": {
      "image/png": "[encoded data removed]",
      "text/plain": [
       "<Figure size 1200x600 with 2 Axes>"
      ]
     },
     "metadata": {},
     "output_type": "display_data"
    }
   ],
   "source": [
    "fig = plt.figure(figsize=(12,6))\n",
    "im = plt.imshow(processed.T, extent=[0, tp[-1], 5, -5], interpolation ='none', aspect='auto')\n",
    "fig.colorbar(im)\n",
    "plt.title(f'real length vs estimated length difference')\n",
    "plt.xlabel('true positives')\n",
    "plt.ylabel('difference')\n",
    "plt.show()\n",
    "#plt.savefig(save)\n",
    "plt.close('all')"
   ]
  },
  {
   "cell_type": "code",
   "execution_count": null,
   "metadata": {},
   "outputs": [],
   "source": []
  }
 ],
 "metadata": {
  "kernelspec": {
   "display_name": "base",
   "language": "python",
   "name": "python3"
  },
  "language_info": {
   "codemirror_mode": {
    "name": "ipython",
    "version": 3
   },
   "file_extension": ".py",
   "mimetype": "text/x-python",
   "name": "python",
   "nbconvert_exporter": "python",
   "pygments_lexer": "ipython3",
   "version": "3.10.11"
  },
  "orig_nbformat": 4
 },
 "nbformat": 4,
 "nbformat_minor": 2
}
