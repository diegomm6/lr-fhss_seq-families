{
 "cells": [
  {
   "cell_type": "code",
   "execution_count": 26,
   "metadata": {},
   "outputs": [],
   "source": [
    "import numpy as np\n",
    "import galois\n",
    "import hashlib\n",
    "import matplotlib.pyplot as plt"
   ]
  },
  {
   "attachments": {},
   "cell_type": "markdown",
   "metadata": {},
   "source": [
    "---\n",
    "# base functions"
   ]
  },
  {
   "cell_type": "code",
   "execution_count": 27,
   "metadata": {},
   "outputs": [],
   "source": [
    "# Obtain minimal gap between adyacent values for sequence X\n",
    "def get_min_gap(X):\n",
    "    gap = np.inf\n",
    "    q = len(X)\n",
    "\n",
    "    for i in range(q):\n",
    "\n",
    "        d = abs(X[(i+1) % q] - X[i])\n",
    "\n",
    "        if d < gap:\n",
    "            gap = d\n",
    "\n",
    "    return gap\n",
    "\n",
    "\n",
    "# Transform number n to base b\n",
    "def numberToBase(n, b):\n",
    "    if n == 0:\n",
    "        return [0]\n",
    "    digits = []\n",
    "    while n:\n",
    "        digits.append(int(n % b))\n",
    "        n //= b\n",
    "    return digits[::-1]\n",
    "\n",
    "\n",
    "# hamming correlation with shift 0 for sequences\n",
    "# u and v with the same length (assumed)\n",
    "def hamming_correlation(u,v):\n",
    "    u_eq_v = u == v\n",
    "    return u_eq_v.sum()\n",
    "\n",
    "# maximal hamming correlation for sequences\n",
    "# u and v with the same length (assumed)\n",
    "def maxHC(u,v):\n",
    "\n",
    "    start = 0\n",
    "    if np.array_equal(u,v): start = 1\n",
    "\n",
    "    current_maxHC = 0\n",
    "    for shift in range(start, len(u)):\n",
    "\n",
    "        hc = hamming_correlation(u, np.roll(v, shift))\n",
    "        \n",
    "        if hc > current_maxHC:\n",
    "            current_maxHC = hc\n",
    "    \n",
    "    return current_maxHC\n",
    "\n",
    "\n",
    "# average hamming auto correlation for a family of\n",
    "# sequences with the same length (assumed)\n",
    "def avg_autoHC(fam):\n",
    "    _avgHC = 0\n",
    "    M, L = fam.shape\n",
    "    for i in range(M):\n",
    "        for shift in range(1, L):\n",
    "            _avgHC += hamming_correlation(fam[i], np.roll(fam[i], shift))\n",
    "\n",
    "    return _avgHC / (M * (L-1))\n",
    "\n",
    "\n",
    "# average hamming cross correlation for a family of\n",
    "# sequences with the same length (assumed)\n",
    "def avg_crossHC(fam):\n",
    "    _avgHC = 0\n",
    "    M, L = fam.shape\n",
    "    for i in range(M):\n",
    "        for j in range(i):\n",
    "            for shift in range(L):\n",
    "                _avgHC += hamming_correlation(fam[i], np.roll(fam[j], shift))\n",
    "\n",
    "    n = M * (M-1) / 2\n",
    "    return _avgHC / (L*n)\n",
    "\n",
    "\n",
    "# average maximal hamming correlation for all paris of\n",
    "# sequences from a single family\n",
    "def avg_maxHC(fam):\n",
    "    mean = 0\n",
    "    s = len(fam)\n",
    "    for i in range(s):\n",
    "        for j in range(i+1):\n",
    "            mean += maxHC(fam[i], fam[j])\n",
    "\n",
    "    n = s * (s+1) / 2\n",
    "    return mean / n\n",
    "\n",
    "\n",
    "# average maximal hamming correlation for all paris of\n",
    "# sequences from two families\n",
    "def avg_maxHC_2fam(fam1, fam2):\n",
    "    mean = 0\n",
    "    s = len(fam1)\n",
    "    for i in range(s):\n",
    "        for j in range(s):\n",
    "            mean += maxHC(fam1[i], fam2[j])\n",
    "        \n",
    "    n = s**2\n",
    "    return mean / n"
   ]
  },
  {
   "attachments": {},
   "cell_type": "markdown",
   "metadata": {},
   "source": [
    "---\n",
    "# 1st method (family)\n",
    "\n",
    "Generates a family of sequences with optimal maximal hammig correlation from a single m-sequence\n",
    "\n",
    ".\n",
    "\n",
    "Generated sequences have length q = p^n - 1\n",
    "\n",
    "over an alphabet A of size |A| = p^k\n",
    "\n",
    "for any given prime number p\n",
    "\n",
    "and integers k,n s.t. 1 <= k <= n\n",
    "\n",
    ".\n",
    "\n",
    "\n",
    "[1] Lempel, A., & Greenberger, H. (1974). Families of sequences with optimal Hamming-correlation properties. IEEE Transactions on Information Theory, 20(1), 90-94.\n"
   ]
  },
  {
   "cell_type": "code",
   "execution_count": 28,
   "metadata": {},
   "outputs": [],
   "source": [
    "\"\"\"\n",
    "maps a sequence X in P^k to a value in P_k\n",
    "where P^k is the set of all words of length k over P\n",
    "P is the finite field (GF) of order p, i.e. P = {0, 1, ..., p-1}\n",
    "P_k is the finite field (GF) of order p^k, i.e. P_k = {0, 1, ..., p^k-1}\n",
    "\"\"\"\n",
    "def sigma_transform(X, p, k):\n",
    "\n",
    "    Y = []\n",
    "    q = len(X)\n",
    "    for j in range(q):\n",
    "\n",
    "        y_j = 0\n",
    "        for i in range(k):\n",
    "            y_j += X[(j+i) % q] * p**i\n",
    "\n",
    "        Y.append(y_j)\n",
    "\n",
    "    return Y\n",
    "\n",
    "\n",
    "\"\"\"\n",
    "Following the construction presented in [1]\n",
    "given an m-sequence X of length q = p^n - 1 over GF(p)\n",
    "where p is a prime number\n",
    "then for each k s.t. 1 <= k <= n, the set F of p^k\n",
    "sequences is an optimal family\n",
    "\n",
    "a variation of the sigma transform is used\n",
    "\"\"\"\n",
    "def optimal_family(X, p, k):\n",
    "\n",
    "    family = []\n",
    "    q = len(X)\n",
    "    for v in range(p**k):\n",
    "\n",
    "        z = numberToBase(v, p)\n",
    "        while len(z) < k:\n",
    "            z.insert(0,0)\n",
    "        z.reverse()\n",
    "\n",
    "        Y = []\n",
    "        for j in range(q):\n",
    "\n",
    "            y_j = 0\n",
    "            for i in range(k):\n",
    "                y_j += ( ( X[ (j+i) % q] + z[i]) % p ) * p**i\n",
    "\n",
    "            Y.append(y_j)\n",
    "\n",
    "        family.append(Y)\n",
    "        #print(f\"Y{v} = \", Y)\n",
    "\n",
    "    return np.array(family)"
   ]
  },
  {
   "cell_type": "code",
   "execution_count": 29,
   "metadata": {},
   "outputs": [],
   "source": [
    "# test from [1]\n",
    "# n = 3, then q = len(X) = p^n - 1 = 3^3 - 1 = 26\n",
    "X = [0,0,1,1,1,0,2,1,1,2,1,0,1,0,0,2,2,2,0,1,2,2,1,2,0,2]\n",
    "testfam = optimal_family(X, 3, 2)"
   ]
  },
  {
   "attachments": {},
   "cell_type": "markdown",
   "metadata": {},
   "source": [
    "### test for lora m = 2**8 = 256 "
   ]
  },
  {
   "cell_type": "code",
   "execution_count": 30,
   "metadata": {},
   "outputs": [],
   "source": [
    "c = galois.primitive_poly(2, 8)\n",
    "lfsr = galois.GLFSR(c.reverse())"
   ]
  },
  {
   "cell_type": "code",
   "execution_count": 31,
   "metadata": {},
   "outputs": [],
   "source": [
    "p = 2\n",
    "k = 8\n",
    "n = 8\n",
    "q = p**n - 1\n",
    "\n",
    "x1 = lfsr.step(q)\n",
    "x2 = lfsr.step(q)\n",
    "\n",
    "fam1 = optimal_family(np.array(x1), p, k)\n",
    "fam2 = optimal_family(np.array(x2), p, k)"
   ]
  },
  {
   "cell_type": "code",
   "execution_count": 32,
   "metadata": {},
   "outputs": [
    {
     "data": {
      "text/plain": [
       "0.9922178988326849"
      ]
     },
     "execution_count": 32,
     "metadata": {},
     "output_type": "execute_result"
    }
   ],
   "source": [
    "avg_maxHC(fam1)"
   ]
  },
  {
   "attachments": {},
   "cell_type": "markdown",
   "metadata": {},
   "source": [
    "### test for lora m = 2**5 = 32 frequencies"
   ]
  },
  {
   "cell_type": "code",
   "execution_count": 33,
   "metadata": {},
   "outputs": [
    {
     "data": {
      "text/plain": [
       "Poly(x^5 + x^2 + 1, GF(2))"
      ]
     },
     "execution_count": 33,
     "metadata": {},
     "output_type": "execute_result"
    }
   ],
   "source": [
    "c = galois.primitive_poly(2, 5)\n",
    "lfsr = galois.GLFSR(c.reverse())\n",
    "\n",
    "c"
   ]
  },
  {
   "cell_type": "code",
   "execution_count": 34,
   "metadata": {},
   "outputs": [],
   "source": [
    "p = 2\n",
    "k = 5\n",
    "n = 5\n",
    "q = p**n - 1\n",
    "\n",
    "x1 = lfsr.step(q)\n",
    "x2 = lfsr.step(q)\n",
    "x3 = lfsr.step(q)\n",
    "\n",
    "method1_fam = optimal_family(np.array(x1), p, k)\n",
    "method1_fam = method1_fam *8\n",
    "fam2 = optimal_family(np.array(x2), p, k)\n",
    "fam3 = optimal_family(np.array(x3), p, k)"
   ]
  },
  {
   "cell_type": "code",
   "execution_count": 35,
   "metadata": {},
   "outputs": [
    {
     "data": {
      "text/plain": [
       "(32, 31)"
      ]
     },
     "execution_count": 35,
     "metadata": {},
     "output_type": "execute_result"
    }
   ],
   "source": [
    "method1_fam.shape"
   ]
  },
  {
   "cell_type": "code",
   "execution_count": 36,
   "metadata": {},
   "outputs": [
    {
     "data": {
      "text/plain": [
       "0.9393939393939394"
      ]
     },
     "execution_count": 36,
     "metadata": {},
     "output_type": "execute_result"
    }
   ],
   "source": [
    "avg_maxHC(method1_fam)"
   ]
  },
  {
   "cell_type": "code",
   "execution_count": 37,
   "metadata": {},
   "outputs": [
    {
     "data": {
      "text/plain": [
       "0.0"
      ]
     },
     "execution_count": 37,
     "metadata": {},
     "output_type": "execute_result"
    }
   ],
   "source": [
    "avg_autoHC(method1_fam)"
   ]
  },
  {
   "cell_type": "code",
   "execution_count": 38,
   "metadata": {},
   "outputs": [
    {
     "data": {
      "text/plain": [
       "0.967741935483871"
      ]
     },
     "execution_count": 38,
     "metadata": {},
     "output_type": "execute_result"
    }
   ],
   "source": [
    "avg_crossHC(method1_fam)"
   ]
  },
  {
   "cell_type": "code",
   "execution_count": 39,
   "metadata": {},
   "outputs": [
    {
     "data": {
      "text/plain": [
       "0.9393939393939394"
      ]
     },
     "execution_count": 39,
     "metadata": {},
     "output_type": "execute_result"
    }
   ],
   "source": [
    "avg_maxHC(fam2)"
   ]
  },
  {
   "cell_type": "code",
   "execution_count": 42,
   "metadata": {},
   "outputs": [
    {
     "data": {
      "text/plain": [
       "0.0"
      ]
     },
     "execution_count": 42,
     "metadata": {},
     "output_type": "execute_result"
    }
   ],
   "source": [
    "avg_autoHC(fam2)"
   ]
  },
  {
   "cell_type": "code",
   "execution_count": 40,
   "metadata": {},
   "outputs": [
    {
     "data": {
      "text/plain": [
       "0.9393939393939394"
      ]
     },
     "execution_count": 40,
     "metadata": {},
     "output_type": "execute_result"
    }
   ],
   "source": [
    "avg_maxHC(fam3)"
   ]
  },
  {
   "cell_type": "code",
   "execution_count": 41,
   "metadata": {},
   "outputs": [
    {
     "data": {
      "text/plain": [
       "1.08984375"
      ]
     },
     "execution_count": 41,
     "metadata": {},
     "output_type": "execute_result"
    }
   ],
   "source": [
    "avg_maxHC_2fam(method1_fam, fam2)"
   ]
  },
  {
   "attachments": {},
   "cell_type": "markdown",
   "metadata": {},
   "source": [
    "---\n",
    "# 2nd method (sequence)\n",
    "\n",
    "Generates a wide gap sequence with minimum gap e and optimal maximal hamming autocorrelation\n",
    "\n",
    ".\n",
    "\n",
    "let X be a WGFHS of length q\n",
    "\n",
    "over alphabet A of size |A| = l\n",
    "\n",
    "with minimum gap e\n",
    "\n",
    "and maximal hamming autocorrelation h\n",
    "\n",
    "then X is defined by the parameters (q, l, h, e)\n",
    ".\n",
    "\n",
    "\n"
   ]
  },
  {
   "cell_type": "code",
   "execution_count": 43,
   "metadata": {},
   "outputs": [],
   "source": [
    "\"\"\"\n",
    "let l, d s.t. 1 < d < l/2\n",
    "& gcd(l, d) = gcd(l, d+1) = 1\n",
    "\n",
    "generate an optimal WGFHS with parameters (2*l, l, 2, d-1)\n",
    "\"\"\"\n",
    "def get_2l_sequence(l, d):\n",
    "    s = []\n",
    "    t = []\n",
    "\n",
    "    for i in range(l):\n",
    "        s.append( (i*d) % l )\n",
    "        t.append( (i*(d+1) + 1) % l )\n",
    "\n",
    "    return np.array(s + t)\n",
    "\n",
    "\n",
    "\"\"\"\n",
    "let l, d s.t. 1 < d < (l-1)/2\n",
    "& gcd(l, d) = gcd(l, d+1) = gcd(l, d+2) = 1\n",
    "\n",
    "generate an optimal WGFHS with parameters (3*l, l, 3, d-1)\n",
    "\"\"\"\n",
    "def get_3l_sequence(l, d):\n",
    "    s = []\n",
    "    t = []\n",
    "    u = []\n",
    "\n",
    "    for i in range(l):\n",
    "        s.append( (i*d) % l )\n",
    "        t.append( (i*(d+1) + 1) % l )\n",
    "        u.append( (i*(d+2) + 2) % l )\n",
    "\n",
    "    return np.array(s + t + u)\n",
    "\n",
    "\n",
    "# greatest common division\n",
    "def gcd(a, b):\n",
    "    if(b == 0): return abs(a)\n",
    "    else: return gcd(b, a % b)\n"
   ]
  },
  {
   "attachments": {},
   "cell_type": "markdown",
   "metadata": {},
   "source": [
    "#### 3*l seq"
   ]
  },
  {
   "cell_type": "code",
   "execution_count": 44,
   "metadata": {},
   "outputs": [
    {
     "name": "stdout",
     "output_type": "stream",
     "text": [
      "a=1\tb=1\tc=1\n"
     ]
    }
   ],
   "source": [
    "l = 277\n",
    "d = 8\n",
    "\n",
    "print(f\"a={gcd(l, d)}\\tb={gcd(l, d+1)}\\tc={gcd(l, d+2)}\")"
   ]
  },
  {
   "cell_type": "code",
   "execution_count": 45,
   "metadata": {},
   "outputs": [],
   "source": [
    "x = get_3l_sequence(l, d)"
   ]
  },
  {
   "cell_type": "code",
   "execution_count": 46,
   "metadata": {},
   "outputs": [
    {
     "data": {
      "text/plain": [
       "8"
      ]
     },
     "execution_count": 46,
     "metadata": {},
     "output_type": "execute_result"
    }
   ],
   "source": [
    "get_min_gap(x)"
   ]
  },
  {
   "cell_type": "code",
   "execution_count": 47,
   "metadata": {},
   "outputs": [
    {
     "data": {
      "text/plain": [
       "3"
      ]
     },
     "execution_count": 47,
     "metadata": {},
     "output_type": "execute_result"
    }
   ],
   "source": [
    "maxHC(x,x)"
   ]
  },
  {
   "cell_type": "code",
   "execution_count": 48,
   "metadata": {},
   "outputs": [
    {
     "data": {
      "text/plain": [
       "array([], dtype=int64)"
      ]
     },
     "execution_count": 48,
     "metadata": {},
     "output_type": "execute_result"
    }
   ],
   "source": [
    "np.where(x >= 280)[0]"
   ]
  },
  {
   "cell_type": "code",
   "execution_count": 49,
   "metadata": {},
   "outputs": [
    {
     "data": {
      "text/plain": [
       "(831,)"
      ]
     },
     "execution_count": 49,
     "metadata": {},
     "output_type": "execute_result"
    }
   ],
   "source": [
    "x.shape"
   ]
  },
  {
   "cell_type": "code",
   "execution_count": 50,
   "metadata": {},
   "outputs": [],
   "source": [
    "xx = np.delete(x, [ 35, 312, 646])"
   ]
  },
  {
   "cell_type": "code",
   "execution_count": 51,
   "metadata": {},
   "outputs": [
    {
     "data": {
      "text/plain": [
       "array([], dtype=int64)"
      ]
     },
     "execution_count": 51,
     "metadata": {},
     "output_type": "execute_result"
    }
   ],
   "source": [
    "np.where(xx >= 280)[0]"
   ]
  },
  {
   "cell_type": "code",
   "execution_count": 52,
   "metadata": {},
   "outputs": [],
   "source": [
    "method2_fam = []\n",
    "i=0\n",
    "j=31\n",
    "while j < len(xx):\n",
    "    method2_fam.append(xx[i:j])\n",
    "    i+=31\n",
    "    j+=31\n",
    "\n",
    "method2_fam = np.array(method2_fam)"
   ]
  },
  {
   "cell_type": "code",
   "execution_count": 53,
   "metadata": {},
   "outputs": [
    {
     "data": {
      "text/plain": [
       "(26, 31)"
      ]
     },
     "execution_count": 53,
     "metadata": {},
     "output_type": "execute_result"
    }
   ],
   "source": [
    "method2_fam.shape"
   ]
  },
  {
   "cell_type": "code",
   "execution_count": 54,
   "metadata": {},
   "outputs": [
    {
     "data": {
      "text/plain": [
       "0.7350427350427351"
      ]
     },
     "execution_count": 54,
     "metadata": {},
     "output_type": "execute_result"
    }
   ],
   "source": [
    "avg_maxHC(method2_fam)"
   ]
  },
  {
   "cell_type": "code",
   "execution_count": 55,
   "metadata": {},
   "outputs": [
    {
     "data": {
      "text/plain": [
       "0.0"
      ]
     },
     "execution_count": 55,
     "metadata": {},
     "output_type": "execute_result"
    }
   ],
   "source": [
    "avg_autoHC(method2_fam)"
   ]
  },
  {
   "cell_type": "code",
   "execution_count": 70,
   "metadata": {},
   "outputs": [
    {
     "data": {
      "text/plain": [
       "0.07751861042183623"
      ]
     },
     "execution_count": 70,
     "metadata": {},
     "output_type": "execute_result"
    }
   ],
   "source": [
    "avg_crossHC(method2_fam)"
   ]
  },
  {
   "attachments": {},
   "cell_type": "markdown",
   "metadata": {},
   "source": [
    "---\n",
    "# LR-FHSS FHS with 32 bit sha256 hash function  "
   ]
  },
  {
   "cell_type": "code",
   "execution_count": 61,
   "metadata": {},
   "outputs": [],
   "source": [
    "# obw to transmit fragment k for node x \n",
    "def get_obw(x, k):\n",
    "\n",
    "    i = x + k * 2**16\n",
    "    i = int.to_bytes(i, 4, 'little')\n",
    "\n",
    "    h = int.from_bytes(hashlib.sha256(i).digest()[:4], 'little')\n",
    "\n",
    "    return ( h % 35 ) * 8\n",
    "\n",
    "\n",
    "# q length sequence of owb's for node x\n",
    "def get_hashFHS(x, q):\n",
    "    fhs = []\n",
    "    for k in range(q):\n",
    "        fhs.append(get_obw(x, k))\n",
    "        \n",
    "    return fhs\n",
    "\n",
    "\n",
    "# all possible fhs of length q\n",
    "def get_hashFamily(q):\n",
    "    fam = []\n",
    "    for x in range(2**9):\n",
    "        fam.append(get_hashFHS(x, q))\n",
    "\n",
    "    return np.array(fam)"
   ]
  },
  {
   "cell_type": "code",
   "execution_count": 62,
   "metadata": {},
   "outputs": [],
   "source": [
    "q = 31\n",
    "hash_fam = get_hashFamily(q)"
   ]
  },
  {
   "cell_type": "code",
   "execution_count": 63,
   "metadata": {},
   "outputs": [
    {
     "data": {
      "text/plain": [
       "3.1983963815789473"
      ]
     },
     "execution_count": 63,
     "metadata": {},
     "output_type": "execute_result"
    }
   ],
   "source": [
    "hash_fam_HC = avg_maxHC(hash_fam)\n",
    "hash_fam_HC"
   ]
  },
  {
   "cell_type": "code",
   "execution_count": 64,
   "metadata": {},
   "outputs": [
    {
     "data": {
      "text/plain": [
       "0.8755208333333333"
      ]
     },
     "execution_count": 64,
     "metadata": {},
     "output_type": "execute_result"
    }
   ],
   "source": [
    "avg_autoHC(hash_fam)"
   ]
  },
  {
   "cell_type": "code",
   "execution_count": 65,
   "metadata": {},
   "outputs": [
    {
     "data": {
      "text/plain": [
       "0.8854145295435895"
      ]
     },
     "execution_count": 65,
     "metadata": {},
     "output_type": "execute_result"
    }
   ],
   "source": [
    "avg_crossHC(hash_fam)"
   ]
  },
  {
   "attachments": {},
   "cell_type": "markdown",
   "metadata": {},
   "source": [
    "---\n",
    "# SIMULATE COLLISIONS\n"
   ]
  },
  {
   "cell_type": "code",
   "execution_count": 15,
   "metadata": {},
   "outputs": [],
   "source": [
    "# array representoing the number of transmissions\n",
    "# on each channed OCW and sub-channel OBW\n",
    "numOCW = 7\n",
    "numOBW = 280\n",
    "numGrids = 8\n",
    "seq_length = 31\n",
    "startLimit = 500\n",
    "\n",
    "\n",
    "def get_seq_time(family, startLimit):\n",
    "    startTime = np.random.randint(startLimit)\n",
    "    seq_id = np.random.randint(len(family))\n",
    "    return family[seq_id], startTime\n",
    "\n",
    "\n",
    "# default FHS generator with hash function\n",
    "def transmissions_simulation(nodes, family, useGrid):\n",
    "    transmissions = np.zeros((numOCW, numOBW, startLimit + seq_length))\n",
    "\n",
    "    for n in range(nodes):\n",
    "        ocw = np.random.randint(numOCW)\n",
    "        grid = 0\n",
    "        if useGrid:\n",
    "            grid = np.random.randint(numGrids)\n",
    "\n",
    "        # choose random sequence and starting time\n",
    "        seq, t0 = get_seq_time(family, startLimit)\n",
    "\n",
    "        for t, obw in enumerate(seq):\n",
    "            transmissions[ocw][obw + grid][t0 + t] += 1\n",
    "\n",
    "    return transmissions\n"
   ]
  },
  {
   "cell_type": "code",
   "execution_count": 16,
   "metadata": {},
   "outputs": [],
   "source": [
    "totalSlots = numOCW * numOBW * (startLimit + seq_length)"
   ]
  },
  {
   "attachments": {},
   "cell_type": "markdown",
   "metadata": {},
   "source": [
    "### hash family"
   ]
  },
  {
   "cell_type": "code",
   "execution_count": 51,
   "metadata": {},
   "outputs": [],
   "source": [
    "n = 10000"
   ]
  },
  {
   "cell_type": "code",
   "execution_count": 52,
   "metadata": {},
   "outputs": [
    {
     "data": {
      "text/plain": [
       "39095"
      ]
     },
     "execution_count": 52,
     "metadata": {},
     "output_type": "execute_result"
    }
   ],
   "source": [
    "hash_transmissions = transmissions_simulation(n, hash_fam, True)\n",
    "(hash_transmissions > 1).sum()"
   ]
  },
  {
   "attachments": {},
   "cell_type": "markdown",
   "metadata": {},
   "source": [
    "### method 1 family"
   ]
  },
  {
   "cell_type": "code",
   "execution_count": 53,
   "metadata": {},
   "outputs": [
    {
     "data": {
      "text/plain": [
       "41957"
      ]
     },
     "execution_count": 53,
     "metadata": {},
     "output_type": "execute_result"
    }
   ],
   "source": [
    "method1_transmissions = transmissions_simulation(n, method1_fam, True)\n",
    "(method1_transmissions > 1).sum()"
   ]
  },
  {
   "attachments": {},
   "cell_type": "markdown",
   "metadata": {},
   "source": [
    "### method 2 family"
   ]
  },
  {
   "cell_type": "code",
   "execution_count": 54,
   "metadata": {},
   "outputs": [
    {
     "data": {
      "text/plain": [
       "39727"
      ]
     },
     "execution_count": 54,
     "metadata": {},
     "output_type": "execute_result"
    }
   ],
   "source": [
    "method2_transmissions = transmissions_simulation(n, method2_fam, False)\n",
    "(method2_transmissions > 1).sum()"
   ]
  },
  {
   "attachments": {},
   "cell_type": "markdown",
   "metadata": {},
   "source": [
    "# Comparison"
   ]
  },
  {
   "cell_type": "code",
   "execution_count": 79,
   "metadata": {},
   "outputs": [],
   "source": [
    "# startLimit = 500 & seq_length = 31\n",
    "\n",
    "data = [[469.3, 512.33, 491.86, 480.36],\n",
    "        [1048.86, 1153.33, 1038.56, 1043.36],\n",
    "        [1853.8, 2004.2, 1886.63, 1831.6],\n",
    "        [4078.6, 4404.83, 4133.63, 4061.7],\n",
    "        [10828.63, 11744.3, 11027.03, 10826.66],\n",
    "        [39086.76, 41934.03, 39839.6, 39079.8],\n",
    "        [128077.86, 135044.56, 129942.66, 127994.4],\n",
    "        [237286.86, 246030.43, 239691.6, 237321.36],\n",
    "        [455510.7, 458667.1, 456414.33, 455778.66],\n",
    "        [809614.36, 775092.0, 801120.83, 810514.56],\n",
    "        [990200.33, 913025.53, 971996.86, 990564.7],\n",
    "        [1014294.2, 929860.9, 993041.06, 1014322.66],\n",
    "        [1025271.46, 938680.56, 998990.2, 1025353.26],\n",
    "        [1032971.7, 945122.56, 999846.23, 1032952.06]\n",
    "        ]\n",
    "\n",
    "nodes = [1e3, 1500, 2e3, 3e3, 5e3, 1e4, 2e4, 3e4, 5e4, 1e5, 2e5, 3e5, 5e5, 1e6]\n",
    "data = np.array(data)"
   ]
  },
  {
   "cell_type": "code",
   "execution_count": 80,
   "metadata": {},
   "outputs": [
    {
     "data": {
      "image/png": "[encoded data removed]",
      "text/plain": [
       "<Figure size 640x480 with 1 Axes>"
      ]
     },
     "metadata": {},
     "output_type": "display_data"
    }
   ],
   "source": [
    "plt.plot(nodes, data[:,0]/totalSlots, label='hash')\n",
    "plt.plot(nodes, data[:,1]/totalSlots, label='method1')\n",
    "plt.plot(nodes, data[:,2]/totalSlots, label='method2')\n",
    "plt.plot(nodes, data[:,3]/totalSlots, label='lr_fhss')\n",
    "plt.title('normalized collision rate')\n",
    "plt.xlabel('nodes')\n",
    "plt.xscale('log')\n",
    "plt.ylabel('collision rate')\n",
    "plt.grid()\n",
    "plt.legend()\n",
    "plt.show()\n",
    "\n",
    "#print(f\"   hash family; \\tsize = {hash_fam.shape[0]}\\tHCorrelation = {round(hash_fam_HC,2)}\")\n",
    "#print(f\"method1 family; \\tsize = {method1_fam.shape[0]}\\tHCorrelation = {round(avg_maxHC(method1_fam),2)}\")\n",
    "#print(f\"method2 family; \\tsize = {method2_fam.shape[0]}\\tHCorrelation = {round(avg_maxHC(method2_fam),2)}\")\n",
    "#print(f\"lr_fhss family; \\tsize = {lr_fhss_family.shape[0]}\\tHCorrelation = {round(avg_maxHC(lr_fhss_family),2)}\")"
   ]
  },
  {
   "cell_type": "code",
   "execution_count": 81,
   "metadata": {},
   "outputs": [
    {
     "data": {
      "image/png": "[encoded data removed]",
      "text/plain": [
       "<Figure size 640x480 with 1 Axes>"
      ]
     },
     "metadata": {},
     "output_type": "display_data"
    }
   ],
   "source": [
    "data2 = np.array([data[0,:]/data[0, -1],\n",
    "                  data[1,:]/data[1, -1], \n",
    "                  data[2,:]/data[2, -1], \n",
    "                  data[3,:]/data[3, -1], \n",
    "                  data[4,:]/data[4, -1], \n",
    "                  data[5,:]/data[5, -1], \n",
    "                  data[6,:]/data[6, -1],\n",
    "                  data[7,:]/data[7, -1],\n",
    "                  data[8,:]/data[8, -1],\n",
    "                  data[9,:]/data[9, -1],\n",
    "                  data[10,:]/data[10, -1],\n",
    "                  data[11,:]/data[11, -1],\n",
    "                  data[12,:]/data[12, -1],\n",
    "                  data[13,:]/data[13, -1]])\n",
    "\n",
    "plt.plot(nodes, data2[:,0], label='hash')\n",
    "plt.plot(nodes, data2[:,1], label='method1')\n",
    "plt.plot(nodes, data2[:,2], label='method2')\n",
    "#plt.plot(nodes, data2[:,3], label='lr_fhss')\n",
    "plt.title('relative collision rate')\n",
    "plt.xlabel('nodes')\n",
    "plt.xscale('log')\n",
    "plt.ylabel('collision rate')\n",
    "plt.grid()\n",
    "plt.legend()\n",
    "plt.show()"
   ]
  },
  {
   "attachments": {},
   "cell_type": "markdown",
   "metadata": {},
   "source": [
    "# real lrfhss sequences\n"
   ]
  },
  {
   "cell_type": "code",
   "execution_count": 57,
   "metadata": {},
   "outputs": [],
   "source": [
    "import numpy as np\n",
    "\n",
    "def lr_fhss_get_next_state(lfsr_state, polynomial, xoring_seed, n_grid):\n",
    "    \n",
    "    hop = 0\n",
    "    while 1:\n",
    "\n",
    "        lsb = lfsr_state & 1\n",
    "        lfsr_state >>= 1\n",
    "        if lsb:\n",
    "            lfsr_state ^= polynomial\n",
    "\n",
    "        hop = xoring_seed\n",
    "        if hop != lfsr_state:\n",
    "            hop ^= lfsr_state\n",
    "\n",
    "        if hop <= n_grid:\n",
    "            break\n",
    "\n",
    "    return lfsr_state, hop - 1\n",
    "\n",
    "def lfrs_get_next_state(lfsr_state, polynomial, xoring_seed, n_grid):\n",
    "    \n",
    "    lsb = lfsr_state & 1\n",
    "    lfsr_state >>= 1\n",
    "\n",
    "    if lsb:\n",
    "        lfsr_state ^= polynomial\n",
    "\n",
    "    return lfsr_state\n",
    "\n",
    "\n",
    "# get lr fhss sequence of length 31\n",
    "def get_lr_fhss_seq(id):\n",
    "    n_grid = 35\n",
    "    lr_fhss_lfsr_poly1 = [33, 45, 48, 51, 54, 57]\n",
    "\n",
    "    lfsr_state = 6\n",
    "    fhs = []\n",
    "\n",
    "    polynomial = lr_fhss_lfsr_poly1[id >> 6]\n",
    "    xoring_seed = id & 0x3F\n",
    "\n",
    "    for _ in range(31):\n",
    "        lfsr_state, hop = lr_fhss_get_next_state(lfsr_state, polynomial, xoring_seed, n_grid)\n",
    "        fhs.append(hop)\n",
    "\n",
    "    print(f\"id={id}\\tpoly={polynomial}\\tseed={xoring_seed}\\nseq = {fhs}\\n\")\n",
    "\n",
    "    return fhs\n",
    "\n",
    "def get_lr_fhss_family():\n",
    "    fam = []\n",
    "    for id in range(384):\n",
    "        fam.append(get_lr_fhss_seq(id))\n",
    "\n",
    "    return np.array(fam)"
   ]
  },
  {
   "cell_type": "code",
   "execution_count": 58,
   "metadata": {},
   "outputs": [
    {
     "name": "stdout",
     "output_type": "stream",
     "text": [
      "id=0\tpoly=33\tseed=0\n",
      "seq = [2, 31, 15, 7, 3, 1, 0, 32, 30, 22, 20, 25, 12, 24, 28, 26, 21, 10, 17, 8, 27, 13, 6, 33, 16, 29, 14, 18, 19, 9, 4]\n",
      "\n",
      "id=1\tpoly=33\tseed=1\n",
      "seq = [1, 32, 16, 8, 4, 2, 0, 31, 29, 21, 19, 26, 11, 23, 27, 25, 22, 9, 18, 7, 28, 14, 5, 34, 15, 30, 13, 17, 20, 10, 3]\n",
      "\n",
      "id=2\tpoly=33\tseed=2\n",
      "seq = [0, 33, 17, 9, 5, 1, 2, 34, 28, 20, 22, 23, 14, 26, 30, 24, 19, 8, 15, 10, 29, 11, 4, 31, 18, 27, 12, 16, 21, 7, 6]\n",
      "\n",
      "id=3\tpoly=33\tseed=3\n",
      "seq = [2, 34, 18, 10, 6, 0, 1, 33, 27, 19, 21, 24, 13, 25, 29, 23, 20, 7, 16, 9, 30, 12, 3, 32, 17, 28, 11, 15, 22, 8, 5]\n",
      "\n",
      "id=4\tpoly=33\tseed=4\n",
      "seq = [6, 19, 11, 3, 5, 4, 26, 18, 16, 29, 8, 34, 28, 24, 30, 17, 14, 31, 21, 12, 32, 23, 9, 2, 20, 25, 10, 33, 22, 15, 13]\n",
      "\n",
      "id=5\tpoly=33\tseed=5\n",
      "seq = [5, 20, 12, 0, 6, 3, 25, 17, 15, 30, 7, 33, 27, 23, 29, 18, 13, 32, 22, 11, 31, 24, 10, 1, 19, 26, 9, 34, 21, 16, 14]\n",
      "\n",
      "id=6\tpoly=33\tseed=6\n",
      "seq = [4, 21, 13, 1, 3, 6, 24, 16, 18, 27, 10, 32, 30, 26, 28, 15, 12, 33, 19, 14, 34, 25, 7, 0, 22, 23, 8, 31, 20, 17, 11]\n",
      "\n",
      "id=7\tpoly=33\tseed=7\n",
      "seq = [3, 22, 14, 2, 4, 5, 23, 15, 17, 28, 9, 31, 29, 25, 27, 16, 11, 34, 20, 13, 33, 26, 8, 6, 21, 24, 7, 32, 19, 18, 12]\n",
      "\n",
      "id=8\tpoly=33\tseed=8\n",
      "seq = [10, 23, 7, 11, 9, 8, 22, 30, 33, 28, 34, 17, 4, 16, 20, 18, 29, 2, 25, 0, 19, 5, 14, 24, 32, 21, 6, 26, 31, 27, 1]\n",
      "\n",
      "id=9\tpoly=33\tseed=9\n",
      "seq = [9, 24, 0, 12, 10, 7, 21, 29, 34, 27, 33, 18, 3, 15, 19, 17, 30, 1, 26, 8, 20, 6, 13, 23, 31, 22, 5, 25, 32, 28, 2]\n",
      "\n",
      "id=10\tpoly=33\tseed=10\n",
      "seq = [8, 25, 1, 13, 7, 10, 20, 28, 31, 30, 32, 15, 6, 18, 22, 16, 27, 0, 23, 2, 21, 3, 12, 26, 34, 19, 4, 24, 33, 29, 9]\n",
      "\n",
      "id=11\tpoly=33\tseed=11\n",
      "seq = [7, 26, 2, 14, 8, 9, 19, 27, 32, 29, 31, 16, 5, 17, 21, 15, 28, 10, 24, 1, 22, 4, 11, 25, 33, 20, 3, 23, 34, 30, 0]\n",
      "\n",
      "id=12\tpoly=33\tseed=12\n",
      "seq = [14, 27, 3, 7, 13, 12, 18, 33, 26, 24, 21, 0, 20, 32, 16, 34, 22, 31, 25, 6, 29, 4, 15, 1, 10, 28, 17, 2, 30, 23, 5]\n",
      "\n",
      "id=13\tpoly=33\tseed=13\n",
      "seq = [13, 28, 4, 8, 14, 11, 17, 34, 25, 23, 22, 12, 19, 31, 15, 33, 21, 32, 26, 5, 30, 3, 16, 2, 9, 27, 18, 1, 29, 24, 6]\n",
      "\n",
      "id=14\tpoly=33\tseed=14\n",
      "seq = [12, 29, 5, 9, 11, 14, 16, 31, 24, 26, 19, 2, 22, 34, 18, 32, 20, 33, 23, 4, 27, 6, 17, 13, 8, 30, 15, 0, 28, 25, 3]\n",
      "\n",
      "id=15\tpoly=33\tseed=15\n",
      "seq = [11, 30, 6, 10, 12, 13, 15, 32, 23, 25, 20, 1, 21, 33, 17, 31, 19, 34, 24, 3, 28, 5, 18, 0, 7, 29, 16, 14, 27, 26, 4]\n",
      "\n",
      "id=16\tpoly=33\tseed=16\n",
      "seq = [18, 15, 23, 19, 17, 16, 32, 14, 6, 4, 9, 28, 33, 8, 12, 10, 5, 26, 1, 24, 34, 11, 29, 22, 0, 13, 30, 2, 3, 25, 20]\n",
      "\n",
      "id=17\tpoly=33\tseed=17\n",
      "seq = [17, 0, 24, 20, 18, 15, 31, 13, 5, 3, 10, 27, 34, 7, 11, 9, 6, 25, 2, 23, 33, 12, 30, 21, 16, 14, 29, 1, 4, 26, 19]\n",
      "\n",
      "id=18\tpoly=33\tseed=18\n",
      "seq = [16, 1, 25, 21, 15, 18, 34, 12, 4, 6, 7, 30, 31, 10, 14, 8, 3, 24, 17, 26, 32, 13, 27, 20, 2, 11, 28, 0, 5, 23, 22]\n",
      "\n",
      "id=19\tpoly=33\tseed=19\n",
      "seq = [15, 2, 26, 22, 16, 17, 33, 11, 3, 5, 8, 29, 32, 9, 13, 7, 4, 23, 0, 25, 31, 14, 28, 19, 1, 12, 27, 18, 6, 24, 21]\n",
      "\n",
      "id=20\tpoly=33\tseed=20\n",
      "seq = [22, 3, 27, 15, 21, 20, 10, 2, 0, 31, 13, 24, 12, 34, 8, 33, 14, 1, 30, 5, 28, 7, 25, 18, 4, 32, 9, 26, 6, 19, 29]\n",
      "\n",
      "id=21\tpoly=33\tseed=21\n",
      "seq = [21, 4, 28, 16, 22, 19, 9, 1, 20, 32, 14, 23, 11, 33, 7, 34, 13, 2, 29, 6, 27, 8, 26, 17, 3, 31, 10, 25, 5, 0, 30]\n",
      "\n",
      "id=22\tpoly=33\tseed=22\n",
      "seq = [20, 5, 29, 17, 19, 22, 8, 0, 2, 33, 11, 26, 14, 32, 10, 31, 12, 21, 28, 3, 30, 9, 23, 16, 6, 34, 7, 24, 4, 1, 27]\n",
      "\n",
      "id=23\tpoly=33\tseed=23\n",
      "seq = [19, 6, 30, 18, 20, 21, 7, 22, 1, 34, 12, 25, 13, 31, 9, 32, 11, 0, 27, 4, 29, 10, 24, 15, 5, 33, 8, 23, 3, 2, 28]\n",
      "\n",
      "id=24\tpoly=33\tseed=24\n",
      "seq = [26, 7, 15, 27, 25, 24, 32, 6, 14, 12, 1, 20, 0, 33, 4, 2, 13, 18, 9, 16, 31, 3, 21, 30, 8, 34, 5, 22, 10, 11, 17]\n",
      "\n",
      "id=25\tpoly=33\tseed=25\n",
      "seq = [25, 8, 16, 28, 26, 23, 31, 5, 13, 11, 2, 19, 24, 34, 3, 1, 14, 17, 10, 15, 32, 4, 22, 29, 7, 33, 6, 21, 9, 12, 18]\n",
      "\n",
      "id=26\tpoly=33\tseed=26\n",
      "seq = [24, 9, 17, 29, 23, 26, 34, 4, 12, 14, 25, 22, 2, 31, 6, 0, 11, 16, 7, 18, 33, 5, 19, 28, 10, 32, 3, 20, 8, 13, 15]\n",
      "\n",
      "id=27\tpoly=33\tseed=27\n",
      "seq = [23, 10, 18, 30, 24, 25, 33, 3, 11, 13, 0, 21, 1, 32, 5, 26, 12, 15, 8, 17, 34, 6, 20, 27, 9, 31, 4, 19, 7, 14, 16]\n",
      "\n",
      "id=28\tpoly=33\tseed=28\n",
      "seq = [30, 11, 19, 23, 29, 28, 32, 34, 33, 2, 10, 8, 5, 16, 4, 0, 6, 9, 22, 13, 20, 27, 17, 26, 12, 31, 1, 18, 14, 7, 21]\n",
      "\n",
      "id=29\tpoly=33\tseed=29\n",
      "seq = [29, 12, 20, 24, 30, 27, 31, 33, 34, 1, 9, 7, 6, 15, 3, 28, 5, 10, 21, 14, 19, 0, 18, 25, 11, 32, 2, 17, 13, 8, 22]\n",
      "\n",
      "id=30\tpoly=33\tseed=30\n",
      "seq = [28, 13, 21, 25, 27, 30, 34, 32, 31, 0, 8, 10, 3, 18, 6, 2, 4, 7, 20, 11, 22, 1, 15, 24, 14, 33, 29, 16, 12, 9, 19]\n",
      "\n",
      "id=31\tpoly=33\tseed=31\n",
      "seq = [27, 14, 22, 26, 28, 29, 33, 31, 32, 30, 7, 9, 4, 17, 5, 1, 3, 8, 19, 12, 21, 2, 16, 23, 13, 34, 0, 15, 11, 10, 20]\n",
      "\n",
      "id=32\tpoly=33\tseed=32\n",
      "seq = [34, 31, 33, 32, 0, 16, 24, 28, 30, 29, 13, 9, 10, 19, 6, 17, 12, 22, 25, 14, 21, 11, 3, 4, 18, 23, 1, 8, 20, 26, 27]\n",
      "\n",
      "id=33\tpoly=33\tseed=33\n",
      "seq = [33, 0, 34, 31, 32, 15, 23, 27, 29, 30, 14, 10, 9, 20, 5, 18, 11, 21, 26, 13, 22, 12, 4, 3, 17, 24, 2, 7, 19, 25, 28]\n",
      "\n",
      "id=34\tpoly=33\tseed=34\n",
      "seq = [32, 1, 31, 34, 2, 18, 26, 30, 28, 27, 11, 7, 8, 21, 4, 15, 14, 20, 23, 12, 19, 13, 5, 6, 16, 25, 33, 10, 22, 24, 29]\n",
      "\n",
      "id=35\tpoly=33\tseed=35\n",
      "seq = [31, 2, 32, 33, 1, 17, 25, 29, 27, 28, 12, 8, 7, 22, 3, 16, 13, 19, 24, 11, 20, 14, 6, 5, 15, 26, 0, 9, 21, 23, 30]\n",
      "\n",
      "id=36\tpoly=33\tseed=36\n",
      "seq = [3, 31, 4, 20, 28, 24, 26, 25, 9, 13, 14, 15, 2, 21, 8, 18, 29, 10, 17, 7, 0, 22, 27, 34, 5, 12, 16, 30, 23, 1, 11]\n",
      "\n",
      "id=37\tpoly=33\tseed=37\n",
      "seq = [4, 32, 3, 19, 27, 23, 25, 26, 10, 14, 13, 16, 1, 22, 7, 17, 30, 9, 18, 8, 0, 21, 28, 33, 6, 11, 15, 29, 24, 2, 12]\n",
      "\n",
      "id=38\tpoly=33\tseed=38\n",
      "seq = [5, 33, 6, 22, 30, 26, 24, 23, 7, 11, 12, 17, 0, 19, 10, 16, 27, 8, 15, 9, 1, 2, 20, 29, 32, 3, 14, 18, 28, 25, 13]\n",
      "\n",
      "id=39\tpoly=33\tseed=39\n",
      "seq = [6, 34, 5, 21, 29, 25, 23, 24, 8, 12, 11, 18, 20, 9, 15, 28, 7, 16, 10, 2, 1, 19, 30, 31, 4, 13, 17, 27, 26, 0, 14]\n",
      "\n",
      "id=40\tpoly=33\tseed=40\n",
      "seq = [7, 31, 8, 24, 16, 20, 22, 21, 5, 1, 2, 27, 14, 25, 4, 30, 17, 6, 29, 3, 34, 11, 32, 12, 26, 15, 9, 0, 28, 18, 19]\n",
      "\n",
      "id=41\tpoly=33\tseed=41\n",
      "seq = [8, 32, 7, 23, 15, 19, 21, 22, 6, 2, 1, 28, 13, 26, 3, 29, 18, 5, 30, 4, 33, 12, 31, 11, 25, 16, 10, 27, 17, 20, 14]\n",
      "\n",
      "id=42\tpoly=33\tseed=42\n",
      "seq = [9, 33, 10, 26, 18, 22, 20, 19, 3, 0, 29, 12, 23, 6, 28, 15, 4, 27, 5, 32, 13, 34, 14, 24, 17, 7, 2, 30, 16, 21, 11]\n",
      "\n",
      "id=43\tpoly=33\tseed=43\n",
      "seq = [10, 34, 9, 25, 17, 21, 19, 20, 4, 0, 30, 11, 24, 5, 27, 16, 3, 28, 6, 31, 14, 33, 13, 23, 18, 8, 1, 29, 15, 22, 12]\n",
      "\n",
      "id=44\tpoly=33\tseed=44\n",
      "seq = [11, 12, 28, 20, 16, 18, 17, 1, 5, 6, 23, 32, 10, 29, 0, 26, 21, 2, 25, 7, 8, 30, 19, 33, 13, 4, 24, 22, 15, 34, 9]\n",
      "\n",
      "id=45\tpoly=33\tseed=45\n",
      "seq = [12, 11, 27, 19, 15, 17, 18, 2, 6, 5, 24, 31, 9, 30, 25, 22, 1, 26, 0, 8, 7, 29, 20, 34, 14, 3, 23, 21, 16, 33, 10]\n",
      "\n",
      "id=46\tpoly=33\tseed=46\n",
      "seq = [13, 14, 30, 22, 18, 16, 15, 3, 4, 25, 34, 8, 27, 2, 24, 19, 0, 23, 1, 9, 10, 28, 21, 31, 11, 6, 26, 20, 17, 32, 7]\n",
      "\n",
      "id=47\tpoly=33\tseed=47\n",
      "seq = [14, 13, 29, 21, 17, 15, 16, 0, 4, 3, 26, 33, 7, 28, 1, 23, 20, 24, 2, 10, 9, 27, 22, 32, 12, 5, 25, 19, 18, 31, 8]\n",
      "\n",
      "id=48\tpoly=33\tseed=48\n",
      "seq = [15, 31, 16, 0, 8, 12, 14, 13, 29, 25, 26, 3, 22, 1, 28, 6, 9, 30, 5, 27, 19, 33, 20, 2, 7, 17, 32, 24, 4, 10, 11]\n",
      "\n",
      "id=49\tpoly=33\tseed=49\n",
      "seq = [16, 32, 15, 7, 11, 13, 14, 30, 26, 25, 4, 21, 2, 27, 5, 10, 29, 6, 28, 20, 34, 19, 1, 8, 18, 31, 23, 3, 9, 12, 22]\n",
      "\n",
      "id=50\tpoly=33\tseed=50\n",
      "seq = [17, 33, 18, 2, 10, 14, 12, 11, 27, 23, 24, 5, 20, 30, 4, 7, 28, 3, 29, 21, 31, 22, 0, 9, 15, 34, 26, 6, 8, 13, 19]\n",
      "\n",
      "id=51\tpoly=33\tseed=51\n",
      "seq = [18, 34, 17, 1, 9, 13, 11, 12, 28, 24, 23, 6, 19, 0, 29, 3, 8, 27, 4, 30, 22, 32, 21, 10, 16, 33, 25, 5, 7, 14, 20]\n",
      "\n",
      "id=52\tpoly=33\tseed=52\n",
      "seq = [19, 20, 4, 12, 8, 10, 9, 25, 34, 29, 32, 30, 18, 5, 24, 2, 13, 26, 1, 23, 33, 15, 16, 6, 11, 21, 28, 0, 14, 7, 17]\n",
      "\n",
      "id=53\tpoly=33\tseed=53\n",
      "seq = [20, 19, 3, 11, 7, 9, 10, 26, 33, 30, 31, 29, 0, 17, 6, 23, 1, 14, 25, 2, 24, 34, 16, 15, 5, 12, 22, 27, 13, 8, 18]\n",
      "\n",
      "id=54\tpoly=33\tseed=54\n",
      "seq = [21, 22, 6, 14, 10, 8, 7, 23, 32, 27, 34, 28, 1, 16, 3, 26, 0, 11, 24, 25, 31, 17, 18, 4, 13, 19, 30, 2, 12, 9, 15]\n",
      "\n",
      "id=55\tpoly=33\tseed=55\n",
      "seq = [22, 21, 5, 13, 9, 7, 8, 24, 31, 28, 33, 27, 2, 15, 4, 25, 12, 23, 0, 26, 32, 18, 17, 3, 14, 20, 29, 1, 11, 10, 16]\n",
      "\n",
      "id=56\tpoly=33\tseed=56\n",
      "seq = [23, 24, 8, 0, 4, 6, 5, 21, 17, 18, 11, 33, 30, 9, 32, 20, 14, 1, 22, 13, 34, 19, 27, 28, 10, 25, 16, 12, 2, 3, 29]\n",
      "\n",
      "id=57\tpoly=33\tseed=57\n",
      "seq = [24, 23, 7, 3, 5, 6, 22, 18, 17, 12, 34, 29, 10, 31, 19, 13, 2, 21, 14, 33, 20, 28, 27, 9, 0, 26, 15, 11, 1, 4, 30]\n",
      "\n",
      "id=58\tpoly=33\tseed=58\n",
      "seq = [25, 26, 10, 2, 6, 4, 3, 19, 15, 16, 13, 31, 28, 7, 34, 22, 12, 20, 11, 32, 21, 29, 30, 8, 1, 23, 18, 14, 0, 5, 27]\n",
      "\n",
      "id=59\tpoly=33\tseed=59\n",
      "seq = [26, 25, 9, 1, 5, 3, 4, 20, 16, 15, 14, 32, 27, 8, 33, 21, 11, 0, 19, 12, 31, 22, 30, 29, 7, 2, 24, 17, 13, 6, 28]\n",
      "\n",
      "id=60\tpoly=33\tseed=60\n",
      "seq = [27, 28, 12, 4, 0, 2, 1, 34, 17, 21, 22, 7, 26, 13, 16, 10, 5, 32, 18, 9, 15, 23, 24, 14, 3, 31, 29, 20, 8, 6, 33]\n",
      "\n",
      "id=61\tpoly=33\tseed=61\n",
      "seq = [28, 27, 11, 3, 1, 2, 33, 18, 22, 21, 8, 25, 14, 15, 9, 6, 31, 17, 10, 16, 24, 23, 13, 4, 32, 30, 19, 7, 5, 0, 34]\n",
      "\n",
      "id=62\tpoly=33\tseed=62\n",
      "seq = [29, 30, 14, 6, 2, 0, 32, 15, 19, 20, 9, 24, 11, 18, 8, 3, 34, 16, 7, 17, 25, 26, 12, 5, 33, 27, 22, 10, 4, 1, 31]\n",
      "\n",
      "id=63\tpoly=33\tseed=63\n",
      "seq = [30, 29, 13, 5, 1, 0, 31, 16, 20, 19, 10, 23, 12, 17, 7, 4, 33, 15, 8, 18, 26, 25, 11, 6, 34, 28, 21, 9, 3, 2, 32]\n",
      "\n",
      "id=64\tpoly=45\tseed=0\n",
      "seq = [2, 21, 10, 19, 9, 4, 28, 34, 29, 14, 20, 30, 33, 16, 24, 32, 25, 12, 27, 13, 6, 22, 18, 17, 8, 26, 31, 15, 7, 3, 1]\n",
      "\n",
      "id=65\tpoly=45\tseed=1\n",
      "seq = [1, 22, 9, 20, 10, 3, 27, 33, 30, 13, 19, 29, 34, 15, 23, 31, 26, 11, 28, 14, 5, 21, 17, 18, 7, 25, 32, 16, 8, 4, 2]\n",
      "\n",
      "id=66\tpoly=45\tseed=2\n",
      "seq = [0, 19, 8, 21, 7, 6, 30, 32, 27, 12, 22, 28, 31, 18, 26, 34, 23, 14, 29, 11, 4, 20, 16, 15, 10, 24, 33, 17, 9, 5, 1]\n",
      "\n",
      "id=67\tpoly=45\tseed=3\n",
      "seq = [2, 20, 7, 22, 8, 5, 29, 31, 28, 11, 21, 27, 32, 17, 25, 33, 24, 13, 30, 12, 3, 19, 15, 16, 9, 23, 34, 18, 10, 6, 0]\n",
      "\n",
      "id=68\tpoly=45\tseed=4\n",
      "seq = [6, 17, 14, 15, 13, 0, 24, 25, 10, 16, 34, 26, 20, 32, 28, 29, 8, 23, 9, 2, 18, 33, 22, 31, 21, 12, 30, 19, 11, 3, 5]\n",
      "\n",
      "id=69\tpoly=45\tseed=5\n",
      "seq = [5, 18, 13, 16, 14, 4, 23, 26, 9, 15, 33, 25, 19, 31, 27, 30, 7, 24, 10, 1, 17, 34, 21, 32, 22, 11, 29, 20, 12, 0, 6]\n",
      "\n",
      "id=70\tpoly=45\tseed=6\n",
      "seq = [4, 15, 12, 17, 11, 2, 26, 23, 8, 18, 32, 24, 22, 34, 30, 27, 10, 25, 7, 0, 16, 31, 20, 33, 19, 14, 28, 21, 13, 1, 3]\n",
      "\n",
      "id=71\tpoly=45\tseed=7\n",
      "seq = [3, 16, 11, 18, 12, 1, 25, 24, 7, 17, 31, 23, 21, 33, 29, 28, 9, 26, 8, 6, 15, 32, 19, 34, 20, 13, 27, 22, 14, 2, 4]\n",
      "\n",
      "id=72\tpoly=45\tseed=8\n",
      "seq = [10, 29, 2, 31, 27, 1, 12, 20, 21, 6, 33, 28, 22, 24, 16, 17, 4, 34, 19, 5, 14, 30, 26, 25, 0, 32, 18, 23, 7, 11, 9]\n",
      "\n",
      "id=73\tpoly=45\tseed=9\n",
      "seq = [9, 30, 1, 32, 28, 2, 11, 19, 22, 5, 34, 27, 21, 23, 15, 18, 3, 33, 20, 6, 13, 29, 25, 26, 8, 31, 17, 24, 0, 12, 10]\n",
      "\n",
      "id=74\tpoly=45\tseed=10\n",
      "seq = [8, 27, 0, 33, 29, 9, 14, 22, 19, 4, 31, 30, 20, 26, 18, 15, 6, 32, 21, 3, 12, 28, 24, 23, 2, 34, 16, 25, 1, 13, 7]\n",
      "\n",
      "id=75\tpoly=45\tseed=11\n",
      "seq = [7, 28, 10, 34, 30, 0, 13, 21, 20, 3, 32, 29, 19, 25, 17, 16, 5, 31, 22, 4, 11, 27, 23, 24, 1, 33, 15, 26, 2, 14, 8]\n",
      "\n",
      "id=76\tpoly=45\tseed=12\n",
      "seq = [14, 31, 25, 6, 23, 5, 8, 34, 16, 17, 2, 24, 18, 28, 20, 21, 0, 15, 1, 10, 33, 26, 30, 29, 4, 22, 27, 3, 7, 13, 12]\n",
      "\n",
      "id=77\tpoly=45\tseed=13\n",
      "seq = [13, 32, 26, 5, 24, 6, 7, 33, 15, 18, 1, 23, 17, 27, 19, 22, 12, 16, 2, 9, 34, 25, 29, 30, 3, 21, 28, 4, 8, 14, 11]\n",
      "\n",
      "id=78\tpoly=45\tseed=14\n",
      "seq = [12, 33, 23, 4, 25, 3, 10, 32, 18, 15, 0, 26, 16, 30, 22, 19, 2, 17, 13, 8, 31, 24, 28, 27, 6, 20, 29, 5, 9, 11, 14]\n",
      "\n",
      "id=79\tpoly=45\tseed=15\n",
      "seq = [11, 34, 24, 3, 26, 4, 9, 31, 17, 16, 14, 25, 15, 29, 21, 20, 1, 18, 0, 7, 32, 23, 27, 28, 5, 19, 30, 6, 10, 12, 13]\n",
      "\n",
      "id=80\tpoly=45\tseed=16\n",
      "seq = [18, 5, 26, 3, 25, 20, 12, 13, 30, 4, 14, 0, 33, 8, 34, 9, 28, 11, 29, 22, 6, 2, 1, 24, 32, 10, 15, 23, 19, 17, 16]\n",
      "\n",
      "id=81\tpoly=45\tseed=17\n",
      "seq = [17, 6, 25, 4, 26, 19, 11, 14, 29, 3, 13, 16, 34, 7, 33, 10, 27, 12, 30, 21, 5, 1, 2, 23, 31, 9, 0, 24, 20, 18, 15]\n",
      "\n",
      "id=82\tpoly=45\tseed=18\n",
      "seq = [16, 3, 24, 5, 23, 22, 14, 11, 28, 6, 12, 2, 31, 10, 32, 7, 30, 13, 27, 20, 4, 0, 17, 26, 34, 8, 1, 25, 21, 15, 18]\n",
      "\n",
      "id=83\tpoly=45\tseed=19\n",
      "seq = [15, 4, 23, 6, 24, 21, 13, 12, 27, 5, 11, 1, 32, 9, 31, 8, 29, 14, 28, 19, 3, 18, 0, 25, 33, 7, 2, 26, 22, 16, 17]\n",
      "\n",
      "id=84\tpoly=45\tseed=20\n",
      "seq = [22, 1, 30, 19, 29, 16, 8, 9, 26, 0, 10, 4, 12, 31, 13, 24, 7, 25, 18, 2, 6, 5, 28, 32, 34, 33, 14, 3, 27, 15, 21]\n",
      "\n",
      "id=85\tpoly=45\tseed=21\n",
      "seq = [21, 2, 29, 0, 30, 15, 7, 10, 25, 20, 9, 3, 11, 32, 14, 23, 8, 26, 17, 1, 5, 6, 27, 31, 33, 34, 13, 4, 28, 16, 22]\n",
      "\n",
      "id=86\tpoly=45\tseed=22\n",
      "seq = [20, 21, 28, 1, 27, 18, 10, 7, 24, 2, 8, 6, 14, 33, 11, 26, 9, 23, 16, 0, 4, 3, 30, 34, 32, 31, 12, 5, 29, 17, 19]\n",
      "\n",
      "id=87\tpoly=45\tseed=23\n",
      "seq = [19, 0, 27, 2, 28, 17, 9, 8, 23, 1, 7, 5, 13, 34, 12, 25, 10, 24, 15, 22, 3, 4, 29, 33, 31, 32, 11, 6, 30, 18, 20]\n",
      "\n",
      "id=88\tpoly=45\tseed=24\n",
      "seq = [26, 13, 18, 11, 17, 28, 33, 4, 5, 22, 12, 6, 8, 0, 1, 20, 31, 3, 21, 30, 14, 10, 9, 16, 32, 2, 7, 15, 27, 25, 24]\n",
      "\n",
      "id=89\tpoly=45\tseed=25\n",
      "seq = [25, 14, 17, 12, 18, 27, 34, 3, 6, 21, 11, 5, 7, 24, 2, 19, 32, 4, 22, 29, 13, 9, 10, 15, 31, 1, 8, 16, 28, 26, 23]\n",
      "\n",
      "id=90\tpoly=45\tseed=26\n",
      "seq = [24, 11, 16, 13, 15, 30, 31, 6, 3, 20, 14, 4, 10, 2, 25, 22, 33, 5, 19, 28, 12, 8, 7, 18, 34, 0, 9, 17, 29, 23, 26]\n",
      "\n",
      "id=91\tpoly=45\tseed=27\n",
      "seq = [23, 12, 15, 14, 16, 29, 32, 5, 4, 19, 13, 3, 9, 1, 0, 21, 34, 6, 20, 27, 11, 7, 8, 17, 33, 26, 10, 18, 30, 24, 25]\n",
      "\n",
      "id=92\tpoly=45\tseed=28\n",
      "seq = [30, 9, 22, 7, 21, 24, 0, 31, 1, 18, 8, 33, 2, 12, 34, 4, 32, 5, 16, 27, 17, 26, 10, 14, 13, 20, 6, 11, 19, 23, 29]\n",
      "\n",
      "id=93\tpoly=45\tseed=29\n",
      "seq = [29, 10, 21, 8, 22, 23, 28, 32, 2, 17, 7, 34, 1, 11, 33, 3, 31, 6, 15, 0, 18, 25, 9, 13, 14, 19, 5, 12, 20, 24, 30]\n",
      "\n",
      "id=94\tpoly=45\tseed=30\n",
      "seq = [28, 7, 20, 9, 19, 26, 2, 33, 29, 16, 10, 31, 0, 14, 32, 6, 34, 3, 18, 1, 15, 24, 8, 12, 11, 22, 4, 13, 21, 25, 27]\n",
      "\n",
      "id=95\tpoly=45\tseed=31\n",
      "seq = [27, 8, 19, 10, 20, 25, 1, 34, 0, 15, 9, 32, 30, 13, 31, 5, 33, 4, 17, 2, 16, 23, 7, 11, 12, 21, 3, 14, 22, 26, 28]\n",
      "\n",
      "id=96\tpoly=45\tseed=32\n",
      "seq = [34, 11, 7, 14, 25, 2, 27, 9, 6, 29, 1, 4, 30, 17, 0, 28, 18, 19, 10, 23, 13, 5, 3, 8, 24, 16, 20, 22, 21, 31, 33]\n",
      "\n",
      "id=97\tpoly=45\tseed=33\n",
      "seq = [33, 12, 8, 13, 26, 1, 28, 10, 5, 30, 2, 3, 29, 18, 32, 27, 17, 20, 9, 24, 14, 6, 4, 7, 23, 15, 19, 21, 22, 0, 34]\n",
      "\n",
      "id=98\tpoly=45\tseed=34\n",
      "seq = [32, 13, 9, 12, 23, 0, 29, 7, 4, 27, 33, 6, 28, 15, 2, 30, 16, 21, 8, 25, 11, 3, 5, 10, 26, 18, 22, 20, 19, 1, 31]\n",
      "\n",
      "id=99\tpoly=45\tseed=35\n",
      "seq = [31, 14, 10, 11, 24, 34, 30, 8, 3, 28, 0, 5, 27, 16, 1, 29, 15, 22, 7, 26, 12, 4, 6, 9, 25, 17, 21, 19, 20, 2, 32]\n",
      "\n",
      "id=100\tpoly=45\tseed=36\n",
      "seq = [7, 11, 32, 10, 29, 6, 23, 13, 2, 25, 5, 0, 26, 21, 4, 24, 22, 15, 14, 27, 34, 9, 1, 12, 28, 20, 16, 18, 17, 3, 31]\n",
      "\n",
      "id=101\tpoly=45\tseed=37\n",
      "seq = [8, 12, 31, 9, 30, 5, 24, 14, 1, 26, 6, 25, 22, 3, 23, 21, 16, 13, 28, 33, 10, 2, 0, 11, 27, 19, 15, 17, 18, 4, 32]\n",
      "\n",
      "id=102\tpoly=45\tseed=38\n",
      "seq = [9, 13, 34, 8, 27, 4, 25, 11, 0, 23, 3, 2, 24, 19, 6, 26, 20, 17, 12, 29, 32, 7, 1, 14, 30, 22, 18, 16, 15, 5, 33]\n",
      "\n",
      "id=103\tpoly=45\tseed=39\n",
      "seq = [10, 14, 33, 7, 28, 3, 26, 12, 24, 4, 1, 23, 20, 5, 25, 19, 18, 11, 30, 31, 8, 0, 2, 13, 29, 21, 17, 15, 16, 6, 34]\n",
      "\n",
      "id=104\tpoly=45\tseed=40\n",
      "seq = [3, 34, 33, 6, 17, 10, 19, 1, 14, 21, 9, 12, 22, 25, 8, 20, 26, 27, 2, 15, 5, 13, 11, 32, 0, 16, 24, 28, 30, 29, 7]\n",
      "\n",
      "id=105\tpoly=45\tseed=41\n",
      "seq = [4, 33, 0, 34, 5, 18, 9, 20, 2, 13, 22, 10, 11, 21, 26, 7, 19, 25, 28, 1, 16, 6, 14, 12, 31, 15, 23, 27, 29, 30, 8]\n",
      "\n",
      "id=106\tpoly=45\tseed=42\n",
      "seq = [5, 32, 1, 31, 4, 15, 8, 21, 12, 19, 7, 14, 20, 23, 10, 22, 24, 29, 0, 17, 3, 11, 13, 34, 2, 18, 26, 30, 28, 27, 9]\n",
      "\n",
      "id=107\tpoly=45\tseed=43\n",
      "seq = [6, 31, 2, 32, 3, 16, 7, 22, 0, 11, 20, 8, 13, 19, 24, 9, 21, 23, 30, 18, 4, 12, 14, 33, 1, 17, 25, 29, 27, 28, 10]\n",
      "\n",
      "id=108\tpoly=45\tseed=44\n",
      "seq = [3, 2, 21, 14, 15, 34, 5, 10, 17, 13, 8, 18, 29, 12, 16, 30, 23, 32, 6, 19, 33, 1, 9, 7, 4, 20, 28, 24, 26, 25, 11]\n",
      "\n",
      "id=109\tpoly=45\tseed=45\n",
      "seq = [0, 4, 1, 22, 13, 16, 33, 6, 9, 18, 14, 7, 17, 30, 11, 15, 29, 24, 31, 5, 20, 34, 2, 10, 8, 3, 19, 27, 23, 25, 26]\n",
      "\n",
      "id=110\tpoly=45\tseed=46\n",
      "seq = [1, 5, 0, 19, 12, 17, 32, 3, 8, 15, 11, 10, 16, 27, 14, 18, 28, 25, 34, 4, 21, 31, 7, 9, 6, 22, 30, 26, 24, 23, 13]\n",
      "\n",
      "id=111\tpoly=45\tseed=47\n",
      "seq = [2, 6, 20, 11, 18, 31, 4, 7, 16, 12, 9, 15, 28, 13, 17, 27, 26, 33, 3, 22, 32, 0, 8, 10, 5, 21, 29, 25, 23, 24, 14]\n",
      "\n",
      "id=112\tpoly=45\tseed=48\n",
      "seq = [27, 23, 30, 9, 18, 11, 25, 22, 13, 17, 32, 20, 14, 1, 16, 12, 2, 3, 26, 7, 29, 21, 34, 19, 33, 24, 8, 0, 4, 6, 5]\n",
      "\n",
      "id=113\tpoly=45\tseed=49\n",
      "seq = [28, 24, 29, 10, 17, 12, 26, 21, 14, 18, 31, 19, 13, 2, 15, 11, 1, 4, 25, 8, 30, 22, 33, 20, 34, 23, 7, 3, 5, 6, 16]\n",
      "\n",
      "id=114\tpoly=45\tseed=50\n",
      "seq = [29, 25, 28, 7, 16, 13, 23, 20, 11, 15, 34, 22, 12, 18, 14, 0, 5, 24, 9, 27, 19, 32, 21, 31, 26, 10, 2, 6, 4, 3, 17]\n",
      "\n",
      "id=115\tpoly=45\tseed=51\n",
      "seq = [30, 26, 27, 8, 15, 14, 24, 19, 12, 16, 33, 21, 11, 0, 17, 13, 6, 23, 10, 28, 20, 31, 22, 32, 25, 9, 1, 5, 3, 4, 18]\n",
      "\n",
      "id=116\tpoly=45\tseed=52\n",
      "seq = [23, 33, 27, 31, 26, 13, 22, 7, 29, 32, 18, 9, 21, 16, 10, 5, 20, 8, 6, 30, 11, 25, 34, 17, 15, 28, 12, 4, 0, 2, 1]\n",
      "\n",
      "id=117\tpoly=45\tseed=53\n",
      "seq = [24, 34, 28, 32, 25, 14, 21, 8, 30, 31, 17, 10, 22, 15, 9, 6, 19, 7, 5, 0, 29, 12, 26, 33, 18, 16, 27, 11, 3, 1, 2]\n",
      "\n",
      "id=118\tpoly=45\tseed=54\n",
      "seq = [25, 31, 29, 33, 24, 11, 20, 9, 27, 34, 16, 7, 19, 18, 8, 3, 22, 10, 4, 1, 28, 13, 23, 32, 15, 17, 30, 14, 6, 2, 0]\n",
      "\n",
      "id=119\tpoly=45\tseed=55\n",
      "seq = [26, 32, 30, 34, 23, 12, 19, 10, 28, 33, 15, 8, 20, 17, 7, 4, 21, 9, 3, 2, 27, 14, 24, 31, 16, 18, 29, 13, 5, 1, 0]\n",
      "\n",
      "id=120\tpoly=45\tseed=56\n",
      "seq = [19, 15, 22, 1, 26, 3, 17, 30, 5, 25, 28, 6, 9, 32, 24, 4, 10, 11, 33, 18, 21, 29, 27, 16, 0, 8, 12, 14, 13, 34, 23]\n",
      "\n",
      "id=121\tpoly=45\tseed=57\n",
      "seq = [20, 16, 21, 2, 25, 4, 18, 29, 6, 26, 27, 5, 10, 31, 23, 3, 9, 12, 34, 17, 0, 22, 30, 28, 15, 7, 11, 13, 14, 33, 24]\n",
      "\n",
      "id=122\tpoly=45\tseed=58\n",
      "seq = [21, 17, 20, 24, 5, 15, 28, 3, 23, 30, 4, 7, 34, 26, 6, 8, 13, 31, 16, 1, 19, 27, 29, 18, 2, 10, 14, 12, 11, 32, 25]\n",
      "\n",
      "id=123\tpoly=45\tseed=59\n",
      "seq = [22, 18, 19, 0, 23, 6, 16, 27, 4, 24, 29, 3, 8, 33, 25, 5, 7, 14, 32, 15, 2, 20, 28, 30, 17, 1, 9, 13, 11, 12, 31]\n",
      "\n",
      "id=124\tpoly=45\tseed=60\n",
      "seq = [15, 19, 18, 5, 32, 30, 33, 21, 26, 1, 34, 29, 24, 2, 13, 28, 0, 14, 7, 22, 3, 31, 17, 25, 23, 20, 4, 12, 8, 10, 9]\n",
      "\n",
      "id=125\tpoly=45\tseed=61\n",
      "seq = [16, 20, 17, 6, 31, 29, 0, 34, 22, 25, 2, 33, 30, 23, 1, 14, 27, 13, 8, 21, 4, 32, 18, 26, 24, 19, 3, 11, 7, 9, 10]\n",
      "\n",
      "id=126\tpoly=45\tseed=62\n",
      "seq = [17, 21, 16, 3, 34, 28, 1, 31, 19, 24, 32, 27, 26, 0, 11, 30, 2, 12, 9, 20, 5, 33, 15, 23, 25, 22, 6, 14, 10, 8, 7]\n",
      "\n",
      "id=127\tpoly=45\tseed=63\n",
      "seq = [18, 22, 15, 4, 33, 27, 2, 32, 20, 23, 0, 31, 28, 25, 12, 29, 1, 11, 10, 19, 6, 34, 16, 24, 26, 21, 5, 13, 9, 7, 8]\n",
      "\n",
      "id=128\tpoly=48\tseed=0\n",
      "seq = [2, 19, 9, 4, 24, 29, 14, 33, 16, 27, 13, 6, 17, 8, 25, 12, 26, 22, 18, 21, 10, 20, 28, 30, 34, 32, 31, 15, 7, 3, 1]\n",
      "\n",
      "id=129\tpoly=48\tseed=1\n",
      "seq = [1, 20, 10, 3, 23, 30, 13, 34, 15, 28, 14, 5, 18, 7, 26, 11, 25, 21, 17, 22, 9, 19, 27, 29, 33, 31, 32, 16, 8, 4, 2]\n",
      "\n",
      "id=130\tpoly=48\tseed=2\n",
      "seq = [0, 21, 7, 6, 26, 27, 12, 31, 18, 29, 11, 4, 15, 10, 23, 14, 24, 20, 16, 19, 8, 22, 30, 28, 32, 34, 33, 17, 9, 5, 1]\n",
      "\n",
      "id=131\tpoly=48\tseed=3\n",
      "seq = [2, 22, 8, 5, 25, 28, 11, 32, 17, 30, 12, 3, 16, 9, 24, 13, 23, 19, 15, 20, 7, 21, 29, 27, 31, 33, 34, 18, 10, 6, 0]\n",
      "\n",
      "id=132\tpoly=48\tseed=4\n",
      "seq = [6, 15, 13, 0, 28, 25, 10, 32, 20, 23, 9, 2, 31, 21, 12, 29, 8, 30, 18, 33, 22, 17, 14, 16, 24, 26, 34, 19, 11, 3, 5]\n",
      "\n",
      "id=133\tpoly=48\tseed=5\n",
      "seq = [5, 16, 14, 4, 27, 26, 9, 31, 19, 24, 10, 1, 32, 22, 11, 30, 7, 29, 17, 34, 21, 18, 13, 15, 23, 25, 33, 20, 12, 0, 6]\n",
      "\n",
      "id=134\tpoly=48\tseed=6\n",
      "seq = [4, 17, 11, 2, 30, 23, 8, 34, 22, 25, 7, 0, 33, 19, 14, 27, 10, 28, 16, 31, 20, 15, 12, 18, 26, 24, 32, 21, 13, 1, 3]\n",
      "\n",
      "id=135\tpoly=48\tseed=7\n",
      "seq = [3, 18, 12, 1, 29, 24, 7, 33, 21, 26, 8, 6, 34, 20, 13, 28, 9, 27, 15, 32, 19, 16, 11, 17, 25, 23, 31, 22, 14, 2, 4]\n",
      "\n",
      "id=136\tpoly=48\tseed=8\n",
      "seq = [10, 31, 27, 1, 12, 16, 21, 6, 34, 24, 19, 5, 14, 32, 25, 0, 17, 4, 18, 30, 26, 29, 2, 33, 28, 20, 22, 23, 7, 11, 9]\n",
      "\n",
      "id=137\tpoly=48\tseed=9\n",
      "seq = [9, 32, 28, 2, 11, 15, 22, 5, 33, 23, 20, 6, 13, 31, 26, 8, 18, 3, 17, 29, 25, 30, 1, 34, 27, 19, 21, 24, 0, 12, 10]\n",
      "\n",
      "id=138\tpoly=48\tseed=10\n",
      "seq = [8, 33, 29, 9, 14, 18, 19, 4, 32, 26, 21, 3, 12, 34, 23, 2, 15, 6, 16, 28, 24, 27, 0, 31, 30, 22, 20, 25, 1, 13, 7]\n",
      "\n",
      "id=139\tpoly=48\tseed=11\n",
      "seq = [7, 34, 30, 0, 13, 17, 20, 3, 31, 25, 22, 4, 11, 33, 24, 1, 16, 5, 15, 27, 23, 28, 10, 32, 29, 21, 19, 26, 2, 14, 8]\n",
      "\n",
      "id=140\tpoly=48\tseed=12\n",
      "seq = [14, 23, 5, 8, 20, 17, 2, 28, 15, 1, 10, 29, 4, 21, 0, 22, 33, 26, 32, 30, 31, 25, 6, 24, 16, 18, 34, 27, 3, 7, 13]\n",
      "\n",
      "id=141\tpoly=48\tseed=13\n",
      "seq = [13, 24, 6, 7, 19, 18, 1, 27, 16, 2, 9, 30, 3, 22, 12, 21, 34, 25, 31, 29, 32, 26, 5, 23, 15, 17, 33, 28, 4, 8, 14]\n",
      "\n",
      "id=142\tpoly=48\tseed=14\n",
      "seq = [12, 25, 3, 10, 22, 15, 0, 30, 17, 13, 8, 27, 6, 19, 2, 20, 31, 24, 34, 28, 33, 23, 4, 26, 18, 16, 32, 29, 5, 9, 11]\n",
      "\n",
      "id=143\tpoly=48\tseed=15\n",
      "seq = [11, 26, 4, 9, 21, 16, 14, 29, 18, 0, 7, 28, 5, 20, 1, 19, 32, 23, 33, 27, 34, 24, 3, 25, 17, 15, 31, 30, 6, 10, 12]\n",
      "\n",
      "id=144\tpoly=48\tseed=16\n",
      "seq = [18, 32, 3, 25, 20, 33, 8, 13, 30, 0, 11, 29, 22, 34, 1, 24, 9, 28, 10, 6, 2, 5, 26, 4, 12, 14, 15, 23, 19, 17, 16]\n",
      "\n",
      "id=145\tpoly=48\tseed=17\n",
      "seq = [17, 31, 4, 26, 19, 34, 7, 14, 29, 16, 12, 30, 21, 33, 2, 23, 10, 27, 9, 5, 1, 6, 25, 3, 11, 13, 0, 24, 20, 18, 15]\n",
      "\n",
      "id=146\tpoly=48\tseed=18\n",
      "seq = [16, 34, 5, 23, 22, 31, 10, 11, 28, 2, 13, 27, 20, 32, 17, 26, 7, 30, 8, 4, 0, 3, 24, 6, 14, 12, 1, 25, 21, 15, 18]\n",
      "\n",
      "id=147\tpoly=48\tseed=19\n",
      "seq = [15, 33, 6, 24, 21, 32, 9, 12, 27, 1, 14, 28, 19, 31, 0, 25, 8, 29, 7, 3, 18, 4, 23, 5, 13, 11, 2, 26, 22, 16, 17]\n",
      "\n",
      "id=148\tpoly=48\tseed=20\n",
      "seq = [22, 19, 29, 16, 12, 9, 26, 34, 4, 7, 25, 18, 5, 28, 31, 13, 24, 33, 14, 2, 6, 1, 30, 32, 0, 8, 10, 3, 27, 15, 21]\n",
      "\n",
      "id=149\tpoly=48\tseed=21\n",
      "seq = [21, 0, 30, 15, 11, 10, 25, 33, 3, 8, 26, 17, 6, 27, 32, 14, 23, 34, 13, 1, 5, 2, 29, 31, 20, 7, 9, 4, 28, 16, 22]\n",
      "\n",
      "id=150\tpoly=48\tseed=22\n",
      "seq = [20, 1, 27, 18, 14, 7, 24, 32, 6, 9, 23, 16, 3, 30, 33, 11, 26, 31, 12, 0, 4, 21, 28, 34, 2, 10, 8, 5, 29, 17, 19]\n",
      "\n",
      "id=151\tpoly=48\tseed=23\n",
      "seq = [19, 2, 28, 17, 13, 8, 23, 31, 5, 10, 24, 15, 4, 29, 34, 12, 25, 32, 11, 22, 3, 0, 27, 33, 1, 9, 7, 6, 30, 18, 20]\n",
      "\n",
      "id=152\tpoly=48\tseed=24\n",
      "seq = [26, 11, 17, 28, 0, 5, 22, 8, 31, 3, 21, 30, 9, 16, 1, 20, 2, 14, 34, 10, 32, 13, 18, 12, 33, 4, 6, 7, 15, 27, 25]\n",
      "\n",
      "id=153\tpoly=48\tseed=25\n",
      "seq = [25, 12, 18, 27, 24, 6, 21, 7, 32, 4, 22, 29, 10, 15, 2, 19, 1, 13, 33, 9, 31, 14, 17, 11, 34, 3, 5, 8, 16, 28, 26]\n",
      "\n",
      "id=154\tpoly=48\tseed=26\n",
      "seq = [24, 13, 15, 30, 2, 3, 20, 10, 33, 5, 19, 28, 7, 18, 25, 22, 0, 12, 32, 8, 34, 11, 16, 14, 31, 6, 4, 9, 17, 29, 23]\n",
      "\n",
      "id=155\tpoly=48\tseed=27\n",
      "seq = [23, 14, 16, 29, 1, 4, 19, 9, 34, 6, 20, 27, 8, 17, 0, 21, 26, 11, 31, 7, 33, 12, 15, 13, 32, 5, 3, 10, 18, 30, 24]\n",
      "\n",
      "id=156\tpoly=48\tseed=28\n",
      "seq = [30, 7, 21, 24, 4, 31, 1, 18, 12, 27, 17, 26, 13, 20, 5, 16, 6, 32, 10, 14, 9, 22, 8, 0, 33, 2, 34, 11, 19, 23, 29]\n",
      "\n",
      "id=157\tpoly=48\tseed=29\n",
      "seq = [29, 8, 22, 23, 3, 32, 2, 17, 11, 0, 18, 25, 14, 19, 6, 15, 5, 31, 9, 13, 10, 21, 7, 28, 34, 1, 33, 12, 20, 24, 30]\n",
      "\n",
      "id=158\tpoly=48\tseed=30\n",
      "seq = [28, 9, 19, 26, 6, 33, 29, 16, 14, 1, 15, 24, 11, 22, 3, 18, 4, 34, 8, 12, 7, 20, 10, 2, 31, 0, 32, 13, 21, 25, 27]\n",
      "\n",
      "id=159\tpoly=48\tseed=31\n",
      "seq = [27, 10, 20, 25, 5, 34, 0, 15, 13, 2, 16, 23, 12, 21, 4, 17, 3, 33, 7, 11, 8, 19, 9, 1, 32, 30, 31, 14, 22, 26, 28]\n",
      "\n",
      "id=160\tpoly=48\tseed=32\n",
      "seq = [34, 16, 7, 17, 27, 22, 10, 4, 1, 23, 18, 8, 3, 19, 21, 28, 13, 26, 12, 5, 24, 11, 20, 9, 25, 29, 30, 14, 6, 2, 0]\n",
      "\n",
      "id=161\tpoly=48\tseed=33\n",
      "seq = [33, 15, 8, 18, 28, 21, 9, 3, 2, 24, 17, 7, 4, 20, 22, 27, 14, 25, 11, 6, 23, 12, 19, 10, 26, 30, 29, 13, 5, 1, 32]\n",
      "\n",
      "id=162\tpoly=48\tseed=34\n",
      "seq = [32, 18, 9, 15, 29, 20, 8, 6, 33, 25, 16, 10, 5, 21, 19, 30, 11, 24, 14, 3, 26, 13, 22, 7, 23, 27, 28, 12, 4, 0, 2]\n",
      "\n",
      "id=163\tpoly=48\tseed=35\n",
      "seq = [31, 17, 10, 16, 30, 19, 7, 5, 0, 26, 15, 9, 6, 22, 20, 29, 12, 23, 13, 4, 25, 14, 21, 8, 24, 28, 27, 11, 3, 34, 1]\n",
      "\n",
      "id=164\tpoly=48\tseed=36\n",
      "seq = [20, 11, 32, 21, 23, 18, 14, 0, 5, 27, 34, 22, 12, 15, 17, 24, 9, 30, 8, 1, 28, 7, 16, 13, 29, 25, 26, 10, 2, 6, 4]\n",
      "\n",
      "id=165\tpoly=48\tseed=37\n",
      "seq = [19, 12, 31, 22, 24, 17, 13, 6, 28, 33, 21, 11, 0, 16, 18, 23, 10, 29, 7, 2, 27, 8, 15, 14, 30, 26, 25, 9, 1, 5, 3]\n",
      "\n",
      "id=166\tpoly=48\tseed=38\n",
      "seq = [22, 13, 34, 19, 25, 16, 12, 2, 3, 29, 32, 20, 14, 1, 17, 15, 26, 7, 28, 10, 30, 9, 18, 11, 27, 23, 24, 8, 0, 4, 6]\n",
      "\n",
      "id=167\tpoly=48\tseed=39\n",
      "seq = [21, 14, 33, 20, 26, 15, 11, 1, 4, 30, 31, 19, 13, 2, 18, 16, 25, 8, 27, 9, 0, 29, 10, 17, 12, 28, 24, 23, 7, 3, 5]\n",
      "\n",
      "id=168\tpoly=48\tseed=40\n",
      "seq = [24, 33, 25, 19, 30, 2, 12, 9, 15, 26, 0, 11, 32, 27, 29, 20, 5, 18, 4, 13, 16, 3, 34, 28, 1, 17, 21, 22, 6, 14, 10]\n",
      "\n",
      "id=169\tpoly=48\tseed=41\n",
      "seq = [23, 0, 34, 26, 20, 29, 1, 11, 10, 16, 25, 12, 31, 28, 30, 19, 6, 17, 3, 14, 15, 4, 33, 27, 2, 18, 22, 21, 5, 13, 9]\n",
      "\n",
      "id=170\tpoly=48\tseed=42\n",
      "seq = [26, 1, 31, 23, 21, 28, 0, 14, 7, 17, 24, 2, 13, 34, 29, 27, 22, 3, 16, 6, 11, 18, 5, 32, 30, 15, 19, 20, 4, 12, 8]\n",
      "\n",
      "id=171\tpoly=48\tseed=43\n",
      "seq = [25, 2, 32, 24, 22, 27, 13, 8, 18, 23, 1, 14, 33, 30, 28, 21, 4, 15, 5, 12, 17, 6, 31, 29, 0, 16, 20, 19, 3, 11, 7]\n",
      "\n",
      "id=172\tpoly=48\tseed=44\n",
      "seq = [28, 3, 29, 15, 34, 26, 6, 8, 13, 19, 33, 30, 4, 7, 23, 32, 25, 16, 1, 22, 0, 9, 20, 24, 5, 21, 17, 18, 2, 10, 14]\n",
      "\n",
      "id=173\tpoly=48\tseed=45\n",
      "seq = [27, 4, 30, 16, 33, 25, 5, 7, 14, 20, 34, 29, 3, 8, 24, 31, 26, 15, 2, 21, 10, 19, 0, 23, 6, 22, 18, 17, 1, 9, 13]\n",
      "\n",
      "id=174\tpoly=48\tseed=46\n",
      "seq = [30, 5, 27, 17, 32, 24, 4, 10, 11, 21, 31, 28, 6, 9, 25, 34, 23, 18, 20, 2, 7, 22, 1, 26, 3, 19, 15, 16, 0, 8, 12]\n",
      "\n",
      "id=175\tpoly=48\tseed=47\n",
      "seq = [29, 6, 28, 18, 31, 23, 3, 9, 12, 22, 32, 27, 5, 10, 26, 33, 24, 17, 0, 19, 1, 8, 21, 2, 25, 4, 20, 16, 15, 7, 11]\n",
      "\n",
      "id=176\tpoly=48\tseed=48\n",
      "seq = [0, 23, 1, 11, 6, 26, 20, 17, 32, 7, 2, 24, 19, 33, 3, 5, 12, 29, 10, 28, 21, 34, 8, 27, 4, 25, 9, 13, 14, 30, 22]\n",
      "\n",
      "id=177\tpoly=48\tseed=49\n",
      "seq = [24, 2, 12, 5, 25, 19, 18, 31, 8, 1, 23, 20, 34, 4, 6, 11, 30, 9, 27, 22, 33, 7, 28, 3, 26, 10, 14, 13, 29, 21, 17]\n",
      "\n",
      "id=178\tpoly=48\tseed=50\n",
      "seq = [2, 25, 13, 4, 24, 22, 15, 34, 9, 0, 26, 21, 31, 5, 3, 14, 27, 8, 30, 19, 32, 10, 29, 6, 23, 7, 11, 12, 28, 20, 16]\n",
      "\n",
      "id=179\tpoly=48\tseed=51\n",
      "seq = [1, 26, 0, 14, 3, 23, 21, 16, 33, 10, 25, 22, 32, 6, 4, 13, 28, 7, 29, 20, 31, 9, 30, 5, 24, 8, 12, 11, 27, 19, 15]\n",
      "\n",
      "id=180\tpoly=48\tseed=52\n",
      "seq = [4, 27, 31, 5, 7, 2, 30, 16, 21, 11, 6, 28, 15, 1, 8, 25, 34, 14, 24, 17, 12, 23, 33, 0, 29, 32, 13, 9, 10, 26, 18]\n",
      "\n",
      "id=181\tpoly=48\tseed=53\n",
      "seq = [3, 28, 32, 6, 8, 1, 29, 15, 22, 12, 5, 27, 16, 0, 2, 7, 26, 33, 13, 23, 18, 11, 24, 34, 30, 31, 14, 10, 9, 25, 17]\n",
      "\n",
      "id=182\tpoly=48\tseed=54\n",
      "seq = [6, 29, 33, 3, 9, 0, 28, 18, 19, 13, 4, 30, 17, 1, 10, 23, 32, 12, 26, 15, 14, 25, 31, 2, 27, 34, 11, 7, 8, 24, 16]\n",
      "\n",
      "id=183\tpoly=48\tseed=55\n",
      "seq = [5, 30, 34, 4, 10, 27, 17, 20, 14, 3, 29, 18, 2, 0, 9, 24, 31, 11, 25, 16, 13, 26, 32, 1, 28, 33, 12, 8, 7, 23, 15]\n",
      "\n",
      "id=184\tpoly=48\tseed=56\n",
      "seq = [8, 15, 9, 32, 3, 14, 18, 28, 25, 10, 16, 27, 11, 33, 13, 34, 4, 21, 2, 20, 29, 0, 19, 12, 17, 1, 5, 6, 22, 30, 26]\n",
      "\n",
      "id=185\tpoly=48\tseed=57\n",
      "seq = [7, 16, 10, 31, 4, 13, 17, 27, 26, 0, 9, 15, 28, 12, 34, 14, 33, 3, 22, 1, 19, 30, 20, 11, 18, 2, 6, 5, 21, 29, 25]\n",
      "\n",
      "id=186\tpoly=48\tseed=58\n",
      "seq = [10, 17, 7, 34, 5, 12, 16, 30, 23, 1, 8, 18, 29, 13, 31, 11, 32, 6, 19, 0, 22, 27, 2, 21, 14, 15, 3, 4, 20, 28, 24]\n",
      "\n",
      "id=187\tpoly=48\tseed=59\n",
      "seq = [9, 18, 8, 33, 6, 11, 15, 29, 24, 2, 7, 17, 30, 14, 32, 12, 31, 5, 20, 21, 28, 1, 22, 13, 16, 0, 4, 3, 19, 27, 23]\n",
      "\n",
      "id=188\tpoly=48\tseed=60\n",
      "seq = [12, 19, 13, 33, 10, 22, 24, 29, 3, 31, 14, 20, 23, 7, 9, 0, 17, 6, 16, 25, 4, 15, 8, 21, 5, 32, 1, 34, 2, 18, 26]\n",
      "\n",
      "id=189\tpoly=48\tseed=61\n",
      "seq = [11, 20, 14, 0, 34, 9, 21, 23, 30, 4, 32, 13, 19, 24, 8, 10, 18, 5, 15, 26, 3, 16, 7, 22, 6, 31, 2, 33, 1, 17, 25]\n",
      "\n",
      "id=190\tpoly=48\tseed=62\n",
      "seq = [14, 21, 11, 1, 31, 8, 20, 26, 27, 5, 33, 12, 22, 25, 9, 7, 2, 15, 4, 18, 23, 6, 17, 10, 19, 3, 34, 32, 0, 16, 24]\n",
      "\n",
      "id=191\tpoly=48\tseed=63\n",
      "seq = [13, 22, 12, 2, 32, 7, 19, 25, 28, 6, 34, 11, 21, 26, 10, 8, 1, 16, 3, 17, 24, 5, 18, 9, 20, 4, 33, 0, 31, 15, 23]\n",
      "\n",
      "id=192\tpoly=51\tseed=0\n",
      "seq = [2, 24, 21, 10, 26, 30, 29, 14, 25, 12, 31, 15, 7, 3, 1, 0, 20, 17, 8, 19, 9, 4, 18, 28, 32, 34, 33, 16, 22, 27, 13]\n",
      "\n",
      "id=193\tpoly=51\tseed=1\n",
      "seq = [1, 23, 22, 9, 25, 29, 30, 13, 26, 11, 32, 16, 8, 4, 2, 0, 19, 18, 7, 20, 10, 3, 17, 27, 31, 33, 34, 15, 21, 28, 14]\n",
      "\n",
      "id=194\tpoly=51\tseed=2\n",
      "seq = [0, 26, 19, 8, 24, 28, 27, 12, 23, 14, 33, 17, 9, 5, 1, 2, 22, 15, 10, 21, 7, 6, 16, 30, 34, 32, 31, 18, 20, 29, 11]\n",
      "\n",
      "id=195\tpoly=51\tseed=3\n",
      "seq = [2, 25, 20, 7, 23, 27, 28, 11, 24, 13, 34, 18, 10, 6, 0, 1, 21, 16, 9, 22, 8, 5, 15, 29, 33, 31, 32, 17, 19, 30, 12]\n",
      "\n",
      "id=196\tpoly=51\tseed=4\n",
      "seq = [6, 28, 17, 14, 30, 26, 25, 10, 29, 8, 34, 19, 11, 3, 5, 4, 16, 31, 21, 12, 15, 13, 0, 33, 22, 24, 32, 20, 18, 23, 9]\n",
      "\n",
      "id=197\tpoly=51\tseed=5\n",
      "seq = [5, 27, 18, 13, 29, 25, 26, 9, 30, 7, 33, 20, 12, 0, 6, 3, 15, 32, 22, 11, 16, 14, 4, 34, 21, 23, 31, 19, 17, 24, 10]\n",
      "\n",
      "id=198\tpoly=51\tseed=6\n",
      "seq = [4, 30, 15, 12, 28, 24, 23, 8, 27, 10, 32, 21, 13, 1, 3, 6, 18, 33, 19, 14, 17, 11, 2, 31, 20, 26, 34, 22, 16, 25, 7]\n",
      "\n",
      "id=199\tpoly=51\tseed=7\n",
      "seq = [3, 29, 16, 11, 27, 23, 24, 7, 28, 9, 31, 22, 14, 2, 4, 5, 17, 34, 20, 13, 18, 12, 1, 32, 19, 25, 33, 21, 15, 26, 8]\n",
      "\n",
      "id=200\tpoly=51\tseed=8\n",
      "seq = [10, 16, 29, 2, 18, 22, 21, 6, 17, 4, 32, 23, 7, 11, 9, 8, 33, 28, 25, 0, 31, 27, 1, 12, 34, 26, 20, 24, 30, 19, 5]\n",
      "\n",
      "id=201\tpoly=51\tseed=9\n",
      "seq = [9, 15, 30, 1, 17, 21, 22, 5, 18, 3, 31, 24, 0, 12, 10, 7, 34, 27, 26, 8, 32, 28, 2, 11, 33, 25, 19, 23, 29, 20, 6]\n",
      "\n",
      "id=202\tpoly=51\tseed=10\n",
      "seq = [8, 18, 27, 0, 16, 20, 19, 4, 15, 6, 34, 25, 1, 13, 7, 10, 31, 30, 23, 2, 33, 29, 9, 14, 32, 24, 22, 26, 28, 21, 3]\n",
      "\n",
      "id=203\tpoly=51\tseed=11\n",
      "seq = [7, 17, 28, 10, 15, 19, 20, 3, 16, 5, 33, 26, 2, 14, 8, 9, 32, 29, 24, 1, 34, 30, 0, 13, 31, 23, 21, 25, 27, 22, 4]\n",
      "\n",
      "id=204\tpoly=51\tseed=12\n",
      "seq = [14, 20, 31, 25, 6, 22, 18, 17, 2, 21, 0, 27, 3, 7, 13, 12, 24, 34, 29, 4, 23, 5, 8, 30, 16, 32, 28, 33, 26, 15, 1]\n",
      "\n",
      "id=205\tpoly=51\tseed=13\n",
      "seq = [13, 19, 32, 26, 5, 21, 17, 18, 1, 22, 12, 28, 4, 8, 14, 11, 23, 33, 30, 3, 24, 6, 7, 29, 15, 31, 27, 34, 25, 16, 2]\n",
      "\n",
      "id=206\tpoly=51\tseed=14\n",
      "seq = [12, 22, 33, 23, 4, 20, 16, 15, 0, 19, 2, 29, 5, 9, 11, 14, 26, 32, 27, 6, 25, 3, 10, 28, 18, 34, 30, 31, 24, 17, 13]\n",
      "\n",
      "id=207\tpoly=51\tseed=15\n",
      "seq = [11, 21, 34, 24, 3, 19, 15, 16, 14, 20, 1, 30, 6, 10, 12, 13, 25, 31, 28, 5, 26, 4, 9, 27, 17, 33, 29, 32, 23, 18, 0]\n",
      "\n",
      "id=208\tpoly=51\tseed=16\n",
      "seq = [18, 33, 8, 5, 26, 10, 14, 13, 30, 9, 28, 15, 23, 19, 17, 16, 34, 4, 1, 24, 3, 25, 20, 32, 2, 12, 0, 6, 11, 29, 22]\n",
      "\n",
      "id=209\tpoly=51\tseed=17\n",
      "seq = [17, 34, 7, 6, 25, 9, 13, 14, 29, 10, 27, 0, 24, 20, 18, 15, 33, 3, 2, 23, 4, 26, 19, 31, 1, 11, 16, 5, 12, 30, 21]\n",
      "\n",
      "id=210\tpoly=51\tseed=18\n",
      "seq = [16, 31, 10, 3, 24, 8, 12, 11, 28, 7, 30, 1, 25, 21, 15, 18, 32, 6, 17, 26, 5, 23, 22, 34, 0, 14, 2, 4, 13, 27, 20]\n",
      "\n",
      "id=211\tpoly=51\tseed=19\n",
      "seq = [15, 32, 9, 4, 23, 7, 11, 12, 27, 8, 29, 2, 26, 22, 16, 17, 31, 5, 0, 25, 6, 24, 21, 33, 18, 13, 1, 3, 14, 28, 19]\n",
      "\n",
      "id=212\tpoly=51\tseed=20\n",
      "seq = [22, 12, 1, 30, 33, 14, 10, 9, 26, 31, 13, 24, 32, 3, 27, 15, 21, 20, 0, 5, 28, 34, 19, 29, 16, 6, 8, 4, 2, 7, 25]\n",
      "\n",
      "id=213\tpoly=51\tseed=21\n",
      "seq = [21, 11, 2, 29, 34, 13, 9, 10, 25, 32, 14, 23, 31, 4, 28, 16, 22, 19, 20, 6, 27, 33, 0, 30, 15, 5, 7, 3, 1, 8, 26]\n",
      "\n",
      "id=214\tpoly=51\tseed=22\n",
      "seq = [20, 14, 21, 28, 31, 12, 8, 7, 24, 33, 11, 26, 34, 5, 29, 17, 19, 22, 2, 3, 30, 32, 1, 27, 18, 4, 10, 6, 0, 9, 23]\n",
      "\n",
      "id=215\tpoly=51\tseed=23\n",
      "seq = [19, 13, 0, 27, 32, 11, 7, 8, 23, 34, 12, 25, 33, 6, 30, 18, 20, 21, 1, 4, 29, 31, 2, 28, 17, 3, 9, 5, 22, 10, 24]\n",
      "\n",
      "id=216\tpoly=51\tseed=24\n",
      "seq = [26, 0, 13, 18, 2, 6, 5, 22, 1, 20, 7, 15, 27, 25, 24, 12, 32, 9, 16, 11, 17, 28, 10, 33, 4, 8, 34, 14, 31, 3, 21]\n",
      "\n",
      "id=217\tpoly=51\tseed=25\n",
      "seq = [25, 24, 14, 17, 1, 5, 6, 21, 2, 19, 8, 16, 28, 26, 23, 11, 31, 10, 15, 12, 18, 27, 9, 34, 3, 7, 33, 13, 32, 4, 22]\n",
      "\n",
      "id=218\tpoly=51\tseed=26\n",
      "seq = [24, 2, 11, 16, 0, 4, 3, 20, 25, 22, 9, 17, 29, 23, 26, 14, 34, 7, 18, 13, 15, 30, 8, 31, 6, 10, 32, 12, 33, 5, 19]\n",
      "\n",
      "id=219\tpoly=51\tseed=27\n",
      "seq = [23, 1, 12, 15, 26, 3, 4, 19, 0, 21, 10, 18, 30, 24, 25, 13, 33, 8, 17, 14, 16, 29, 7, 32, 5, 9, 31, 11, 34, 6, 20]\n",
      "\n",
      "id=220\tpoly=51\tseed=28\n",
      "seq = [30, 4, 34, 9, 22, 6, 33, 2, 31, 1, 18, 5, 16, 11, 19, 23, 29, 28, 8, 13, 20, 7, 21, 24, 14, 0, 32, 12, 10, 27, 17]\n",
      "\n",
      "id=221\tpoly=51\tseed=29\n",
      "seq = [29, 3, 33, 10, 21, 5, 34, 1, 32, 2, 17, 6, 15, 12, 20, 24, 30, 27, 7, 14, 19, 8, 22, 23, 13, 28, 31, 11, 9, 0, 18]\n",
      "\n",
      "id=222\tpoly=51\tseed=30\n",
      "seq = [28, 6, 32, 7, 20, 4, 31, 0, 33, 29, 16, 3, 18, 13, 21, 25, 27, 30, 10, 11, 22, 9, 19, 26, 12, 2, 34, 14, 8, 1, 15]\n",
      "\n",
      "id=223\tpoly=51\tseed=31\n",
      "seq = [27, 5, 31, 8, 19, 3, 32, 30, 34, 0, 15, 4, 17, 14, 22, 26, 28, 29, 9, 12, 21, 10, 20, 25, 11, 1, 33, 13, 7, 2, 16]\n",
      "\n",
      "id=224\tpoly=51\tseed=32\n",
      "seq = [34, 17, 30, 11, 21, 29, 27, 19, 20, 8, 6, 31, 33, 32, 18, 9, 24, 14, 3, 22, 7, 16, 10, 5, 25, 28, 12, 4, 0, 2, 1]\n",
      "\n",
      "id=225\tpoly=51\tseed=33\n",
      "seq = [33, 18, 29, 12, 22, 30, 28, 20, 19, 7, 5, 0, 34, 31, 17, 10, 23, 13, 4, 21, 8, 15, 9, 6, 26, 27, 11, 3, 32, 1, 2]\n",
      "\n",
      "id=226\tpoly=51\tseed=34\n",
      "seq = [32, 15, 28, 13, 19, 27, 29, 21, 22, 10, 4, 1, 31, 34, 16, 7, 26, 12, 5, 20, 9, 18, 8, 3, 23, 30, 14, 6, 2, 0, 33]\n",
      "\n",
      "id=227\tpoly=51\tseed=35\n",
      "seq = [31, 16, 27, 14, 20, 28, 30, 22, 21, 9, 3, 2, 32, 33, 15, 8, 25, 11, 6, 19, 10, 17, 7, 4, 24, 29, 13, 5, 1, 34, 0]\n",
      "\n",
      "id=228\tpoly=51\tseed=36\n",
      "seq = [21, 26, 7, 17, 25, 23, 15, 16, 12, 2, 3, 31, 22, 13, 28, 10, 18, 11, 32, 20, 14, 1, 29, 24, 8, 0, 4, 6, 5, 30, 9]\n",
      "\n",
      "id=229\tpoly=51\tseed=37\n",
      "seq = [22, 25, 8, 18, 26, 24, 16, 15, 11, 1, 4, 32, 21, 14, 27, 9, 0, 17, 12, 31, 19, 13, 2, 30, 23, 7, 3, 5, 6, 29, 10]\n",
      "\n",
      "id=230\tpoly=51\tseed=38\n",
      "seq = [19, 24, 9, 15, 23, 25, 17, 18, 14, 0, 5, 33, 20, 11, 30, 8, 1, 16, 13, 34, 22, 12, 27, 26, 10, 2, 6, 4, 3, 28, 7]\n",
      "\n",
      "id=231\tpoly=51\tseed=39\n",
      "seq = [20, 23, 10, 16, 24, 26, 18, 17, 13, 6, 34, 19, 12, 29, 7, 2, 15, 14, 33, 21, 11, 0, 28, 25, 9, 1, 5, 3, 4, 27, 8]\n",
      "\n",
      "id=232\tpoly=51\tseed=40\n",
      "seq = [25, 22, 3, 34, 29, 21, 19, 27, 28, 0, 14, 7, 31, 26, 1, 16, 6, 11, 32, 30, 33, 24, 2, 13, 17, 20, 4, 12, 8, 10, 9]\n",
      "\n",
      "id=233\tpoly=51\tseed=41\n",
      "seq = [26, 21, 4, 33, 30, 22, 20, 28, 27, 13, 8, 32, 25, 2, 15, 5, 12, 31, 29, 0, 34, 23, 1, 14, 18, 19, 3, 11, 7, 9, 10]\n",
      "\n",
      "id=234\tpoly=51\tseed=42\n",
      "seq = [23, 20, 5, 32, 27, 19, 21, 29, 30, 2, 12, 9, 33, 24, 18, 4, 13, 34, 28, 1, 31, 26, 0, 11, 15, 22, 6, 14, 10, 8, 7]\n",
      "\n",
      "id=235\tpoly=51\tseed=43\n",
      "seq = [24, 19, 6, 31, 28, 20, 22, 30, 29, 1, 11, 10, 34, 23, 0, 17, 3, 14, 33, 27, 2, 32, 25, 12, 16, 21, 5, 13, 9, 7, 8]\n",
      "\n",
      "id=236\tpoly=51\tseed=44\n",
      "seq = [29, 18, 25, 17, 15, 34, 23, 32, 24, 4, 10, 11, 30, 5, 20, 2, 7, 26, 3, 28, 6, 9, 21, 16, 0, 8, 12, 14, 13, 22, 1]\n",
      "\n",
      "id=237\tpoly=51\tseed=45\n",
      "seq = [30, 17, 0, 26, 18, 16, 33, 24, 31, 23, 3, 9, 12, 29, 6, 19, 1, 8, 25, 4, 27, 5, 10, 22, 15, 7, 11, 13, 14, 21, 2]\n",
      "\n",
      "id=238\tpoly=51\tseed=46\n",
      "seq = [27, 16, 1, 23, 15, 17, 32, 25, 34, 26, 6, 8, 13, 28, 3, 22, 0, 9, 24, 5, 30, 4, 7, 19, 18, 2, 10, 14, 12, 11, 20]\n",
      "\n",
      "id=239\tpoly=51\tseed=47\n",
      "seq = [28, 15, 2, 24, 16, 18, 31, 26, 33, 25, 5, 7, 14, 27, 4, 21, 10, 23, 6, 29, 3, 8, 20, 17, 1, 9, 13, 11, 12, 19, 0]\n",
      "\n",
      "id=240\tpoly=51\tseed=48\n",
      "seq = [1, 14, 27, 5, 13, 11, 3, 4, 24, 22, 15, 31, 2, 25, 8, 30, 19, 33, 6, 23, 0, 26, 21, 34, 9, 12, 28, 20, 16, 18, 17]\n",
      "\n",
      "id=241\tpoly=51\tseed=49\n",
      "seq = [2, 13, 28, 6, 14, 12, 4, 3, 23, 21, 16, 32, 1, 26, 7, 29, 20, 34, 5, 24, 25, 22, 33, 10, 11, 27, 19, 15, 17, 18, 31]\n",
      "\n",
      "id=242\tpoly=51\tseed=50\n",
      "seq = [12, 29, 3, 11, 13, 5, 6, 26, 20, 17, 33, 0, 23, 10, 28, 21, 31, 4, 25, 2, 24, 19, 32, 7, 14, 30, 22, 18, 16, 15, 34]\n",
      "\n",
      "id=243\tpoly=51\tseed=51\n",
      "seq = [0, 11, 30, 4, 12, 14, 6, 5, 25, 19, 18, 34, 24, 9, 27, 22, 32, 3, 26, 1, 23, 20, 31, 8, 13, 29, 21, 17, 15, 16, 33]\n",
      "\n",
      "id=244\tpoly=51\tseed=52\n",
      "seq = [5, 10, 23, 33, 1, 9, 7, 0, 28, 18, 19, 6, 29, 32, 12, 26, 15, 2, 27, 31, 4, 30, 17, 13, 8, 24, 16, 20, 22, 21, 14]\n",
      "\n",
      "id=245\tpoly=51\tseed=53\n",
      "seq = [6, 9, 24, 34, 2, 10, 8, 0, 27, 17, 20, 5, 30, 31, 11, 25, 16, 1, 28, 32, 3, 29, 18, 14, 7, 23, 15, 19, 21, 22, 13]\n",
      "\n",
      "id=246\tpoly=51\tseed=54\n",
      "seq = [3, 8, 25, 31, 7, 9, 1, 2, 30, 16, 21, 4, 27, 34, 14, 24, 17, 0, 29, 33, 6, 28, 15, 11, 10, 26, 18, 22, 20, 19, 12]\n",
      "\n",
      "id=247\tpoly=51\tseed=55\n",
      "seq = [4, 7, 26, 32, 0, 8, 10, 2, 1, 29, 15, 22, 3, 28, 33, 13, 23, 18, 30, 34, 5, 27, 16, 12, 9, 25, 17, 21, 19, 20, 11]\n",
      "\n",
      "id=248\tpoly=51\tseed=56\n",
      "seq = [9, 32, 6, 19, 13, 34, 5, 3, 11, 33, 12, 16, 30, 23, 10, 17, 0, 22, 27, 14, 15, 8, 18, 29, 1, 4, 20, 28, 24, 26, 25]\n",
      "\n",
      "id=249\tpoly=51\tseed=57\n",
      "seq = [10, 31, 5, 20, 14, 33, 6, 4, 12, 34, 11, 15, 29, 24, 9, 18, 21, 28, 13, 16, 7, 17, 30, 2, 3, 19, 27, 23, 25, 26, 1]\n",
      "\n",
      "id=250\tpoly=51\tseed=58\n",
      "seq = [7, 34, 4, 21, 11, 32, 3, 5, 13, 31, 14, 18, 28, 25, 8, 15, 2, 20, 29, 12, 17, 10, 16, 27, 6, 22, 30, 26, 24, 23, 0]\n",
      "\n",
      "id=251\tpoly=51\tseed=59\n",
      "seq = [8, 33, 3, 22, 12, 31, 4, 6, 14, 32, 13, 17, 27, 26, 7, 16, 1, 19, 30, 11, 18, 9, 15, 28, 0, 5, 21, 29, 25, 23, 24]\n",
      "\n",
      "id=252\tpoly=51\tseed=60\n",
      "seq = [13, 2, 15, 9, 1, 34, 33, 7, 8, 20, 26, 27, 14, 21, 4, 18, 23, 10, 19, 12, 22, 25, 5, 32, 0, 16, 24, 28, 30, 29, 6]\n",
      "\n",
      "id=253\tpoly=51\tseed=61\n",
      "seq = [14, 1, 16, 10, 2, 33, 0, 34, 8, 7, 19, 25, 28, 13, 22, 3, 17, 24, 9, 20, 11, 21, 26, 6, 31, 15, 23, 27, 29, 30, 5]\n",
      "\n",
      "id=254\tpoly=51\tseed=62\n",
      "seq = [11, 0, 17, 7, 32, 1, 31, 9, 10, 22, 24, 29, 12, 19, 6, 16, 25, 8, 21, 14, 20, 23, 3, 34, 2, 18, 26, 30, 28, 27, 4]\n",
      "\n",
      "id=255\tpoly=51\tseed=63\n",
      "seq = [12, 18, 8, 0, 31, 2, 32, 10, 9, 21, 23, 30, 11, 20, 5, 15, 26, 7, 22, 13, 19, 24, 4, 33, 1, 17, 25, 29, 27, 28, 3]\n",
      "\n",
      "id=256\tpoly=54\tseed=0\n",
      "seq = [2, 31, 15, 7, 3, 1, 0, 26, 34, 17, 8, 24, 28, 27, 13, 6, 21, 10, 32, 18, 33, 16, 30, 20, 29, 14, 22, 19, 9, 4, 25]\n",
      "\n",
      "id=257\tpoly=54\tseed=1\n",
      "seq = [1, 32, 16, 8, 4, 2, 0, 25, 33, 18, 7, 23, 27, 28, 14, 5, 22, 9, 31, 17, 34, 15, 29, 19, 30, 13, 21, 20, 10, 3, 26]\n",
      "\n",
      "id=258\tpoly=54\tseed=2\n",
      "seq = [0, 33, 17, 9, 5, 1, 2, 24, 32, 15, 10, 26, 30, 29, 11, 4, 19, 8, 34, 16, 31, 18, 28, 22, 27, 12, 20, 21, 7, 6, 23]\n",
      "\n",
      "id=259\tpoly=54\tseed=3\n",
      "seq = [2, 34, 18, 10, 6, 0, 1, 23, 31, 16, 9, 25, 29, 30, 12, 3, 20, 7, 33, 15, 32, 17, 27, 21, 28, 11, 19, 22, 8, 5, 24]\n",
      "\n",
      "id=260\tpoly=54\tseed=4\n",
      "seq = [6, 19, 11, 3, 5, 4, 30, 34, 32, 31, 21, 12, 28, 24, 23, 9, 2, 17, 14, 33, 22, 20, 26, 16, 25, 10, 18, 15, 13, 0, 29]\n",
      "\n",
      "id=261\tpoly=54\tseed=5\n",
      "seq = [5, 20, 12, 0, 6, 3, 29, 33, 31, 32, 22, 11, 27, 23, 24, 10, 1, 18, 13, 34, 21, 19, 25, 15, 26, 9, 17, 16, 14, 4, 30]\n",
      "\n",
      "id=262\tpoly=54\tseed=6\n",
      "seq = [4, 21, 13, 1, 3, 6, 28, 32, 34, 33, 19, 14, 30, 26, 25, 7, 0, 15, 12, 31, 20, 22, 24, 18, 23, 8, 16, 17, 11, 2, 27]\n",
      "\n",
      "id=263\tpoly=54\tseed=7\n",
      "seq = [3, 22, 14, 2, 4, 5, 27, 31, 33, 34, 20, 13, 29, 25, 26, 8, 6, 16, 11, 32, 19, 21, 23, 17, 24, 7, 15, 18, 12, 1, 28]\n",
      "\n",
      "id=264\tpoly=54\tseed=8\n",
      "seq = [10, 23, 7, 11, 9, 8, 18, 34, 25, 0, 16, 20, 19, 5, 14, 29, 2, 26, 32, 24, 22, 33, 28, 21, 6, 30, 31, 27, 1, 12, 17]\n",
      "\n",
      "id=265\tpoly=54\tseed=9\n",
      "seq = [9, 24, 0, 12, 10, 7, 17, 33, 26, 8, 15, 19, 20, 6, 13, 30, 1, 25, 31, 23, 21, 34, 27, 22, 5, 29, 32, 28, 2, 11, 18]\n",
      "\n",
      "id=266\tpoly=54\tseed=10\n",
      "seq = [8, 25, 1, 13, 7, 10, 16, 32, 23, 2, 18, 22, 21, 3, 12, 27, 0, 24, 34, 26, 20, 31, 30, 19, 4, 28, 33, 29, 9, 14, 15]\n",
      "\n",
      "id=267\tpoly=54\tseed=11\n",
      "seq = [7, 26, 2, 14, 8, 9, 15, 31, 24, 1, 17, 21, 22, 4, 11, 28, 10, 23, 33, 25, 19, 32, 29, 20, 3, 27, 34, 30, 0, 13, 16]\n",
      "\n",
      "id=268\tpoly=54\tseed=12\n",
      "seq = [14, 32, 27, 3, 7, 13, 12, 22, 29, 4, 20, 16, 15, 1, 10, 31, 25, 6, 34, 30, 28, 18, 24, 17, 2, 33, 26, 23, 5, 8, 21]\n",
      "\n",
      "id=269\tpoly=54\tseed=13\n",
      "seq = [13, 31, 28, 4, 8, 14, 11, 21, 30, 3, 19, 15, 16, 2, 9, 32, 26, 5, 33, 29, 27, 17, 23, 18, 1, 34, 25, 24, 6, 7, 22]\n",
      "\n",
      "id=270\tpoly=54\tseed=14\n",
      "seq = [12, 34, 29, 5, 9, 11, 14, 20, 27, 6, 22, 18, 17, 13, 8, 33, 23, 4, 32, 28, 30, 16, 26, 15, 0, 31, 24, 25, 3, 10, 19]\n",
      "\n",
      "id=271\tpoly=54\tseed=15\n",
      "seq = [11, 33, 30, 6, 10, 12, 13, 19, 28, 5, 21, 17, 18, 0, 7, 34, 24, 3, 31, 27, 29, 15, 25, 16, 14, 32, 23, 26, 4, 9, 20]\n",
      "\n",
      "id=272\tpoly=54\tseed=16\n",
      "seq = [18, 15, 23, 19, 17, 16, 10, 1, 24, 33, 8, 12, 11, 29, 22, 5, 26, 34, 2, 0, 14, 4, 13, 30, 32, 6, 3, 25, 20, 9, 28]\n",
      "\n",
      "id=273\tpoly=54\tseed=17\n",
      "seq = [17, 0, 24, 20, 18, 15, 9, 2, 23, 34, 7, 11, 12, 30, 21, 6, 25, 33, 1, 16, 13, 3, 14, 29, 31, 5, 4, 26, 19, 10, 27]\n",
      "\n",
      "id=274\tpoly=54\tseed=18\n",
      "seq = [16, 1, 25, 21, 15, 18, 8, 17, 26, 31, 10, 14, 13, 27, 20, 3, 24, 32, 0, 2, 12, 6, 11, 28, 34, 4, 5, 23, 22, 7, 30]\n",
      "\n",
      "id=275\tpoly=54\tseed=19\n",
      "seq = [15, 2, 26, 22, 16, 17, 7, 0, 25, 32, 9, 13, 14, 28, 19, 4, 23, 31, 18, 1, 11, 5, 12, 27, 33, 3, 6, 24, 21, 8, 29]\n",
      "\n",
      "id=276\tpoly=54\tseed=20\n",
      "seq = [22, 34, 3, 27, 15, 21, 20, 33, 14, 5, 28, 12, 8, 7, 25, 18, 32, 1, 30, 6, 4, 10, 0, 9, 26, 2, 19, 29, 16, 31, 13]\n",
      "\n",
      "id=277\tpoly=54\tseed=21\n",
      "seq = [21, 33, 4, 28, 16, 22, 19, 34, 13, 6, 27, 11, 7, 8, 26, 17, 31, 2, 29, 5, 3, 9, 20, 10, 25, 1, 0, 30, 15, 32, 14]\n",
      "\n",
      "id=278\tpoly=54\tseed=22\n",
      "seq = [20, 32, 5, 29, 17, 19, 22, 31, 12, 3, 30, 14, 10, 9, 23, 16, 34, 21, 28, 4, 6, 8, 2, 7, 24, 0, 1, 27, 18, 33, 11]\n",
      "\n",
      "id=279\tpoly=54\tseed=23\n",
      "seq = [19, 31, 6, 30, 18, 20, 21, 32, 11, 4, 29, 13, 9, 10, 24, 15, 33, 0, 27, 3, 5, 7, 1, 8, 23, 22, 2, 28, 17, 34, 12]\n",
      "\n",
      "id=280\tpoly=54\tseed=24\n",
      "seq = [26, 7, 15, 27, 25, 24, 2, 34, 9, 16, 0, 33, 4, 31, 3, 21, 30, 13, 18, 10, 8, 6, 32, 12, 5, 22, 14, 11, 17, 28, 1]\n",
      "\n",
      "id=281\tpoly=54\tseed=25\n",
      "seq = [25, 8, 16, 28, 26, 23, 1, 33, 10, 15, 24, 34, 3, 32, 4, 22, 29, 14, 17, 9, 7, 5, 31, 11, 6, 21, 13, 12, 18, 27, 2]\n",
      "\n",
      "id=282\tpoly=54\tseed=26\n",
      "seq = [24, 9, 17, 29, 23, 26, 0, 32, 7, 18, 2, 31, 6, 33, 5, 19, 28, 11, 16, 8, 10, 4, 34, 14, 3, 20, 12, 13, 15, 30, 25]\n",
      "\n",
      "id=283\tpoly=54\tseed=27\n",
      "seq = [23, 10, 18, 30, 24, 25, 26, 31, 8, 17, 1, 32, 5, 34, 6, 20, 27, 12, 15, 7, 9, 3, 33, 13, 4, 19, 11, 14, 16, 29, 0]\n",
      "\n",
      "id=284\tpoly=54\tseed=28\n",
      "seq = [30, 11, 19, 23, 29, 28, 6, 13, 20, 4, 0, 27, 17, 26, 9, 22, 14, 34, 12, 33, 2, 8, 31, 1, 18, 10, 32, 7, 21, 24, 5]\n",
      "\n",
      "id=285\tpoly=54\tseed=29\n",
      "seq = [29, 12, 20, 24, 30, 27, 5, 14, 19, 3, 28, 0, 18, 25, 10, 21, 13, 33, 11, 34, 1, 7, 32, 2, 17, 9, 31, 8, 22, 23, 6]\n",
      "\n",
      "id=286\tpoly=54\tseed=30\n",
      "seq = [28, 13, 21, 25, 27, 30, 4, 11, 22, 6, 2, 1, 15, 24, 7, 20, 12, 32, 14, 31, 0, 10, 33, 29, 16, 8, 34, 9, 19, 26, 3]\n",
      "\n",
      "id=287\tpoly=54\tseed=31\n",
      "seq = [27, 14, 22, 26, 28, 29, 3, 12, 21, 5, 1, 2, 16, 23, 8, 19, 11, 31, 13, 32, 30, 9, 34, 0, 15, 7, 33, 10, 20, 25, 4]\n",
      "\n",
      "id=288\tpoly=54\tseed=32\n",
      "seq = [34, 22, 12, 31, 33, 32, 21, 26, 10, 2, 6, 4, 3, 17, 25, 23, 20, 11, 18, 14, 0, 5, 30, 8, 1, 29, 24, 9, 27, 16, 13]\n",
      "\n",
      "id=289\tpoly=54\tseed=33\n",
      "seq = [33, 21, 11, 0, 34, 31, 22, 25, 9, 1, 5, 3, 4, 18, 26, 24, 19, 12, 17, 13, 32, 6, 29, 7, 2, 30, 23, 10, 28, 15, 14]\n",
      "\n",
      "id=290\tpoly=54\tseed=34\n",
      "seq = [32, 20, 14, 1, 31, 34, 19, 24, 8, 0, 4, 6, 5, 15, 23, 25, 22, 13, 16, 12, 2, 3, 28, 10, 33, 27, 26, 7, 29, 18, 11]\n",
      "\n",
      "id=291\tpoly=54\tseed=35\n",
      "seq = [31, 19, 13, 2, 32, 33, 20, 23, 7, 34, 3, 5, 6, 16, 24, 26, 21, 14, 15, 11, 1, 4, 27, 9, 0, 28, 25, 8, 30, 17, 12]\n",
      "\n",
      "id=292\tpoly=54\tseed=36\n",
      "seq = [18, 8, 3, 31, 17, 30, 14, 6, 2, 0, 21, 29, 27, 34, 16, 7, 22, 10, 4, 1, 26, 12, 5, 25, 28, 13, 23, 20, 9, 24, 11]\n",
      "\n",
      "id=293\tpoly=54\tseed=37\n",
      "seq = [17, 7, 4, 32, 18, 29, 13, 5, 1, 0, 22, 30, 28, 33, 15, 8, 21, 9, 3, 2, 25, 11, 6, 26, 27, 14, 24, 19, 10, 23, 12]\n",
      "\n",
      "id=294\tpoly=54\tseed=38\n",
      "seq = [16, 10, 5, 33, 15, 28, 12, 4, 0, 2, 1, 19, 27, 29, 32, 18, 9, 20, 8, 6, 24, 14, 3, 23, 30, 11, 25, 22, 7, 26, 13]\n",
      "\n",
      "id=295\tpoly=54\tseed=39\n",
      "seq = [15, 9, 6, 34, 16, 27, 11, 3, 1, 2, 20, 28, 30, 31, 17, 10, 19, 7, 5, 0, 23, 13, 4, 24, 29, 12, 26, 21, 8, 25, 14]\n",
      "\n",
      "id=296\tpoly=54\tseed=40\n",
      "seq = [30, 4, 7, 31, 29, 18, 2, 10, 14, 12, 11, 32, 25, 17, 15, 28, 3, 34, 26, 6, 8, 13, 22, 0, 9, 21, 16, 1, 19, 24, 5]\n",
      "\n",
      "id=297\tpoly=54\tseed=41\n",
      "seq = [29, 3, 8, 32, 30, 17, 1, 9, 13, 11, 12, 31, 26, 18, 16, 27, 4, 33, 25, 5, 7, 14, 21, 10, 22, 15, 2, 20, 23, 6, 19]\n",
      "\n",
      "id=298\tpoly=54\tseed=42\n",
      "seq = [28, 6, 9, 33, 27, 16, 0, 8, 12, 14, 13, 34, 23, 15, 17, 30, 5, 32, 24, 4, 10, 11, 20, 2, 7, 19, 18, 21, 26, 3, 22]\n",
      "\n",
      "id=299\tpoly=54\tseed=43\n",
      "seq = [27, 5, 10, 34, 28, 15, 7, 11, 13, 14, 33, 24, 16, 18, 29, 6, 31, 23, 3, 9, 12, 19, 1, 8, 20, 17, 0, 22, 25, 4, 21]\n",
      "\n",
      "id=300\tpoly=54\tseed=44\n",
      "seq = [26, 0, 11, 25, 22, 6, 14, 10, 8, 7, 29, 21, 19, 33, 24, 30, 2, 12, 9, 18, 4, 13, 17, 20, 5, 15, 34, 28, 1, 16, 3]\n",
      "\n",
      "id=301\tpoly=54\tseed=45\n",
      "seq = [25, 12, 26, 21, 5, 13, 9, 7, 8, 30, 22, 20, 34, 23, 0, 29, 1, 11, 10, 17, 3, 14, 18, 19, 6, 16, 33, 27, 2, 15, 4]\n",
      "\n",
      "id=302\tpoly=54\tseed=46\n",
      "seq = [24, 2, 13, 23, 20, 4, 12, 8, 10, 9, 27, 19, 21, 31, 26, 1, 28, 0, 14, 7, 16, 6, 11, 15, 22, 3, 17, 32, 30, 18, 5]\n",
      "\n",
      "id=303\tpoly=54\tseed=47\n",
      "seq = [23, 1, 14, 24, 19, 3, 11, 7, 9, 10, 28, 20, 22, 32, 25, 2, 27, 13, 8, 15, 5, 12, 16, 21, 4, 18, 31, 29, 0, 17, 6]\n",
      "\n",
      "id=304\tpoly=54\tseed=48\n",
      "seq = [6, 28, 15, 31, 5, 10, 26, 18, 22, 20, 19, 33, 1, 9, 7, 4, 27, 2, 30, 16, 21, 34, 14, 24, 17, 32, 13, 8, 25, 11, 0]\n",
      "\n",
      "id=305\tpoly=54\tseed=49\n",
      "seq = [5, 27, 16, 32, 6, 9, 25, 17, 21, 19, 20, 34, 2, 10, 8, 3, 28, 1, 29, 15, 22, 33, 13, 23, 18, 31, 14, 7, 26, 12, 30]\n",
      "\n",
      "id=306\tpoly=54\tseed=50\n",
      "seq = [4, 30, 17, 33, 3, 8, 24, 16, 20, 22, 21, 31, 7, 9, 6, 29, 0, 28, 18, 19, 32, 12, 26, 15, 34, 11, 10, 23, 13, 2, 27]\n",
      "\n",
      "id=307\tpoly=54\tseed=51\n",
      "seq = [3, 29, 18, 34, 4, 7, 23, 15, 19, 21, 22, 32, 0, 8, 10, 5, 30, 27, 17, 20, 31, 11, 25, 16, 33, 12, 9, 24, 14, 1, 28]\n",
      "\n",
      "id=308\tpoly=54\tseed=52\n",
      "seq = [2, 24, 19, 1, 14, 30, 22, 18, 16, 15, 5, 13, 11, 0, 23, 33, 6, 26, 20, 17, 10, 28, 21, 9, 12, 29, 32, 7, 4, 25, 34]\n",
      "\n",
      "id=309\tpoly=54\tseed=53\n",
      "seq = [1, 23, 20, 2, 13, 29, 21, 17, 15, 16, 6, 14, 12, 24, 34, 5, 25, 19, 18, 9, 27, 22, 10, 11, 30, 31, 8, 3, 26, 33, 7]\n",
      "\n",
      "id=310\tpoly=54\tseed=54\n",
      "seq = [0, 26, 21, 12, 28, 20, 16, 18, 17, 3, 11, 13, 2, 25, 31, 4, 24, 22, 15, 8, 30, 19, 7, 14, 27, 34, 9, 6, 23, 32, 10]\n",
      "\n",
      "id=311\tpoly=54\tseed=55\n",
      "seq = [25, 22, 0, 11, 27, 19, 15, 17, 18, 4, 12, 14, 1, 26, 32, 3, 23, 21, 16, 7, 29, 20, 8, 13, 28, 33, 10, 5, 24, 31, 9]\n",
      "\n",
      "id=312\tpoly=54\tseed=56\n",
      "seq = [14, 20, 23, 13, 34, 2, 18, 26, 30, 28, 27, 9, 32, 1, 12, 19, 10, 22, 24, 29, 6, 16, 25, 5, 0, 17, 3, 8, 21, 4, 15]\n",
      "\n",
      "id=313\tpoly=54\tseed=57\n",
      "seq = [13, 19, 24, 14, 33, 1, 17, 25, 29, 27, 28, 10, 31, 2, 0, 11, 20, 9, 21, 23, 30, 5, 15, 26, 6, 18, 4, 7, 22, 3, 16]\n",
      "\n",
      "id=314\tpoly=54\tseed=58\n",
      "seq = [12, 22, 25, 11, 32, 0, 16, 24, 28, 30, 29, 7, 34, 1, 14, 21, 8, 20, 26, 27, 4, 18, 23, 3, 2, 15, 5, 10, 19, 6, 17]\n",
      "\n",
      "id=315\tpoly=54\tseed=59\n",
      "seq = [11, 21, 26, 12, 31, 15, 23, 27, 29, 30, 8, 33, 0, 2, 13, 22, 7, 19, 25, 28, 3, 17, 24, 4, 1, 16, 6, 9, 20, 5, 18]\n",
      "\n",
      "id=316\tpoly=54\tseed=60\n",
      "seq = [10, 16, 27, 9, 6, 22, 30, 26, 24, 23, 13, 5, 32, 3, 31, 8, 15, 14, 18, 28, 25, 2, 20, 29, 1, 34, 4, 21, 33, 12, 17]\n",
      "\n",
      "id=317\tpoly=54\tseed=61\n",
      "seq = [9, 15, 28, 10, 5, 21, 29, 25, 23, 24, 14, 6, 31, 4, 32, 7, 16, 13, 17, 27, 26, 1, 19, 30, 2, 33, 3, 22, 0, 34, 11]\n",
      "\n",
      "id=318\tpoly=54\tseed=62\n",
      "seq = [8, 18, 29, 7, 4, 20, 28, 24, 26, 25, 11, 3, 34, 5, 33, 10, 17, 12, 16, 30, 23, 0, 22, 27, 32, 6, 19, 1, 31, 14, 15]\n",
      "\n",
      "id=319\tpoly=54\tseed=63\n",
      "seq = [7, 17, 30, 8, 3, 19, 27, 23, 25, 26, 12, 4, 33, 6, 34, 9, 18, 11, 15, 29, 24, 21, 28, 0, 31, 5, 20, 2, 32, 13, 16]\n",
      "\n",
      "id=320\tpoly=57\tseed=0\n",
      "seq = [2, 27, 13, 6, 28, 33, 16, 32, 22, 24, 34, 19, 9, 4, 17, 8, 20, 31, 15, 7, 3, 1, 0, 21, 10, 29, 14, 30, 26, 25, 12]\n",
      "\n",
      "id=321\tpoly=57\tseed=1\n",
      "seq = [1, 28, 14, 5, 27, 34, 15, 31, 21, 23, 33, 20, 10, 3, 18, 7, 19, 32, 16, 8, 4, 2, 0, 22, 9, 30, 13, 29, 25, 26, 11]\n",
      "\n",
      "id=322\tpoly=57\tseed=2\n",
      "seq = [0, 29, 11, 4, 30, 31, 18, 34, 20, 26, 32, 21, 7, 6, 15, 10, 22, 33, 17, 9, 5, 1, 2, 19, 8, 27, 12, 28, 24, 23, 14]\n",
      "\n",
      "id=323\tpoly=57\tseed=3\n",
      "seq = [2, 30, 12, 3, 29, 32, 17, 33, 19, 25, 31, 22, 8, 5, 16, 9, 21, 34, 18, 10, 6, 0, 1, 20, 7, 28, 11, 27, 23, 24, 13]\n",
      "\n",
      "id=324\tpoly=57\tseed=4\n",
      "seq = [6, 23, 9, 2, 24, 20, 18, 28, 15, 13, 0, 31, 21, 12, 34, 16, 19, 11, 3, 5, 4, 32, 17, 14, 25, 10, 26, 30, 29, 8, 33]\n",
      "\n",
      "id=325\tpoly=57\tseed=5\n",
      "seq = [5, 24, 10, 1, 23, 19, 17, 27, 16, 14, 4, 32, 22, 11, 33, 15, 20, 12, 0, 6, 3, 31, 18, 13, 26, 9, 25, 29, 30, 7, 34]\n",
      "\n",
      "id=326\tpoly=57\tseed=6\n",
      "seq = [4, 25, 7, 0, 26, 22, 16, 30, 17, 11, 2, 33, 19, 14, 32, 18, 21, 13, 1, 3, 6, 34, 15, 12, 23, 8, 24, 28, 27, 10, 31]\n",
      "\n",
      "id=327\tpoly=57\tseed=7\n",
      "seq = [3, 26, 8, 6, 25, 21, 15, 29, 18, 12, 1, 34, 20, 13, 31, 17, 22, 14, 2, 4, 5, 33, 16, 11, 24, 7, 23, 27, 28, 9, 32]\n",
      "\n",
      "id=328\tpoly=57\tseed=8\n",
      "seq = [10, 19, 5, 14, 20, 24, 32, 30, 16, 31, 27, 1, 12, 25, 0, 33, 28, 23, 7, 11, 9, 8, 34, 29, 2, 21, 6, 22, 18, 17, 4]\n",
      "\n",
      "id=329\tpoly=57\tseed=9\n",
      "seq = [9, 20, 6, 13, 19, 23, 31, 29, 15, 32, 28, 2, 11, 26, 8, 34, 27, 24, 0, 12, 10, 7, 33, 30, 1, 22, 5, 21, 17, 18, 3]\n",
      "\n",
      "id=330\tpoly=57\tseed=10\n",
      "seq = [8, 21, 3, 12, 22, 26, 34, 28, 18, 33, 29, 9, 14, 23, 2, 31, 30, 25, 1, 13, 7, 10, 32, 27, 0, 19, 4, 20, 16, 15, 6]\n",
      "\n",
      "id=331\tpoly=57\tseed=11\n",
      "seq = [7, 22, 4, 11, 21, 25, 33, 27, 17, 34, 30, 0, 13, 24, 1, 32, 29, 26, 2, 14, 8, 9, 31, 28, 10, 20, 3, 19, 15, 16, 5]\n",
      "\n",
      "id=332\tpoly=57\tseed=12\n",
      "seq = [14, 15, 1, 10, 16, 28, 32, 34, 33, 26, 20, 23, 5, 8, 29, 4, 24, 27, 3, 7, 13, 12, 31, 25, 6, 17, 2, 18, 22, 21, 0]\n",
      "\n",
      "id=333\tpoly=57\tseed=13\n",
      "seq = [13, 16, 2, 9, 15, 27, 31, 33, 34, 25, 19, 24, 6, 7, 30, 3, 23, 28, 4, 8, 14, 11, 32, 26, 5, 18, 1, 17, 21, 22, 12]\n",
      "\n",
      "id=334\tpoly=57\tseed=14\n",
      "seq = [12, 17, 13, 8, 18, 30, 34, 32, 31, 24, 22, 25, 3, 10, 27, 6, 26, 29, 5, 9, 11, 14, 33, 23, 4, 15, 0, 16, 20, 19, 2]\n",
      "\n",
      "id=335\tpoly=57\tseed=15\n",
      "seq = [11, 18, 0, 7, 17, 29, 33, 31, 32, 23, 21, 26, 4, 9, 28, 5, 25, 30, 6, 10, 12, 13, 34, 24, 3, 16, 14, 15, 19, 20, 1]\n",
      "\n",
      "id=336\tpoly=57\tseed=16\n",
      "seq = [18, 11, 29, 22, 12, 0, 32, 6, 33, 8, 3, 25, 20, 1, 24, 4, 34, 15, 23, 19, 17, 16, 5, 26, 13, 30, 14, 10, 9, 28, 2]\n",
      "\n",
      "id=337\tpoly=57\tseed=17\n",
      "seq = [17, 12, 30, 21, 11, 16, 31, 5, 34, 7, 4, 26, 19, 2, 23, 3, 33, 0, 24, 20, 18, 15, 6, 25, 14, 29, 13, 9, 10, 27, 1]\n",
      "\n",
      "id=338\tpoly=57\tseed=18\n",
      "seq = [16, 13, 27, 20, 14, 2, 34, 4, 31, 10, 5, 23, 22, 17, 26, 6, 32, 1, 25, 21, 15, 18, 3, 24, 11, 28, 12, 8, 7, 30, 0]\n",
      "\n",
      "id=339\tpoly=57\tseed=19\n",
      "seq = [15, 14, 28, 19, 13, 1, 33, 3, 32, 9, 6, 24, 21, 0, 25, 5, 31, 2, 26, 22, 16, 17, 4, 23, 12, 27, 11, 7, 8, 29, 18]\n",
      "\n",
      "id=340\tpoly=57\tseed=20\n",
      "seq = [22, 7, 25, 18, 8, 34, 4, 2, 12, 32, 19, 29, 16, 5, 28, 0, 3, 27, 15, 21, 20, 1, 30, 9, 26, 10, 33, 14, 31, 13, 24]\n",
      "\n",
      "id=341\tpoly=57\tseed=21\n",
      "seq = [21, 8, 26, 17, 7, 33, 3, 1, 11, 31, 0, 30, 15, 6, 27, 20, 4, 28, 16, 22, 19, 2, 29, 10, 25, 9, 34, 13, 32, 14, 23]\n",
      "\n",
      "id=342\tpoly=57\tseed=22\n",
      "seq = [20, 9, 23, 16, 10, 32, 6, 0, 14, 34, 1, 27, 18, 3, 30, 2, 5, 29, 17, 19, 22, 21, 28, 7, 24, 8, 31, 12, 33, 11, 26]\n",
      "\n",
      "id=343\tpoly=57\tseed=23\n",
      "seq = [19, 10, 24, 15, 9, 31, 5, 22, 13, 33, 2, 28, 17, 4, 29, 1, 6, 30, 18, 20, 21, 0, 27, 8, 23, 7, 32, 11, 34, 12, 25]\n",
      "\n",
      "id=344\tpoly=57\tseed=24\n",
      "seq = [26, 31, 3, 21, 30, 33, 4, 8, 14, 0, 11, 17, 28, 34, 9, 16, 12, 7, 15, 27, 25, 24, 32, 13, 18, 5, 22, 6, 2, 1, 20]\n",
      "\n",
      "id=345\tpoly=57\tseed=25\n",
      "seq = [25, 32, 4, 22, 29, 34, 3, 7, 13, 24, 12, 18, 27, 33, 10, 15, 11, 8, 16, 28, 26, 23, 31, 14, 17, 6, 21, 5, 1, 2, 19]\n",
      "\n",
      "id=346\tpoly=57\tseed=26\n",
      "seq = [24, 33, 5, 19, 28, 31, 6, 10, 12, 2, 13, 15, 30, 32, 7, 18, 14, 9, 17, 29, 23, 26, 34, 11, 16, 3, 20, 4, 0, 25, 22]\n",
      "\n",
      "id=347\tpoly=57\tseed=27\n",
      "seq = [23, 34, 6, 20, 27, 32, 5, 9, 11, 1, 14, 16, 29, 31, 8, 17, 13, 10, 18, 30, 24, 25, 33, 12, 15, 4, 19, 3, 26, 0, 21]\n",
      "\n",
      "id=348\tpoly=57\tseed=28\n",
      "seq = [30, 27, 17, 26, 0, 12, 10, 4, 7, 21, 24, 13, 20, 32, 8, 11, 19, 23, 29, 28, 9, 22, 31, 1, 18, 33, 2, 6, 5, 16, 34]\n",
      "\n",
      "id=349\tpoly=57\tseed=29\n",
      "seq = [29, 0, 18, 25, 28, 11, 9, 3, 8, 22, 23, 14, 19, 31, 7, 12, 20, 24, 30, 27, 10, 21, 32, 2, 17, 34, 1, 5, 6, 15, 33]\n",
      "\n",
      "id=350\tpoly=57\tseed=30\n",
      "seq = [28, 1, 15, 24, 2, 14, 8, 6, 9, 19, 26, 11, 22, 34, 10, 13, 21, 25, 27, 30, 7, 20, 33, 29, 16, 31, 0, 4, 3, 18, 32]\n",
      "\n",
      "id=351\tpoly=57\tseed=31\n",
      "seq = [27, 2, 16, 23, 1, 13, 7, 5, 10, 20, 25, 12, 21, 33, 9, 14, 22, 26, 28, 29, 8, 19, 34, 0, 15, 32, 30, 3, 4, 17, 31]\n",
      "\n",
      "id=352\tpoly=57\tseed=32\n",
      "seq = [34, 23, 25, 22, 1, 16, 0, 8, 12, 14, 13, 17, 20, 2, 7, 26, 3, 28, 6, 9, 18, 31, 33, 32, 24, 4, 10, 11, 27, 29, 21]\n",
      "\n",
      "id=353\tpoly=57\tseed=33\n",
      "seq = [33, 24, 26, 21, 2, 15, 32, 7, 11, 13, 14, 18, 19, 1, 8, 25, 4, 27, 5, 10, 17, 0, 34, 31, 23, 3, 9, 12, 28, 30, 22]\n",
      "\n",
      "id=354\tpoly=57\tseed=34\n",
      "seq = [32, 25, 23, 20, 33, 18, 2, 10, 14, 12, 11, 15, 22, 0, 9, 24, 5, 30, 4, 7, 16, 1, 31, 34, 26, 6, 8, 13, 29, 27, 19]\n",
      "\n",
      "id=355\tpoly=57\tseed=35\n",
      "seq = [31, 26, 24, 19, 0, 17, 1, 9, 13, 11, 12, 16, 21, 34, 10, 23, 6, 29, 3, 8, 15, 2, 32, 33, 25, 5, 7, 14, 30, 28, 20]\n",
      "\n",
      "id=356\tpoly=57\tseed=36\n",
      "seq = [27, 34, 29, 18, 5, 20, 4, 12, 8, 10, 9, 21, 16, 6, 11, 32, 30, 24, 2, 13, 22, 3, 31, 28, 0, 14, 7, 23, 25, 17, 15]\n",
      "\n",
      "id=357\tpoly=57\tseed=37\n",
      "seq = [28, 33, 30, 17, 6, 19, 3, 11, 7, 9, 10, 22, 15, 5, 12, 31, 29, 0, 23, 1, 14, 21, 4, 32, 27, 13, 8, 24, 26, 18, 16]\n",
      "\n",
      "id=358\tpoly=57\tseed=38\n",
      "seq = [29, 32, 27, 16, 3, 22, 6, 14, 10, 8, 7, 19, 18, 4, 13, 34, 28, 1, 26, 0, 11, 20, 5, 33, 30, 2, 12, 9, 25, 23, 15]\n",
      "\n",
      "id=359\tpoly=57\tseed=39\n",
      "seq = [30, 31, 28, 15, 4, 21, 5, 13, 9, 7, 8, 20, 17, 3, 14, 33, 27, 2, 25, 12, 19, 6, 34, 29, 1, 11, 10, 26, 24, 16, 18]\n",
      "\n",
      "id=360\tpoly=57\tseed=40\n",
      "seq = [15, 17, 30, 9, 24, 8, 0, 4, 6, 5, 25, 28, 10, 33, 18, 11, 32, 20, 14, 1, 26, 7, 31, 16, 12, 2, 3, 34, 19, 21, 29]\n",
      "\n",
      "id=361\tpoly=57\tseed=41\n",
      "seq = [16, 18, 29, 10, 23, 7, 3, 5, 6, 26, 27, 9, 0, 34, 17, 12, 31, 19, 13, 2, 25, 8, 32, 15, 11, 1, 4, 33, 20, 22, 30]\n",
      "\n",
      "id=362\tpoly=57\tseed=42\n",
      "seq = [17, 15, 28, 7, 26, 10, 2, 6, 4, 3, 23, 30, 8, 1, 31, 16, 13, 34, 22, 12, 24, 9, 33, 18, 14, 0, 5, 32, 21, 19, 27]\n",
      "\n",
      "id=363\tpoly=57\tseed=43\n",
      "seq = [18, 16, 27, 8, 25, 9, 1, 5, 3, 4, 24, 29, 7, 2, 32, 15, 14, 33, 21, 11, 0, 23, 10, 34, 17, 13, 6, 31, 22, 20, 28]\n",
      "\n",
      "id=364\tpoly=57\tseed=44\n",
      "seq = [19, 33, 21, 26, 13, 28, 12, 4, 0, 2, 1, 29, 24, 14, 3, 22, 7, 16, 10, 5, 30, 11, 20, 8, 6, 15, 34, 17, 25, 23, 32]\n",
      "\n",
      "id=365\tpoly=57\tseed=45\n",
      "seq = [20, 34, 22, 25, 14, 27, 11, 3, 1, 2, 30, 23, 13, 4, 21, 8, 15, 9, 6, 29, 12, 19, 7, 5, 0, 16, 33, 18, 26, 24, 31]\n",
      "\n",
      "id=366\tpoly=57\tseed=46\n",
      "seq = [21, 31, 19, 24, 11, 30, 14, 6, 2, 0, 27, 26, 12, 5, 20, 9, 18, 8, 3, 28, 13, 22, 10, 4, 1, 17, 32, 15, 23, 25, 34]\n",
      "\n",
      "id=367\tpoly=57\tseed=47\n",
      "seq = [22, 32, 20, 23, 12, 29, 13, 5, 1, 0, 28, 25, 11, 6, 19, 10, 17, 7, 4, 27, 14, 21, 9, 3, 2, 18, 31, 16, 24, 26, 33]\n",
      "\n",
      "id=368\tpoly=57\tseed=48\n",
      "seq = [7, 9, 6, 17, 32, 0, 16, 24, 28, 30, 29, 1, 4, 18, 23, 10, 19, 33, 12, 22, 25, 2, 15, 31, 8, 20, 26, 27, 11, 13, 5]\n",
      "\n",
      "id=369\tpoly=57\tseed=49\n",
      "seq = [8, 10, 5, 18, 31, 15, 23, 27, 29, 30, 2, 3, 17, 24, 9, 20, 34, 11, 21, 26, 1, 16, 32, 7, 19, 25, 28, 12, 14, 6, 4]\n",
      "\n",
      "id=370\tpoly=57\tseed=50\n",
      "seq = [9, 7, 4, 15, 34, 2, 18, 26, 30, 28, 27, 6, 16, 25, 8, 21, 31, 14, 20, 23, 0, 17, 33, 10, 22, 24, 29, 13, 11, 3, 5]\n",
      "\n",
      "id=371\tpoly=57\tseed=51\n",
      "seq = [10, 8, 3, 16, 33, 1, 17, 25, 29, 27, 28, 0, 5, 15, 26, 7, 22, 32, 13, 19, 24, 18, 34, 9, 21, 23, 30, 14, 12, 4, 6]\n",
      "\n",
      "id=372\tpoly=57\tseed=52\n",
      "seq = [11, 13, 2, 21, 4, 20, 28, 24, 26, 25, 34, 5, 0, 22, 27, 31, 14, 15, 8, 18, 29, 32, 6, 19, 12, 16, 30, 23, 33, 7, 9]\n",
      "\n",
      "id=373\tpoly=57\tseed=53\n",
      "seq = [12, 14, 1, 22, 3, 19, 27, 23, 25, 26, 33, 6, 21, 28, 32, 13, 16, 7, 17, 30, 31, 5, 20, 11, 15, 29, 24, 34, 8, 10, 2]\n",
      "\n",
      "id=374\tpoly=57\tseed=54\n",
      "seq = [13, 11, 0, 19, 6, 22, 30, 26, 24, 23, 32, 3, 2, 20, 29, 33, 12, 17, 10, 16, 27, 34, 4, 21, 14, 18, 28, 25, 31, 9, 7]\n",
      "\n",
      "id=375\tpoly=57\tseed=55\n",
      "seq = [14, 12, 20, 5, 21, 29, 25, 23, 24, 31, 4, 1, 19, 30, 34, 11, 18, 9, 15, 28, 33, 3, 22, 13, 17, 27, 26, 32, 10, 8, 0]\n",
      "\n",
      "id=376\tpoly=57\tseed=56\n",
      "seq = [1, 14, 25, 8, 24, 16, 20, 22, 21, 9, 32, 12, 26, 15, 2, 27, 4, 30, 17, 10, 23, 0, 28, 18, 19, 3, 5, 13, 34, 11, 33]\n",
      "\n",
      "id=377\tpoly=57\tseed=57\n",
      "seq = [0, 2, 13, 26, 7, 23, 15, 19, 21, 22, 10, 31, 11, 25, 16, 1, 28, 3, 29, 18, 9, 24, 27, 17, 20, 4, 6, 14, 33, 12, 34]\n",
      "\n",
      "id=378\tpoly=57\tseed=58\n",
      "seq = [1, 12, 23, 10, 26, 18, 22, 20, 19, 7, 34, 14, 24, 17, 0, 29, 6, 28, 15, 8, 25, 2, 30, 16, 21, 5, 3, 11, 32, 13, 31]\n",
      "\n",
      "id=379\tpoly=57\tseed=59\n",
      "seq = [2, 0, 11, 24, 9, 25, 17, 21, 19, 20, 8, 33, 13, 23, 18, 30, 5, 27, 16, 7, 26, 1, 29, 15, 22, 6, 4, 12, 31, 14, 32]\n",
      "\n",
      "id=380\tpoly=57\tseed=60\n",
      "seq = [3, 31, 5, 32, 10, 29, 12, 28, 20, 16, 18, 17, 13, 8, 30, 19, 6, 23, 0, 26, 21, 14, 27, 4, 24, 22, 15, 33, 1, 34, 9]\n",
      "\n",
      "id=381\tpoly=57\tseed=61\n",
      "seq = [4, 32, 6, 31, 9, 30, 11, 27, 19, 15, 17, 18, 14, 7, 29, 20, 5, 24, 25, 22, 13, 28, 3, 23, 21, 16, 0, 34, 2, 33, 10]\n",
      "\n",
      "id=382\tpoly=57\tseed=62\n",
      "seq = [5, 33, 3, 34, 8, 27, 14, 30, 22, 18, 16, 15, 11, 10, 28, 21, 4, 25, 2, 24, 19, 12, 29, 6, 26, 20, 17, 1, 31, 32, 7]\n",
      "\n",
      "id=383\tpoly=57\tseed=63\n",
      "seq = [6, 34, 4, 33, 7, 28, 13, 29, 21, 17, 15, 16, 12, 9, 27, 22, 3, 26, 1, 23, 20, 11, 30, 5, 25, 19, 18, 2, 32, 0, 31]\n",
      "\n"
     ]
    }
   ],
   "source": [
    "lr_fhss_family = get_lr_fhss_family()"
   ]
  },
  {
   "cell_type": "code",
   "execution_count": 59,
   "metadata": {},
   "outputs": [
    {
     "data": {
      "text/plain": [
       "0.8854780805188243"
      ]
     },
     "execution_count": 59,
     "metadata": {},
     "output_type": "execute_result"
    }
   ],
   "source": [
    "avg_crossHC(lr_fhss_family)"
   ]
  },
  {
   "cell_type": "code",
   "execution_count": 60,
   "metadata": {},
   "outputs": [
    {
     "data": {
      "text/plain": [
       "0.0"
      ]
     },
     "execution_count": 60,
     "metadata": {},
     "output_type": "execute_result"
    }
   ],
   "source": [
    "avg_autoHC(lr_fhss_family)"
   ]
  },
  {
   "cell_type": "code",
   "execution_count": 71,
   "metadata": {},
   "outputs": [
    {
     "data": {
      "text/plain": [
       "3.3441829004329002"
      ]
     },
     "execution_count": 71,
     "metadata": {},
     "output_type": "execute_result"
    }
   ],
   "source": [
    "avg_maxHC(lr_fhss_family)"
   ]
  },
  {
   "cell_type": "code",
   "execution_count": null,
   "metadata": {},
   "outputs": [],
   "source": []
  }
 ],
 "metadata": {
  "kernelspec": {
   "display_name": "base",
   "language": "python",
   "name": "python3"
  },
  "language_info": {
   "codemirror_mode": {
    "name": "ipython",
    "version": 3
   },
   "file_extension": ".py",
   "mimetype": "text/x-python",
   "name": "python",
   "nbconvert_exporter": "python",
   "pygments_lexer": "ipython3",
   "version": "3.10.11"
  },
  "orig_nbformat": 4
 },
 "nbformat": 4,
 "nbformat_minor": 2
}
